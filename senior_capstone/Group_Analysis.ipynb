{
 "cells": [
  {
   "cell_type": "markdown",
   "id": "a6913c83-ea40-45b9-8b23-e3fa7b0fffef",
   "metadata": {},
   "source": [
    "# Data Analysis Notebook (Group Analysis)"
   ]
  },
  {
   "cell_type": "markdown",
   "id": "620bdb3f-040a-4191-98e2-ac9a713d3579",
   "metadata": {},
   "source": [
    "Comparison of P300 Amplitude Between Boundary and Non-Boundary trials: Focused on specific ERP components.\n",
    "\n",
    "Paired T-tests, Graph the group ERPs: Statistical analysis and visualization of ERP data.\n",
    "\n",
    "Topomap with sig electrodes: Spatial analysis of significant electrodes.\n",
    "\n",
    "Correlation analyses: Exploring correlations between EEG and behavioral data."
   ]
  },
  {
   "cell_type": "code",
   "execution_count": 6,
   "id": "88fb9131-b5a7-438a-b39d-a159e9158f4e",
   "metadata": {},
   "outputs": [
    {
     "name": "stderr",
     "output_type": "stream",
     "text": [
      "/var/folders/np/qpdx19z16vj6zqjjk4pnx35r0000gn/T/ipykernel_52523/1323939628.py:25: RuntimeWarning: Mean of empty slice\n",
      "  b_ERP = np.nanmean(b_epochs, axis=0)\n",
      "/var/folders/np/qpdx19z16vj6zqjjk4pnx35r0000gn/T/ipykernel_52523/1323939628.py:26: RuntimeWarning: Mean of empty slice\n",
      "  nb_ERP = np.nanmean(nb_epochs, axis=0)\n"
     ]
    }
   ],
   "source": [
    "# Import functions from previous notebook\n",
    "\n",
    "### creating and ploting individual ERPs\n",
    "%run '/Volumes/ezzyatlab/experiments/NEvent/exp_eeg_v1/eeg_postprocessing/2_Epoching_and_Behavioral_Integration.ipynb'"
   ]
  },
  {
   "cell_type": "code",
   "execution_count": 7,
   "id": "74c111e9-bf17-4328-9efa-72b8f8c44439",
   "metadata": {},
   "outputs": [
    {
     "name": "stdout",
     "output_type": "stream",
     "text": [
      "27\n"
     ]
    }
   ],
   "source": [
    "#List of subjects for group analysis\n",
    "subject_list = ['sub-036', 'sub-037','sub-039', 'sub-040', 'sub-041', 'sub-042', 'sub-043',\n",
    "                'sub-044', 'sub-045','sub-046', 'sub-047', 'sub-048', 'sub-049',\n",
    "                'sub-050','sub-051', 'sub-052','sub-053', 'sub-054','sub-055','sub-056','sub-057',\n",
    "                'sub-058','sub-061','sub-062','sub-064','sub-065','sub-066']\n",
    "\n",
    "#Print out the current # of subjects\n",
    "print(len(subject_list))\n"
   ]
  },
  {
   "cell_type": "markdown",
   "id": "ffe7be9b-a810-42ba-9efd-ade48947acf4",
   "metadata": {},
   "source": [
    "## Calculate P300 Amplitude for Boundary and Non-Boundary trials"
   ]
  },
  {
   "cell_type": "code",
   "execution_count": 9,
   "id": "0ae736a6-1f80-4ba9-a3f2-d988111423e7",
   "metadata": {},
   "outputs": [
    {
     "name": "stdout",
     "output_type": "stream",
     "text": [
      "Opening raw data file /Volumes/ezzyatlab/experiments/NEvent/exp_eeg_v1/sub-036/eeg/postproc/sub-036_filtered_annot_crop.fif...\n"
     ]
    },
    {
     "name": "stderr",
     "output_type": "stream",
     "text": [
      "/var/folders/np/qpdx19z16vj6zqjjk4pnx35r0000gn/T/ipykernel_52523/3098042994.py:7: RuntimeWarning: This filename (/Volumes/ezzyatlab/experiments/NEvent/exp_eeg_v1/sub-036/eeg/postproc/sub-036_filtered_annot_crop.fif) does not conform to MNE naming conventions. All raw files should end with raw.fif, raw_sss.fif, raw_tsss.fif, _meg.fif, _eeg.fif, _ieeg.fif, raw.fif.gz, raw_sss.fif.gz, raw_tsss.fif.gz, _meg.fif.gz, _eeg.fif.gz or _ieeg.fif.gz\n",
      "  raw = mne.io.read_raw_fif(fname)\n"
     ]
    },
    {
     "name": "stdout",
     "output_type": "stream",
     "text": [
      "    Range : 170000 ... 5330000 =    170.000 ...  5330.000 secs\n",
      "Ready.\n",
      "Used Annotations descriptions: ['Bit0/B  1', 'Bit1/B  1', 'Bit2/B  1', 'Bit3/B  1', 'Bit4/B  1', 'Bit5/B  1', 'Bit6/B  1']\n",
      "\n",
      "Event counts: [480 480  15 105 105 270   1]\n",
      "Not setting metadata\n",
      "480 matching events found\n",
      "Setting baseline interval to [-0.1, 0.0] sec\n",
      "Applying baseline correction (mode: mean)\n",
      "0 projection items activated\n",
      "Loading data for 480 events and 1101 original time points ...\n",
      "0 bad epochs dropped\n",
      "/Volumes/ezzyatlab/experiments/NEvent/exp_eeg_v1/eeg_beh_results/mergefile/mergefile_sub-036.csv\n",
      "(480, 53)\n"
     ]
    },
    {
     "ename": "ValueError",
     "evalue": "not enough values to unpack (expected 5, got 4)",
     "output_type": "error",
     "traceback": [
      "\u001b[0;31m---------------------------------------------------------------------------\u001b[0m",
      "\u001b[0;31mValueError\u001b[0m                                Traceback (most recent call last)",
      "\u001b[0;32m/var/folders/np/qpdx19z16vj6zqjjk4pnx35r0000gn/T/ipykernel_52523/3798219747.py\u001b[0m in \u001b[0;36m<cell line: 12>\u001b[0;34m()\u001b[0m\n\u001b[1;32m     17\u001b[0m     \u001b[0mepoch_data\u001b[0m\u001b[0;34m,\u001b[0m \u001b[0mcondition_label\u001b[0m\u001b[0;34m,\u001b[0m \u001b[0mepochs\u001b[0m \u001b[0;34m=\u001b[0m \u001b[0mcreate_epochs\u001b[0m\u001b[0;34m(\u001b[0m\u001b[0mraw\u001b[0m\u001b[0;34m,\u001b[0m\u001b[0mevents\u001b[0m\u001b[0;34m,\u001b[0m \u001b[0mevent_id\u001b[0m\u001b[0;34m)\u001b[0m\u001b[0;34m\u001b[0m\u001b[0;34m\u001b[0m\u001b[0m\n\u001b[1;32m     18\u001b[0m     \u001b[0mmerged_file\u001b[0m\u001b[0;34m,\u001b[0m \u001b[0mbeh_path\u001b[0m\u001b[0;34m=\u001b[0m \u001b[0mload_beh\u001b[0m\u001b[0;34m(\u001b[0m\u001b[0mserver_folder\u001b[0m\u001b[0;34m,\u001b[0m \u001b[0misubj\u001b[0m\u001b[0;34m)\u001b[0m\u001b[0;34m\u001b[0m\u001b[0;34m\u001b[0m\u001b[0m\n\u001b[0;32m---> 19\u001b[0;31m     \u001b[0mb_ERP\u001b[0m\u001b[0;34m,\u001b[0m \u001b[0mnb_ERP\u001b[0m\u001b[0;34m,\u001b[0m \u001b[0melectrode_names\u001b[0m\u001b[0;34m,\u001b[0m \u001b[0mb_epochs\u001b[0m\u001b[0;34m,\u001b[0m \u001b[0mnb_epochs\u001b[0m \u001b[0;34m=\u001b[0m \u001b[0mcreate_indiv_epochs\u001b[0m\u001b[0;34m(\u001b[0m\u001b[0mepochs\u001b[0m\u001b[0;34m,\u001b[0m \u001b[0mevents\u001b[0m\u001b[0;34m,\u001b[0m \u001b[0mevent_id\u001b[0m\u001b[0;34m,\u001b[0m \u001b[0mmerged_file\u001b[0m\u001b[0;34m,\u001b[0m \u001b[0mepoch_data\u001b[0m\u001b[0;34m,\u001b[0m \u001b[0mcondition_label\u001b[0m\u001b[0;34m)\u001b[0m\u001b[0;34m\u001b[0m\u001b[0;34m\u001b[0m\u001b[0m\n\u001b[0m\u001b[1;32m     20\u001b[0m     \u001b[0;31m#Plot individual ERP\u001b[0m\u001b[0;34m\u001b[0m\u001b[0;34m\u001b[0m\u001b[0m\n\u001b[1;32m     21\u001b[0m     \u001b[0;31m#plot_indiv_erps(electrode_names, data_channels, b_ERP, nb_ERP, condition_label, data_folder, isubj)\u001b[0m\u001b[0;34m\u001b[0m\u001b[0;34m\u001b[0m\u001b[0m\n",
      "\u001b[0;31mValueError\u001b[0m: not enough values to unpack (expected 5, got 4)"
     ]
    }
   ],
   "source": [
    "\n",
    "#initiate the arraries dimension\n",
    "nsubjects = len(subject_list)\n",
    "nelectrodes=63\n",
    "samples=1101\n",
    "\n",
    "#Create empty arraries\n",
    "all_b_ERP = np.zeros((nsubjects, nelectrodes, samples))\n",
    "all_nb_ERP = np.zeros((nsubjects, nelectrodes, samples))\n",
    "\n",
    "# do all the stuff above for all subjects in the list\n",
    "for ctr_subj,isubj in enumerate(subject_list):\n",
    "    \n",
    "    raw, data_channels = load_and_process_eeg_data(data_folder, isubj)\n",
    "    events, event_counts, event_id = read_event_markers(raw)\n",
    "    epoch_data, condition_label, epochs = create_epochs(raw,events, event_id)\n",
    "    merged_file, beh_path= load_beh(server_folder, isubj)\n",
    "    b_ERP, nb_ERP, b_epochs, nb_epochs = create_indiv_epochs(epochs, events, event_id, merged_file, epoch_data, condition_label)\n",
    "    #plot_indiv_erps(electrode_names, data_channels, b_ERP, nb_ERP, condition_label, data_folder, isubj)\n",
    "    \n",
    "    # Cube for ERPs for all subjects\n",
    "    all_b_ERP[ctr_subj,:,:] = b_ERP #shape (nsubjects x nelectrodes x time in milliseconds)\n",
    "    all_nb_ERP[ctr_subj,:,:] = nb_ERP\n",
    "\n",
    "#save the results to local directory\n",
    "all_b_ERP_path = '/Volumes/ezzyatlab/experiments/NEvent/exp_eeg_v1/eeg_postprocessing/group_ERPs/group_boundary.npy'\n",
    "all_nb_ERP_path = '/Volumes/ezzyatlab/experiments/NEvent/exp_eeg_v1/eeg_postprocessing/group_ERPs/group_nonboundary.npy'\n",
    "\n",
    "# Save the arrays\n",
    "np.save(all_b_ERP_path, all_b_ERP)\n",
    "np.save(all_nb_ERP_path, all_nb_ERP)"
   ]
  },
  {
   "cell_type": "code",
   "execution_count": 21,
   "id": "e0bc6fb9-bc97-4c1a-a1bb-2e66a9298149",
   "metadata": {},
   "outputs": [
    {
     "name": "stdout",
     "output_type": "stream",
     "text": [
      "(27, 63, 1101)\n",
      "(27, 63, 1101)\n"
     ]
    }
   ],
   "source": [
    "######\n",
    "# load the saved file from local directory\n",
    "all_b_ERP = np.load('/Volumes/ezzyatlab/experiments/NEvent/exp_eeg_v1/eeg_postprocessing/group_ERPs/group_boundary.npy')\n",
    "all_nb_ERP = np.load('/Volumes/ezzyatlab/experiments/NEvent/exp_eeg_v1/eeg_postprocessing/group_ERPs/group_nonboundary.npy')\n",
    "\n",
    "#check the data shape (nsubjects x nelectrodes x time in milliseconds)\n",
    "print(all_b_ERP.shape)\n",
    "print(all_nb_ERP.shape)\n"
   ]
  },
  {
   "cell_type": "code",
   "execution_count": 25,
   "id": "f19de8ff-81a3-469d-9973-c723f0f1e115",
   "metadata": {},
   "outputs": [
    {
     "name": "stdout",
     "output_type": "stream",
     "text": [
      "(27, 63)\n",
      "(27, 63)\n"
     ]
    },
    {
     "name": "stderr",
     "output_type": "stream",
     "text": [
      "/var/folders/np/qpdx19z16vj6zqjjk4pnx35r0000gn/T/ipykernel_52523/2498727636.py:8: RuntimeWarning: Mean of empty slice\n",
      "  all_p3_b= np.nanmean(all_b_ERP[:,:,start_window:end_window],axis=2)\n",
      "/var/folders/np/qpdx19z16vj6zqjjk4pnx35r0000gn/T/ipykernel_52523/2498727636.py:10: RuntimeWarning: Mean of empty slice\n",
      "  all_p3_nb= np.nanmean(all_nb_ERP[:,:,start_window:end_window],axis=2)\n"
     ]
    }
   ],
   "source": [
    "# calculate the mean amplitudes across time window of interests\n",
    "# selected time window: 300-700 ms after stimuli onsets\n",
    "\n",
    "start_window = 400 \n",
    "end_window = 800\n",
    "\n",
    "# Calculate P300 for B, through averaging across time window\n",
    "all_p3_b= np.nanmean(all_b_ERP[:,:,start_window:end_window],axis=2)\n",
    "print(all_p3_b.shape) # shape: participants_num * electrode\n",
    "\n",
    "# Calculate P300 for NB, through averaging across time window\n",
    "all_p3_nb= np.nanmean(all_nb_ERP[:,:,start_window:end_window],axis=2)\n",
    "print(all_p3_nb.shape)"
   ]
  },
  {
   "cell_type": "code",
   "execution_count": 27,
   "id": "0836e6c2-bc78-408e-a716-29a9dab23a63",
   "metadata": {},
   "outputs": [
    {
     "name": "stdout",
     "output_type": "stream",
     "text": [
      "['Fp1', 'Fz', 'F3', 'F7', 'FT9', 'FC5', 'FC1', 'C3', 'T7', 'TP9', 'CP5', 'CP1', 'Pz', 'P3', 'P7', 'O1', 'Oz', 'O2', 'P4', 'P8', 'TP10', 'CP6', 'CP2', 'Cz', 'C4', 'T8', 'FT10', 'FC6', 'FC2', 'F4', 'F8', 'Fp2', 'AF7', 'AF3', 'AFz', 'F1', 'F5', 'FT7', 'FC3', 'C1', 'C5', 'TP7', 'CP3', 'P1', 'P5', 'PO7', 'PO3', 'POz', 'PO4', 'PO8', 'P6', 'P2', 'CPz', 'CP4', 'TP8', 'C6', 'C2', 'FC4', 'FT8', 'F6', 'AF8', 'AF4', 'F2']\n",
      "12\n",
      "all_p3_b\n",
      "[10.43792507  2.71730729  1.39248893  3.90459399  2.92631755  4.68784444\n",
      "  6.59245589 11.7783952   8.95618931  8.15954499  6.38001514  9.94618392\n",
      "  8.30967157  2.90144275  8.60149844 10.94623946  2.8071328  11.30309929\n",
      "  3.57846039  4.33774512  9.0986549   6.04750835 10.90133607  3.98360377\n",
      "  6.1212748   4.63380503 19.3784489 ]\n",
      "all_p3_nb\n",
      "[ 2.24262613 -0.12483981 -0.38585823  0.99154748  3.33712179  2.20969232\n",
      " -1.63958477  1.69541686  1.7930716   2.66258277  2.0039419   1.10152877\n",
      "  0.71178679  1.04673565  1.51234782  3.27332917 -0.22952249  0.21404261\n",
      "  1.12129593  1.42891291  2.97007584  0.02279067  1.77976145  1.47419501\n",
      "  0.34788172  1.51976272  1.3143204 ]\n"
     ]
    }
   ],
   "source": [
    "#set index for the electrode of interests\n",
    "print(data_channels)\n",
    "electrode_of_interest= 'Pz' \n",
    "electrode_index = data_channels.index(electrode_of_interest)  # Find the index of 'Cz'\n",
    "print(electrode_index)\n",
    "\n",
    "#Check the P3 for single electrode for all subjects\n",
    "print('all_p3_b')\n",
    "print(all_p3_b[:, electrode_index])\n",
    "\n",
    "print('all_p3_nb')\n",
    "print(all_p3_nb[:, electrode_index])"
   ]
  },
  {
   "cell_type": "markdown",
   "id": "e709ba4a-15cc-4e8a-8e33-54acbdd6fea1",
   "metadata": {},
   "source": [
    "### Paired T-tests"
   ]
  },
  {
   "cell_type": "code",
   "execution_count": 29,
   "id": "1753bceb-367b-4d2b-a86d-b5a209e60175",
   "metadata": {},
   "outputs": [
    {
     "name": "stdout",
     "output_type": "stream",
     "text": [
      "Electrode: Fp1, T-stat: -0.8227, P-val: 0.4181\n",
      "Electrode: Fz, T-stat: 2.2711, P-val: 0.0317 *\n",
      "Electrode: F3, T-stat: -0.8707, P-val: 0.3933\n",
      "Electrode: F7, T-stat: -0.2801, P-val: 0.7816\n",
      "Electrode: FT9, T-stat: -0.0669, P-val: 0.9471\n",
      "Electrode: FC5, T-stat: 0.9425, P-val: 0.3546\n",
      "Electrode: FC1, T-stat: 3.9344, P-val: 0.0006 *\n",
      "Electrode: C3, T-stat: 4.1135, P-val: 0.0003 *\n",
      "Electrode: T7, T-stat: 0.9503, P-val: 0.3507\n",
      "Electrode: TP9, T-stat: 0.2526, P-val: 0.8026\n",
      "Electrode: CP5, T-stat: 3.9836, P-val: 0.0005 *\n",
      "Electrode: CP1, T-stat: 6.9725, P-val: 0.0000 *\n",
      "Electrode: Pz, T-stat: 7.8250, P-val: 0.0000 *\n",
      "Electrode: P3, T-stat: 6.9820, P-val: 0.0000 *\n",
      "Electrode: P7, T-stat: 4.9436, P-val: 0.0000 *\n",
      "Electrode: O1, T-stat: 6.1345, P-val: 0.0000 *\n",
      "Electrode: Oz, T-stat: 4.2429, P-val: 0.0002 *\n",
      "Electrode: O2, T-stat: 4.4678, P-val: 0.0001 *\n",
      "Electrode: P4, T-stat: 6.8828, P-val: 0.0000 *\n",
      "Electrode: P8, T-stat: 2.8394, P-val: 0.0089 *\n",
      "Electrode: TP10, T-stat: -1.1809, P-val: 0.2483\n",
      "Electrode: CP6, T-stat: 3.6671, P-val: 0.0011 *\n",
      "Electrode: CP2, T-stat: 6.2417, P-val: 0.0000 *\n",
      "Electrode: Cz, T-stat: 6.2919, P-val: 0.0000 *\n",
      "Electrode: C4, T-stat: 3.6568, P-val: 0.0011 *\n",
      "Electrode: T8, T-stat: 1.4466, P-val: 0.1643\n",
      "Electrode: FT10, T-stat: -2.8563, P-val: 0.0083 *\n",
      "Electrode: FC6, T-stat: -0.2935, P-val: 0.7715\n",
      "Electrode: FC2, T-stat: 3.7854, P-val: 0.0008 *\n",
      "Electrode: F4, T-stat: 0.2849, P-val: 0.7780\n",
      "Electrode: F8, T-stat: -2.2303, P-val: 0.0346 *\n",
      "Electrode: Fp2, T-stat: -1.2296, P-val: 0.2299\n",
      "Electrode: AF7, T-stat: -0.5267, P-val: 0.6029\n",
      "Electrode: AF3, T-stat: -0.1533, P-val: 0.8794\n",
      "Electrode: AFz, T-stat: 0.1491, P-val: 0.8826\n",
      "Electrode: F1, T-stat: 1.8696, P-val: 0.0728\n",
      "Electrode: F5, T-stat: 0.1336, P-val: 0.8948\n",
      "Electrode: FT7, T-stat: 0.2199, P-val: 0.8278\n",
      "Electrode: FC3, T-stat: 2.2798, P-val: 0.0314 *\n",
      "Electrode: C1, T-stat: 5.6258, P-val: 0.0000 *\n",
      "Electrode: C5, T-stat: 2.0167, P-val: 0.0542\n",
      "Electrode: TP7, T-stat: 2.4585, P-val: 0.0212 *\n",
      "Electrode: CP3, T-stat: 5.6810, P-val: 0.0000 *\n",
      "Electrode: P1, T-stat: 9.1966, P-val: 0.0000 *\n",
      "Electrode: P5, T-stat: 6.2087, P-val: 0.0000 *\n",
      "Electrode: PO7, T-stat: 6.1622, P-val: 0.0000 *\n",
      "Electrode: PO3, T-stat: 6.6586, P-val: 0.0000 *\n",
      "Electrode: POz, T-stat: 7.4723, P-val: 0.0000 *\n",
      "Electrode: PO4, T-stat: 6.7393, P-val: 0.0000 *\n",
      "Electrode: PO8, T-stat: 4.7476, P-val: 0.0001 *\n",
      "Electrode: P6, T-stat: 6.0972, P-val: 0.0000 *\n",
      "Electrode: P2, T-stat: 7.3883, P-val: 0.0000 *\n",
      "Electrode: CPz, T-stat: 0.2503, P-val: 0.8043\n",
      "Electrode: CP4, T-stat: 5.9784, P-val: 0.0000 *\n",
      "Electrode: TP8, T-stat: 1.0675, P-val: 0.2956\n",
      "Electrode: C6, T-stat: 1.5091, P-val: 0.1433\n",
      "Electrode: C2, T-stat: 5.3472, P-val: 0.0000 *\n",
      "Electrode: FC4, T-stat: 1.8442, P-val: 0.0766\n",
      "Electrode: FT8, T-stat: -1.1836, P-val: 0.2473\n",
      "Electrode: F6, T-stat: -0.9777, P-val: 0.3372\n",
      "Electrode: AF8, T-stat: -2.2182, P-val: 0.0355 *\n",
      "Electrode: AF4, T-stat: -0.6060, P-val: 0.5497\n",
      "Electrode: F2, T-stat: 1.7721, P-val: 0.0881\n"
     ]
    }
   ],
   "source": [
    "# Run the Paired T-Test\n",
    "(tstat,pval) = spst.ttest_rel(all_p3_b,\n",
    "                              all_p3_nb,\n",
    "                              axis=0, nan_policy='omit')\n",
    "\n",
    "# Initialize an empty list to store electrode names with pval < 0.05\n",
    "significant_electrodes = []\n",
    "\n",
    "# Print the results, and create a list of significant_electrodes\n",
    "for i, name in enumerate(data_channels):\n",
    "    # Check if the p-value is less than 0.05\n",
    "    if pval[i] < 0.05:\n",
    "        print(f\"Electrode: {name}, T-stat: {tstat[i]:.4f}, P-val: {pval[i]:.4f} *\")\n",
    "        significant_electrodes.append(True)\n",
    "    else:\n",
    "        print(f\"Electrode: {name}, T-stat: {tstat[i]:.4f}, P-val: {pval[i]:.4f}\")\n",
    "        significant_electrodes.append(False)\n"
   ]
  },
  {
   "cell_type": "markdown",
   "id": "64bce0dd-c2eb-413b-bf62-a68c17e877bf",
   "metadata": {},
   "source": [
    "### Graph the grand ERPs"
   ]
  },
  {
   "cell_type": "code",
   "execution_count": 30,
   "id": "710922df-7b39-4b9f-ada0-8b28670921fd",
   "metadata": {},
   "outputs": [],
   "source": [
    "# calculate grand_ERPs (ERP average across all participants)\n",
    "grand_ERP_nb = np.nanmean (group_nonboundary, axis=0) #(electrodes) * time points (63, 1101)\n",
    "grand_ERP_b = np.nanmean (group_boundary, axis=0) "
   ]
  },
  {
   "cell_type": "markdown",
   "id": "8aec462b-a146-4bc4-843e-c2f775dd5ae6",
   "metadata": {},
   "source": [
    "#### Count the NA electrodes"
   ]
  },
  {
   "cell_type": "code",
   "execution_count": 31,
   "id": "aca40106-2806-47d5-b50c-622bf257ba78",
   "metadata": {},
   "outputs": [],
   "source": [
    "# Assuming group_nonboundary has the shape (participants, electrodes, time points)\n",
    "number_of_electrodes = group_nonboundary.shape[1]\n",
    "\n",
    "# Initialize a 2D array to store the electrode index and the count of non-NaN participants\n",
    "count_per_electrode = np.zeros((number_of_electrodes, 2), dtype=int)\n",
    "\n",
    "# Iterate over all electrodes\n",
    "for electrode in range(number_of_electrodes):\n",
    "    # Count the number of non-NaN participants for this electrode\n",
    "    count = (~np.isnan(group_nonboundary[:, electrode, :])).all(axis=1).sum()\n",
    "    count_per_electrode[electrode] = [electrode, count]\n",
    "\n",
    "# Now non_nan_count_per_electrode is a 2D array with the first column as electrode index\n",
    "# and the second column as the count of non-NaN participants for that electrode\n",
    "#print(\"Count of each electrode\")\n",
    "#print(count_per_electrode)"
   ]
  },
  {
   "cell_type": "markdown",
   "id": "cff54479-897b-4e11-824b-3a3d9f1f557b",
   "metadata": {},
   "source": [
    "#### Calculate the error bars"
   ]
  },
  {
   "cell_type": "code",
   "execution_count": 32,
   "id": "f3add8d6-4cd6-4a95-8f90-6e3c3518e4c4",
   "metadata": {},
   "outputs": [],
   "source": [
    "import math\n",
    "\n",
    "# shape should be (number_of_electrodes, number_of_time_points)\n",
    "std_nb = np.nanstd(group_nonboundary, axis=0, ddof=1)  \n",
    "std_b = np.nanstd(group_boundary, axis=0, ddof=1)  \n",
    "# Assuming std is correctly calculated before this snippet\n",
    "grand_ERP_nb_errorbar = np.zeros_like(std_nb) \n",
    "grand_ERP_b_errorbar = np.zeros_like(std_b) \n",
    "\n",
    "## nonboundary_errorbar\n",
    "for electrode in range(len(count_per_electrode)):\n",
    "    count = count_per_electrode[electrode, 1]  # Access the count for the electrode\n",
    "    grand_ERP_nb_errorbar[electrode, :] = std_nb[electrode, :] / math.sqrt(count)\n",
    "    #print(f\"In nb condition, electrode {electrode} has {count} valid (non-NaN) observations.\")\n",
    "\n",
    "\n",
    "## boundary_errorbar\n",
    "for electrode in range(len(count_per_electrode)):\n",
    "    count = count_per_electrode[electrode, 1]  # Access the count for the electrode\n",
    "    grand_ERP_b_errorbar[electrode, :] = std_b[electrode, :] / math.sqrt(count)\n",
    "    #print(f\"In b boundition, Electrode {electrode} has {count} valid (non-NaN) observations.\")"
   ]
  },
  {
   "cell_type": "markdown",
   "id": "d836d742-7229-4607-b423-a17db8096cce",
   "metadata": {},
   "source": [
    "#### Graph the Grand ERPs (with error bar)"
   ]
  },
  {
   "cell_type": "code",
   "execution_count": null,
   "id": "4e1e3be7-dda7-4f43-bdb0-b6e6bf72c170",
   "metadata": {},
   "outputs": [],
   "source": [
    "import seaborn as sns\n",
    "import matplotlib.patches as mpatches\n",
    "\n",
    "# Set Seaborn style\n",
    "sns.set_style(\"whitegrid\")\n",
    "\n",
    "time_points = np.arange(grand_ERP_nb.shape[1])  # Assuming time points are linearly spaced\n",
    "\n",
    "## grand_ERPs without error bars\n",
    "fig, axs = plt.subplots(nrows=2, ncols=4, figsize=(20, 10)) \n",
    "\n",
    "# Flatten the axs array for easy iteration\n",
    "axs = axs.flatten()\n",
    "\n",
    "for ax, electrode in zip(axs, electrode_names):\n",
    "    electrode_idx = np.array(data_channels) == electrode\n",
    "    # Extract the mean ERP and SEM for the current electrode\n",
    "    mean_erp_b = grand_ERP_b[electrode_idx, :].flatten()\n",
    "    sem_b = grand_ERP_b_errorbar[electrode_idx, :].flatten()\n",
    "    \n",
    "    mean_erp_nb = grand_ERP_nb[electrode_idx, :].flatten()\n",
    "    sem_nb = grand_ERP_nb_errorbar[electrode_idx, :].flatten()\n",
    "    \n",
    "    # Plot mean ERP for boundary condition\n",
    "    ax.plot(time_points, mean_erp_b, label='Boundary')\n",
    "    # Add shaded SEM area for boundary condition\n",
    "    ax.fill_between(time_points, mean_erp_b - sem_b, mean_erp_b + sem_b, alpha=0.2)\n",
    "    \n",
    "    # Plot mean ERP for nonboundary condition\n",
    "    ax.plot(time_points, mean_erp_nb, label='NonBoundary')\n",
    "    # Add shaded SEM area for nonboundary condition\n",
    "    ax.fill_between(time_points, mean_erp_nb - sem_nb, mean_erp_nb + sem_nb, alpha=0.2)\n",
    "    \n",
    "    # Set the rest of the plot attributes\n",
    "    ax.legend()\n",
    "    ax.set_xlabel('Time Rel. Stimulus Onset (ms)')\n",
    "    ax.set_ylabel('Voltage $\\mu$V')\n",
    "    ax.set_xticks([0, 100, 200, 400, 600, 800, 1000])  # Ensure these match your data\n",
    "    ax.set_xticklabels([-100, 0, 100, 300, 500, 700, 900])  # Ensure these match your data\n",
    "    ax.set_title(f'{condition_label}_{electrode}')\n",
    "    ax.set_ylim(-10, 20)\n",
    "    legend = ax.get_legend()\n",
    "    if legend:\n",
    "        legend.remove()\n",
    "        \n",
    "    # After plotting is done for all electrodes, create a legend for the error bars only\n",
    "    boundary_patch = mpatches.Patch(color='blue', label='Boundary Error')\n",
    "    nonboundary_patch = mpatches.Patch(color='orange',label='NonBoundary Error')\n",
    "    # Add the custom legend to the current subplot\n",
    "    ax.legend(handles=[boundary_patch, nonboundary_patch])\n",
    "    \n",
    "# Save and show the figure\n",
    "figure_fname = os.path.join(data_folder, 'eeg_postprocessing', 'group_ERPs', 'Grand_ERPs_All_Electrodes_with_Error_Bars.pdf')\n",
    "plt.savefig(figure_fname, bbox_inches='tight')"
   ]
  },
  {
   "cell_type": "markdown",
   "id": "6c3ecd16-c470-4c35-93ef-1a77626464ee",
   "metadata": {},
   "source": [
    "#### grand_ERPs without error bars"
   ]
  },
  {
   "cell_type": "code",
   "execution_count": null,
   "id": "23c833a4-d90e-4978-986a-248bbf201b00",
   "metadata": {},
   "outputs": [],
   "source": [
    "## grand_ERPs without error bars\n",
    "fig, axs = plt.subplots(nrows=2, ncols=4, figsize=(20, 10)) \n",
    "\n",
    "# Flatten the axs array for easy iteration\n",
    "axs = axs.flatten()\n",
    "\n",
    "for ax, electrode in zip(axs, electrode_names):\n",
    "    electrode_idx = np.array(data_channels) == electrode\n",
    "    ax.plot(grand_ERP_b[electrode_idx,:].T)\n",
    "    ax.plot(grand_ERP_nb[electrode_idx,:].T) # nb_ERP[electrode_idx,:].squeeze()\n",
    "    ax.legend(['Boundary','NonBoundary'])\n",
    "    ax.set_xlabel('Time Rel. Stimulus Onset (ms)'); \n",
    "    ax.set_ylabel('Voltage $\\mu$V');\n",
    "    ax.set_xticks([0,100,200,400,600,800,1000]); #time point of the vector\n",
    "    ax.set_xticklabels([-100,0,100,300,500,700,900]); #actural time point\n",
    "    ax.set_title(f'{condition_label}_{electrode}')\n",
    "    ax.set_ylim(-10, 20)\n",
    "\n",
    "# Remove unused subplots when cols are not filled\n",
    "for i in range(len(electrode_names), len(axs)):\n",
    "    fig.delaxes(axs[i])\n",
    "\n",
    "# Adjust the space between the subplots\n",
    "plt.subplots_adjust(wspace=0.3, hspace=0.3)\n",
    "\n",
    "figure_fname = os.path.join(data_folder, 'eeg_postprocessing','group_ERPs' ,\n",
    "                            f'Grand_ERPs_All_Electrodes.pdf')\n",
    "# save the file \n",
    "plt.savefig(figure_fname, bbox_inches='tight')"
   ]
  },
  {
   "cell_type": "markdown",
   "id": "362c4349-3203-44ea-a809-2eced2a25c18",
   "metadata": {},
   "source": [
    "## Topomap with sig electrodes"
   ]
  },
  {
   "cell_type": "code",
   "execution_count": null,
   "id": "05181415-c419-412e-9db2-15eb8be78415",
   "metadata": {},
   "outputs": [],
   "source": [
    "# calculate grand_mean (P300 amplitude average across all participants)\n",
    "grand_mean_diff = np.mean(grand_ERP_b [:,start_window:end_window],axis=1)- np.mean(grand_ERP_nb [:,start_window:end_window],axis=1)\n",
    "\n",
    "# exclude broken electrode\n",
    "grand_mean_diff[25]=0 #broken electrodes\n",
    "grand_mean_diff[2]=0\n",
    "\n",
    "#adjust the unit\n",
    "grand_mean_diff=grand_mean_diff/1e6\n",
    "\n",
    "#print out the difference\n",
    "grand_mean_diff"
   ]
  },
  {
   "cell_type": "code",
   "execution_count": null,
   "id": "41170c54-9ba2-420c-b0b8-e978de482537",
   "metadata": {},
   "outputs": [],
   "source": [
    "info = raw.info\n",
    "\n",
    "# Create the EvokedArray, ensuring grand_mean_b is 2D (n_channels, 1)\n",
    "grand_mean_2d = grand_mean_diff[:, np.newaxis]  # Add an axis to make it 2D\n",
    "\n",
    "# Create the Evoked object\n",
    "evoked_grand_mean = mne.EvokedArray(grand_mean_2d, info, tmin=0)\n",
    "\n",
    "# Define a threshold and create the mask\n",
    "#mask = evoked_grand_mean.data > 1e-13\n",
    "significant_electrodes=np.array(significant_electrodes)\n",
    "mask=significant_electrodes.reshape((63,1))\n",
    "\n",
    "mask_params = dict(markersize=6, markerfacecolor=\"y\")\n",
    "\n",
    "# Plot the topomap for the grand mean across participants\n",
    "\n",
    "\n",
    "im = evoked_grand_mean.plot_topomap(times=[0], ch_type='eeg', time_unit='s', colorbar=True,\n",
    "                               mask=mask, mask_params=mask_params)\n",
    "\n",
    "im.axes[0].set_title('300-700ms')\n",
    "#plt.show()\n",
    "figure_fname = os.path.join(data_folder, 'eeg_postprocessing', 'topo_maps',\n",
    "                            f'Topo_maps_sig_electrodes.pdf')\n",
    "\n",
    "# save the file \n",
    "plt.savefig(figure_fname, bbox_inches='tight')\n",
    "\n",
    "# Close the figure window\n",
    "plt.close()  "
   ]
  },
  {
   "cell_type": "markdown",
   "id": "8accd839-1aae-4506-8a8a-0dcac0ba871b",
   "metadata": {},
   "source": [
    "## Does the group_boundary - group_nonboundary negatively correlate with the b-nb temporal order? "
   ]
  },
  {
   "cell_type": "markdown",
   "id": "b8b0b048-5241-4739-b48c-fe3dd7bbb04e",
   "metadata": {},
   "source": [
    "But maybe not at all the electrodes? Pz?"
   ]
  },
  {
   "cell_type": "code",
   "execution_count": 33,
   "id": "88964297-f606-48ce-9d92-856d068cca1d",
   "metadata": {},
   "outputs": [
    {
     "name": "stdout",
     "output_type": "stream",
     "text": [
      "[ 5.77340218  2.72445218  2.1860605   3.01856793 -0.6991043   1.57177195\n",
      "  6.96855339  4.21400397  4.41171296  4.33764029  1.1282172   7.56123146\n",
      "  5.0658768  -0.02776577  6.69687263  7.02566108  2.67091255  9.39995692\n",
      "  2.48298276  2.1133045   6.23012912  3.17128643  8.20249837  0.78999568\n",
      "  8.40141255  2.93700568 15.32669281]\n"
     ]
    }
   ],
   "source": [
    "# Calculate the difference in mean amplitudes between conditions\n",
    "difference_b_nb = all_p3_b - all_p3_nb # with a shape (subject, electrodes)\n",
    "difference_b_nb.shape\n",
    " \n",
    "#print the difference for specific electrode\n",
    "print(difference_b_nb[:,18])"
   ]
  },
  {
   "cell_type": "code",
   "execution_count": null,
   "id": "0c46adc5-3ee2-4b42-b761-951d3c4848ec",
   "metadata": {},
   "outputs": [],
   "source": [
    "# load beh_temporal_order file \n",
    "beh_order_accuracy = pd.read_csv('/Volumes/ezzyatlab/experiments/NEvent/exp_eeg_v1/eeg_beh_results/group_results/order_accuracy.csv')\n",
    "#print(beh_order_accuracy.shape) \n",
    "\n",
    "#calculate beh B-NB\n",
    "beh_order_accuracy['B-NB'] = (beh_order_accuracy['B'] - beh_order_accuracy['NB'])\n",
    "#beh_order_accuracy['B-NB'] = ((beh_order_accuracy['B'] - beh_order_accuracy['NB']))/beh_order_accuracy['NB']\n",
    "\n",
    "#remove any subject in the beh data but not in the eeg subject list\n",
    "\n",
    "beh_order_accuracy['Subject']= [\"sub-0\" + s.split()[1] for s in beh_order_accuracy['Subject']]\n",
    "beh_order_accuracy = beh_order_accuracy[beh_order_accuracy['Subject'].isin(subject_list)]\n",
    "\n",
    "#check if the leng of the lists matched\n",
    "print(\"those two numbers should be the same\")\n",
    "print(len(subject_list))\n",
    "print(len(beh_order_accuracy['Subject'])) # those two numbers should be the same\n",
    "beh_order_accuracy.head(30)"
   ]
  },
  {
   "cell_type": "code",
   "execution_count": null,
   "id": "1d2f5cf2-eaf6-46b5-92b9-8e310d5a03f7",
   "metadata": {},
   "outputs": [],
   "source": [
    "correlation_results = {}\n",
    "from scipy.stats import pearsonr\n",
    "\n",
    "# Iterate over each electrode\n",
    "for i, electrode in enumerate(data_channels):\n",
    "    # Extract the difference scores for this electrode across subjects\n",
    "    diff_scores = difference_b_nb[:, i]\n",
    "    \n",
    "    # filter out the NaNs\n",
    "    valid_indices = ~np.isnan(diff_scores) & ~np.isnan(beh_order_accuracy['B-NB'])\n",
    "    diff_scores_filtered = diff_scores[valid_indices]\n",
    "    beh_order_accuracy_filtered = beh_order_accuracy['B-NB'][valid_indices]\n",
    "    \n",
    "    #Run the correlation\n",
    "    if len(diff_scores_filtered) > 1:  # Ensure there are at least two data points\n",
    "        correlation, p_value = pearsonr(diff_scores_filtered, beh_order_accuracy_filtered)\n",
    "        \n",
    "        # Store the results\n",
    "        correlation_results[electrode] = (correlation, p_value)\n",
    "    else:\n",
    "        correlation_results[electrode] = (np.nan, np.nan)  # Handle case with insufficient data\n",
    "\n",
    "# print the correlation results\n",
    "for electrode, (correlation, p_value) in correlation_results.items():\n",
    "    print(f\"Electrode: {electrode}, Correlation: {correlation:.4f}, P-value: {p_value:.4f}\")"
   ]
  },
  {
   "cell_type": "code",
   "execution_count": null,
   "id": "755e5aae-849d-44e5-9a6b-cd24ac493ab9",
   "metadata": {},
   "outputs": [],
   "source": [
    "import matplotlib.pyplot as plt\n",
    "\n",
    "electrode_of_interest= ['Cz','Fz','Pz','P3','P4']\n",
    "\n",
    "# Setup for plotting exactly 6 plots\n",
    "num_plots = len(electrode_of_interest)\n",
    "num_cols = 3  # Set the number of columns to 3 for 6 plots to be arranged in 2 rows\n",
    "num_rows = 2  # Two rows to accommodate 6 plots\n",
    "\n",
    "# Create a large figure to hold all subplots\n",
    "plt.figure(figsize=(num_cols * 5, num_rows * 5))\n",
    "\n",
    "# Iterate over each electrode of interest to create a subplot for each\n",
    "for i, electrode in enumerate(electrode_of_interest):\n",
    "    ax = plt.subplot(num_rows, num_cols, i + 1)\n",
    "    \n",
    "    # Find the index of the current electrode in the data_channels list\n",
    "    electrode_index = data_channels.index(electrode)\n",
    "    \n",
    "    # Extract the difference scores for this electrode across subjects\n",
    "    diff_scores = difference_b_nb[:, electrode_index]\n",
    "    \n",
    "    # Scatter plot of difference scores vs. B-NB accuracy scores\n",
    "    ax.scatter(diff_scores, beh_order_accuracy['B-NB'], alpha=0.7)\n",
    "    \n",
    "    # Annotate the plot with the correlation coefficient and p-value\n",
    "    # Ensure that correlation and p_value are correctly retrieved for each electrode\n",
    "    correlation, p_value = correlation_results[electrode]\n",
    "    ax.text(0.05, 0.95, f'r={correlation:.4f}, p={p_value:.4f}', transform=ax.transAxes, \n",
    "            verticalalignment='top', bbox=dict(boxstyle='round', facecolor='wheat', alpha=0.5))\n",
    "    \n",
    "    # Set plot titles and labels\n",
    "    ax.set_title(f\"Electrode: {electrode}\")\n",
    "    ax.set_xlabel('Difference B-NB (μV)')\n",
    "    ax.set_ylabel('B-NB Score (%)')\n",
    "\n",
    "# Ensure a clean layout\n",
    "plt.tight_layout()\n",
    "\n",
    "\n",
    "figure_fname = os.path.join(data_folder, 'eeg_postprocessing','correlation','order_correlation.pdf')\n",
    "# save the file \n",
    "plt.savefig(figure_fname)"
   ]
  },
  {
   "cell_type": "code",
   "execution_count": null,
   "id": "6bd8487b-0e7d-43dc-b636-f07921215e46",
   "metadata": {},
   "outputs": [],
   "source": [
    "diff_scores = difference_b_nb[:, 23]\n",
    "print(diff_scores)"
   ]
  },
  {
   "cell_type": "markdown",
   "id": "bfb848d2-8811-448e-b47a-f2831c74ad81",
   "metadata": {},
   "source": [
    "### Does the group_boundary - group_nonboundary negatively correlate with the b-nb source memory? "
   ]
  },
  {
   "cell_type": "markdown",
   "id": "19e38855-2cb2-4f9e-8d28-9425d5da753a",
   "metadata": {},
   "source": [
    "But maybe not at all the electrodes? Pz?"
   ]
  },
  {
   "cell_type": "code",
   "execution_count": null,
   "id": "1bb1224f-d2db-47a5-b080-8bf438d03e08",
   "metadata": {},
   "outputs": [],
   "source": [
    "# load beh_temporal_order file \n",
    "beh_source_accuracy = pd.read_csv('/Volumes/ezzyatlab/experiments/NEvent/exp_eeg_v1/eeg_beh_results/group_results/source_accuracy.csv')\n",
    "#print(beh_order_accuracy.shape) \n",
    "\n",
    "#calculate beh B-NB\n",
    "beh_source_accuracy['B-NB'] = (beh_source_accuracy['B'] - beh_source_accuracy['NB'])\n",
    "#\n",
    "#beh_order_accuracy['B-NB'] = ((beh_order_accuracy['B'] - beh_order_accuracy['NB']))/beh_order_accuracy['NB']\n",
    "\n",
    "#remove any subject in the beh data but not in the eeg subject list\n",
    "\n",
    "beh_source_accuracy['Subject']= [\"sub-0\" + s.split()[1] for s in beh_source_accuracy['Subject']]\n",
    "\n",
    "#remove any subject in the beh data but not in the eeg subject list\n",
    "beh_source_accuracy = beh_source_accuracy[beh_source_accuracy['Subject'].isin(subject_list)]\n",
    "print(len(subject_list))\n",
    "print(len(beh_source_accuracy['Subject'])) # those two numbers should be the same\n",
    "beh_source_accuracy.head(5)"
   ]
  },
  {
   "cell_type": "code",
   "execution_count": null,
   "id": "88893d8f-1303-4982-a069-81408e655a3d",
   "metadata": {},
   "outputs": [],
   "source": [
    "correlation_results = {}\n",
    "from scipy.stats import pearsonr\n",
    "\n",
    "# Iterate over each electrode\n",
    "for i, electrode in enumerate(data_channels):\n",
    "    # Extract the difference scores for this electrode across subjects\n",
    "    diff_amplitude = difference_b_nb[:, i]\n",
    "    \n",
    "    # filter out the NaNs\n",
    "    valid_indices = ~np.isnan(diff_scores) & ~np.isnan(beh_source_accuracy['B-NB'])\n",
    "    diff_scores_filtered = diff_scores[valid_indices]\n",
    "    beh_source_accuracy_filtered = beh_source_accuracy['B-NB'][valid_indices]\n",
    "    \n",
    "    #Run the correlation\n",
    "    if len(diff_scores_filtered) > 1:  # Ensure there are at least two data points\n",
    "        correlation, p_value = pearsonr(diff_scores_filtered, beh_source_accuracy_filtered)\n",
    "        \n",
    "        # Store the results\n",
    "        correlation_results[electrode] = (correlation, p_value)\n",
    "    else:\n",
    "        correlation_results[electrode] = (np.nan, np.nan)  # Handle case with insufficient data\n",
    "\n",
    "\n",
    "# print the correlation results\n",
    "for electrode, (correlation, p_value) in correlation_results.items():\n",
    "    print(f\"Electrode: {electrode}, Correlation: {correlation:.4f}, P-value: {p_value:.4f}\")\n",
    "    \n",
    "---\n",
    "correlation_results = {}\n",
    "from scipy.stats import pearsonr\n",
    "\n",
    "# Iterate over each electrode\n",
    "for i, electrode in enumerate(data_channels):\n",
    "    # Extract the difference scores for this electrode across subjects\n",
    "    diff_scores = difference_b_nb[:, i]\n",
    "    \n",
    "    # filter out the NaNs\n",
    "    valid_indices = ~np.isnan(diff_scores) & ~np.isnan(beh_order_accuracy['B-NB'])\n",
    "    diff_scores_filtered = diff_scores[valid_indices]\n",
    "    beh_order_accuracy_filtered = beh_order_accuracy['B-NB'][valid_indices]\n",
    "    \n",
    "    #Run the correlation\n",
    "    if len(diff_scores_filtered) > 1:  # Ensure there are at least two data points\n",
    "        correlation, p_value = pearsonr(diff_scores_filtered, beh_order_accuracy_filtered)\n",
    "        \n",
    "        # Store the results\n",
    "        correlation_results[electrode] = (correlation, p_value)\n",
    "    else:\n",
    "        correlation_results[electrode] = (np.nan, np.nan)  # Handle case with insufficient data\n",
    "\n",
    "# print the correlation results\n",
    "for electrode, (correlation, p_value) in correlation_results.items():\n",
    "    print(f\"Electrode: {electrode}, Correlation: {correlation:.4f}, P-value: {p_value:.4f}\")"
   ]
  },
  {
   "cell_type": "code",
   "execution_count": null,
   "id": "5cf83220-e626-485b-ac0f-a72b3f76d1b1",
   "metadata": {},
   "outputs": [],
   "source": [
    "electrode_of_interest= ['Cz','Fz','Pz','P3','P4']\n",
    "\n",
    "# Setup for plotting exactly 6 plots\n",
    "num_plots = len(electrode_of_interest)\n",
    "num_cols = 3  # Set the number of columns to 3 for 6 plots to be arranged in 2 rows\n",
    "num_rows = 2  # Two rows to accommodate 6 plots\n",
    "\n",
    "# Create a large figure to hold all subplots\n",
    "plt.figure(figsize=(num_cols * 5, num_rows * 5))\n",
    "\n",
    "# Iterate over each electrode of interest to create a subplot for each\n",
    "for i, electrode in enumerate(electrode_of_interest):\n",
    "    ax = plt.subplot(num_rows, num_cols, i + 1)\n",
    "    \n",
    "    # Find the index of the current electrode in the data_channels list\n",
    "    electrode_index = data_channels.index(electrode)\n",
    "    \n",
    "    # Extract the difference scores for this electrode across subjects\n",
    "    diff_scores = difference_b_nb[:, electrode_index]\n",
    "    \n",
    "    # Scatter plot of difference scores vs. B-NB accuracy scores\n",
    "    ax.scatter(diff_scores, beh_source_accuracy['B-NB'], alpha=0.7)\n",
    "    \n",
    "    # Annotate the plot with the correlation coefficient and p-value\n",
    "    # Ensure that correlation and p_value are correctly retrieved for each electrode\n",
    "    correlation, p_value = correlation_results[electrode]\n",
    "    ax.text(0.05, 0.95, f'r={correlation:.4f}, p={p_value:.4f}', transform=ax.transAxes, \n",
    "            verticalalignment='top', bbox=dict(boxstyle='round', facecolor='wheat', alpha=0.5))\n",
    "    \n",
    "    # Set plot titles and labels\n",
    "    ax.set_title(f\"Electrode: {electrode}\")\n",
    "    ax.set_xlabel('Difference B-NB (μV)')\n",
    "    ax.set_ylabel('B-NB Source accuracy (%)')\n",
    "\n",
    "# Ensure a clean layout\n",
    "plt.tight_layout()\n",
    "\n",
    "\n",
    "figure_fname = os.path.join(data_folder, 'correlation_Source.pdf')\n",
    "# save the file \n",
    "plt.savefig(figure_fname)"
   ]
  }
 ],
 "metadata": {
  "kernelspec": {
   "display_name": "Python 3 (ipykernel)",
   "language": "python",
   "name": "python3"
  },
  "language_info": {
   "codemirror_mode": {
    "name": "ipython",
    "version": 3
   },
   "file_extension": ".py",
   "mimetype": "text/x-python",
   "name": "python",
   "nbconvert_exporter": "python",
   "pygments_lexer": "ipython3",
   "version": "3.10.8"
  }
 },
 "nbformat": 4,
 "nbformat_minor": 5
}
