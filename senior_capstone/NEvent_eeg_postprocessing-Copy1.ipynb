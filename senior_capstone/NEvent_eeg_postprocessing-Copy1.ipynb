{
 "cells": [
  {
   "cell_type": "markdown",
   "id": "590684eb",
   "metadata": {},
   "source": [
    "## NEvent Data Post-Processing\n"
   ]
  },
  {
   "cell_type": "code",
   "execution_count": 1,
   "id": "0493affb",
   "metadata": {
    "tags": []
   },
   "outputs": [
    {
     "name": "stdout",
     "output_type": "stream",
     "text": [
      "\n",
      "MNE-Python Version: 1.3.0\n",
      "\n"
     ]
    }
   ],
   "source": [
    "# First, load the necessary packages\n",
    "import os\n",
    "import numpy as np\n",
    "import glob as glob\n",
    "import mne\n",
    "import matplotlib\n",
    "matplotlib.use('Qt5Agg')\n",
    "import matplotlib.pyplot as plt\n",
    "import scipy as sp\n",
    "import scipy.stats as spst\n",
    "import pandas as pd\n",
    "import sys\n",
    "import time\n",
    "import joblib\n",
    "\n",
    "# Determine which computer you're running on, setting the /mindstore/ezzyatlab \n",
    "# server location accordingly\n",
    "import socket\n",
    "if socket.gethostname() == 'Youssefs-iMac.local': # home office\n",
    "    server_folder = '/Volumes/ezzyatlab/'\n",
    "elif socket.gethostname() == 'Youssefs-MacBook-Air.local': # laptop\n",
    "    server_folder = '/Volumes/ezzyatlab/'\n",
    "elif socket.gethostname() == 'yezzyat-21': # lab office\n",
    "    server_folder = '/Volumes/ezzyatlab/'\n",
    "else:\n",
    "    server_folder = '/Volumes/ezzyatlab/'\n",
    "\n",
    "# Using the server location, load a library of lab code to be used\n",
    "# for post-processing\n",
    "\n",
    "sys.path.append(server_folder + 'labutils/') \n",
    "sys.path.append(server_folder + 'labutils/scalpeeg/') \n",
    "\n",
    "#exp_folder = server_folder + 'experiments/NEvent/'\n",
    "\n",
    "#participants = pd.read_csv(exp_folder + 'participants.tsv',\n",
    "#                           delimiter='\\t')\n",
    "\n",
    "print(f'\\nMNE-Python Version: {mne.__version__}\\n')\n",
    "\n",
    "#electrodes of interests (for graphing)\n",
    "electrode_names = ['Cz', 'Pz', 'Fz', 'P3', 'P4', 'C4', 'C3', 'FC3']\n"
   ]
  },
  {
   "cell_type": "code",
   "execution_count": 7,
   "id": "7be6661f",
   "metadata": {},
   "outputs": [],
   "source": [
    "#matplotlib.use('TkAgg')"
   ]
  },
  {
   "cell_type": "code",
   "execution_count": 2,
   "id": "7ad0b284",
   "metadata": {},
   "outputs": [],
   "source": [
    "# Set the subject code/number for the to-be-processed dataset\n",
    "subject_code = 'sub-062'\n",
    "\n",
    "# Set the path to the data folder\n",
    "data_folder = server_folder + 'experiments/NEvent/exp_eeg_v1/' \n",
    "data_raw_file = os.path.join(data_folder,subject_code,\n",
    "                             'eeg','raw',f'{subject_code}_NEvent-task.vhdr')\n",
    "\n",
    "\n",
    "# Low and high frequency filters for raw data\n",
    "raw_l_freq = 0.5\n",
    "raw_h_freq = 200\n",
    "linenoise_min = 60\n",
    "linenoise_max = 181\n",
    "\n",
    "# ICA parameters\n",
    "ica_sfreq = 250             # Resampling frequency\n",
    "ica_l_freq = 1.             # Filter cutoff: low\n",
    "ica_h_freq = None           # Filter cutoff: high\n",
    "ica_flat = dict(eeg=5e-6)   # Minimum channel amplitude for inclusion\n",
    "\n",
    "# Set the channel locations montage\n",
    "# montage = mne.channels.make_standard_montage('GSN-HydroCel-65_1.0')\n",
    "# montage.ch_names[-1] = 'E65'\n",
    "\n",
    "# # Rename the channels to 10-10 convention\n",
    "# tenten_file = os.path.join(server_folder,'labdocs','scalp','10-10_vs_EGI.csv')\n",
    "# #tenten = pd.read_excel(tenten_file)\n",
    "# tenten = pd.read_csv(tenten_file)\n",
    "\n",
    "# # Define old -> new mapping\n",
    "# chan_name_map = dict(zip(tenten.Labels_EGI64,tenten.Labels_1010)) \n",
    "\n",
    "# Scale factors, for use in raw.plot()\n",
    "scalings = dict(mag=1e-12, grad=4e-11, eeg=75e-6, eog=150e-6, ecg=5e-4,\n",
    "     emg=1e-3, ref_meg=1e-12, misc=1e-3, stim=1,\n",
    "     resp=1, chpi=1e-4, whitened=1e2)\n"
   ]
  },
  {
   "cell_type": "code",
   "execution_count": 3,
   "id": "6a190e9f",
   "metadata": {},
   "outputs": [
    {
     "name": "stdout",
     "output_type": "stream",
     "text": [
      "Extracting parameters from /Volumes/ezzyatlab/experiments/NEvent/exp_eeg_v1/sub-062/eeg/raw/sub-062_NEvent-task.vhdr...\n",
      "Setting channel info structure...\n",
      "Reading 0 ... 6179659  =      0.000 ...  6179.659 secs...\n"
     ]
    }
   ],
   "source": [
    "# Load the raw data object and apply the 10-10 channel names\n",
    "raw = mne.io.read_raw_brainvision(data_raw_file, preload=True)\n",
    "\n",
    "# Apply new channels names to raw object\n",
    "# raw.set_montage(montage)\n",
    "# mne.rename_channels(raw.info,chan_name_map)\n",
    "\n",
    "# # Change channel type for Cz\n",
    "# raw.set_channel_types({'Cz': 'misc'})\n",
    "    \n",
    "# # Create a list of the data channels (excluding Cz, EOG, STIM, etc)\n",
    "#data_channels = raw.ch_names[0:60]\n",
    "data_channels = raw.ch_names\n",
    "\n",
    "# Display the data, just make sure it looks like raw data\n",
    "# and that the channel names imported\n",
    "#fig = raw.plot(start=0, duration=60, n_channels=30, scalings=scalings)\n",
    "\n",
    "#print(f'{raw.n_times/(1000)} seconds')"
   ]
  },
  {
   "cell_type": "markdown",
   "id": "88dc7e08",
   "metadata": {},
   "source": [
    "## Apply minimal filtering\n",
    "Filter the raw data to remove low-frequency drifts and high-frequency noise. Also apply a notch filter to remove the effects of 60 Hz line noise.\n"
   ]
  },
  {
   "cell_type": "code",
   "execution_count": 5,
   "id": "d8eaee0c",
   "metadata": {},
   "outputs": [
    {
     "name": "stdout",
     "output_type": "stream",
     "text": [
      "Using qt as 2D backend.\n",
      "Using pyopengl with version 3.1.6\n"
     ]
    }
   ],
   "source": [
    "fig = raw.plot(start=0, duration=60, n_channels=30, scalings=scalings)"
   ]
  },
  {
   "cell_type": "code",
   "execution_count": 4,
   "id": "c367b107",
   "metadata": {},
   "outputs": [
    {
     "name": "stdout",
     "output_type": "stream",
     "text": [
      "Filtering raw data in 1 contiguous segment\n",
      "Setting up band-pass filter from 0.5 - 2e+02 Hz\n",
      "\n",
      "FIR filter parameters\n",
      "---------------------\n",
      "Designing a one-pass, zero-phase, non-causal bandpass filter:\n",
      "- Windowed time-domain design (firwin) method\n",
      "- Hamming window with 0.0194 passband ripple and 53 dB stopband attenuation\n",
      "- Lower passband edge: 0.50\n",
      "- Lower transition bandwidth: 0.50 Hz (-6 dB cutoff frequency: 0.25 Hz)\n",
      "- Upper passband edge: 200.00 Hz\n",
      "- Upper transition bandwidth: 50.00 Hz (-6 dB cutoff frequency: 225.00 Hz)\n",
      "- Filter length: 6601 samples (6.601 sec)\n",
      "\n"
     ]
    },
    {
     "name": "stderr",
     "output_type": "stream",
     "text": [
      "[Parallel(n_jobs=1)]: Using backend SequentialBackend with 1 concurrent workers.\n",
      "[Parallel(n_jobs=1)]: Done   1 out of   1 | elapsed:    0.2s remaining:    0.0s\n",
      "[Parallel(n_jobs=1)]: Done   2 out of   2 | elapsed:    0.5s remaining:    0.0s\n",
      "[Parallel(n_jobs=1)]: Done   3 out of   3 | elapsed:    0.7s remaining:    0.0s\n",
      "[Parallel(n_jobs=1)]: Done   4 out of   4 | elapsed:    0.9s remaining:    0.0s\n",
      "[Parallel(n_jobs=1)]: Done  63 out of  63 | elapsed:   14.1s finished\n"
     ]
    },
    {
     "name": "stdout",
     "output_type": "stream",
     "text": [
      "Setting up band-stop filter\n",
      "\n",
      "FIR filter parameters\n",
      "---------------------\n",
      "Designing a one-pass, zero-phase, non-causal bandstop filter:\n",
      "- Windowed time-domain design (firwin) method\n",
      "- Hamming window with 0.0194 passband ripple and 53 dB stopband attenuation\n",
      "- Lower transition bandwidth: 0.50 Hz\n",
      "- Upper transition bandwidth: 0.50 Hz\n",
      "- Filter length: 6601 samples (6.601 sec)\n",
      "\n"
     ]
    },
    {
     "name": "stderr",
     "output_type": "stream",
     "text": [
      "[Parallel(n_jobs=1)]: Using backend SequentialBackend with 1 concurrent workers.\n",
      "[Parallel(n_jobs=1)]: Done   1 out of   1 | elapsed:    0.3s remaining:    0.0s\n",
      "[Parallel(n_jobs=1)]: Done   2 out of   2 | elapsed:    0.5s remaining:    0.0s\n",
      "[Parallel(n_jobs=1)]: Done   3 out of   3 | elapsed:    0.7s remaining:    0.0s\n",
      "[Parallel(n_jobs=1)]: Done   4 out of   4 | elapsed:    1.0s remaining:    0.0s\n",
      "[Parallel(n_jobs=1)]: Done  63 out of  63 | elapsed:   13.1s finished\n"
     ]
    },
    {
     "data": {
      "text/html": [
       "<table class=\"table table-hover table-striped table-sm table-responsive small\">\n",
       "    <tr>\n",
       "        <th>Measurement date</th>\n",
       "        \n",
       "        <td>March 01, 2024  19:41:59 GMT</td>\n",
       "        \n",
       "    </tr>\n",
       "    <tr>\n",
       "        <th>Experimenter</th>\n",
       "        \n",
       "        <td>Unknown</td>\n",
       "        \n",
       "    </tr>\n",
       "        <th>Participant</th>\n",
       "        \n",
       "        <td>Unknown</td>\n",
       "        \n",
       "    </tr>\n",
       "    <tr>\n",
       "        <th>Digitized points</th>\n",
       "        \n",
       "        <td>66 points</td>\n",
       "        \n",
       "    </tr>\n",
       "    <tr>\n",
       "        <th>Good channels</th>\n",
       "        <td>63 EEG</td>\n",
       "    </tr>\n",
       "    <tr>\n",
       "        <th>Bad channels</th>\n",
       "        <td>None</td>\n",
       "    </tr>\n",
       "    <tr>\n",
       "        <th>EOG channels</th>\n",
       "        <td>Not available</td>\n",
       "    </tr>\n",
       "    <tr>\n",
       "        <th>ECG channels</th>\n",
       "        <td>Not available</td>\n",
       "    \n",
       "    <tr>\n",
       "        <th>Sampling frequency</th>\n",
       "        <td>1000.00 Hz</td>\n",
       "    </tr>\n",
       "    \n",
       "    \n",
       "    <tr>\n",
       "        <th>Highpass</th>\n",
       "        <td>0.50 Hz</td>\n",
       "    </tr>\n",
       "    \n",
       "    \n",
       "    <tr>\n",
       "        <th>Lowpass</th>\n",
       "        <td>200.00 Hz</td>\n",
       "    </tr>\n",
       "    \n",
       "    \n",
       "    \n",
       "    <tr>\n",
       "        <th>Filenames</th>\n",
       "        <td>sub-062_NEvent-task.eeg</td>\n",
       "    </tr>\n",
       "    \n",
       "    <tr>\n",
       "        <th>Duration</th>\n",
       "        <td>01:42:60 (HH:MM:SS)</td>\n",
       "    </tr>\n",
       "</table>"
      ],
      "text/plain": [
       "<RawBrainVision | sub-062_NEvent-task.eeg, 63 x 6179660 (6179.7 s), ~2.90 GB, data loaded>"
      ]
     },
     "execution_count": 4,
     "metadata": {},
     "output_type": "execute_result"
    }
   ],
   "source": [
    "raw.load_data().filter(l_freq=raw_l_freq, h_freq=raw_h_freq)\n",
    "raw.notch_filter(np.arange(linenoise_min,linenoise_max,60))"
   ]
  },
  {
   "cell_type": "markdown",
   "id": "e7c78c18",
   "metadata": {},
   "source": [
    "## Manually annotate bad data spans"
   ]
  },
  {
   "cell_type": "code",
   "execution_count": 5,
   "id": "379fe0d4",
   "metadata": {},
   "outputs": [
    {
     "name": "stdout",
     "output_type": "stream",
     "text": [
      "Using qt as 2D backend.\n",
      "Using pyopengl with version 3.1.6\n",
      "Channels marked as bad:\n",
      "['F3', 'T8']\n"
     ]
    }
   ],
   "source": [
    "# Bring up a figure. Review the full timeseries for every \n",
    "# electrode and annotate spans of obvious bad data.\n",
    "\n",
    "fig = raw.plot(start=0, duration=60, n_channels=30, scalings=scalings)\n"
   ]
  },
  {
   "cell_type": "code",
   "execution_count": 6,
   "id": "6009e9e8",
   "metadata": {},
   "outputs": [],
   "source": [
    "# Save your annotations to a csv file\n",
    "raw.annotations.save(data_raw_file.\n",
    "                     replace('.vhdr','-annotations.csv').replace('/raw/','/postproc/'),overwrite=True)"
   ]
  },
  {
   "cell_type": "code",
   "execution_count": 7,
   "id": "f24da72a",
   "metadata": {},
   "outputs": [
    {
     "data": {
      "text/html": [
       "<table class=\"table table-hover table-striped table-sm table-responsive small\">\n",
       "    <tr>\n",
       "        <th>Measurement date</th>\n",
       "        \n",
       "        <td>March 01, 2024  19:41:59 GMT</td>\n",
       "        \n",
       "    </tr>\n",
       "    <tr>\n",
       "        <th>Experimenter</th>\n",
       "        \n",
       "        <td>Unknown</td>\n",
       "        \n",
       "    </tr>\n",
       "        <th>Participant</th>\n",
       "        \n",
       "        <td>Unknown</td>\n",
       "        \n",
       "    </tr>\n",
       "    <tr>\n",
       "        <th>Digitized points</th>\n",
       "        \n",
       "        <td>66 points</td>\n",
       "        \n",
       "    </tr>\n",
       "    <tr>\n",
       "        <th>Good channels</th>\n",
       "        <td>63 EEG</td>\n",
       "    </tr>\n",
       "    <tr>\n",
       "        <th>Bad channels</th>\n",
       "        <td>F3, T8</td>\n",
       "    </tr>\n",
       "    <tr>\n",
       "        <th>EOG channels</th>\n",
       "        <td>Not available</td>\n",
       "    </tr>\n",
       "    <tr>\n",
       "        <th>ECG channels</th>\n",
       "        <td>Not available</td>\n",
       "    \n",
       "    <tr>\n",
       "        <th>Sampling frequency</th>\n",
       "        <td>1000.00 Hz</td>\n",
       "    </tr>\n",
       "    \n",
       "    \n",
       "    <tr>\n",
       "        <th>Highpass</th>\n",
       "        <td>0.50 Hz</td>\n",
       "    </tr>\n",
       "    \n",
       "    \n",
       "    <tr>\n",
       "        <th>Lowpass</th>\n",
       "        <td>200.00 Hz</td>\n",
       "    </tr>\n",
       "    \n",
       "    \n",
       "</table>"
      ],
      "text/plain": [
       "<Info | 9 non-empty values\n",
       " bads: 2 items (F3, T8)\n",
       " ch_names: Fp1, Fz, F3, F7, FT9, FC5, FC1, C3, T7, TP9, CP5, CP1, Pz, P3, ...\n",
       " chs: 63 EEG\n",
       " custom_ref_applied: False\n",
       " dig: 66 items (3 Cardinal, 63 EEG)\n",
       " highpass: 0.5 Hz\n",
       " lowpass: 200.0 Hz\n",
       " meas_date: 2024-03-01 19:41:59 UTC\n",
       " nchan: 63\n",
       " projs: []\n",
       " sfreq: 1000.0 Hz\n",
       ">"
      ]
     },
     "execution_count": 7,
     "metadata": {},
     "output_type": "execute_result"
    }
   ],
   "source": [
    "#Identify the timepoint corresponding to end of the session\n",
    "# and set tmax to that value. This will crop the raw file and\n",
    "# remove any post-experiment portion of the recording.\n",
    "raw.info\n",
    "#raw.crop(tmax=5830)\n",
    "#raw.crop(tmin=170)"
   ]
  },
  {
   "cell_type": "code",
   "execution_count": 8,
   "id": "20c07445-a6ee-49cb-bc5e-8f0b87f548ab",
   "metadata": {},
   "outputs": [
    {
     "name": "stdout",
     "output_type": "stream",
     "text": [
      "Bad channels: ['F3', 'T8']\n"
     ]
    }
   ],
   "source": [
    "\n",
    "# Identify bad electrodes(s)\n",
    "if raw.info['bads']:\n",
    "    print(\"Bad channels:\", raw.info['bads'])\n",
    "\n",
    "    # Find the index(es) of the bad channel(s)\n",
    "    bad_channel_idxs = mne.pick_channels(raw.info['ch_names'], include=raw.info['bads'])\n",
    "\n",
    "    # Set the bad channel(s) data to NaN\n",
    "    for idx in bad_channel_idxs:\n",
    "        raw._data[idx, :] = np.nan  \n",
    "else:\n",
    "    print(\"No bad channels identified.\")\n"
   ]
  },
  {
   "cell_type": "markdown",
   "id": "5a01aee5",
   "metadata": {
    "tags": []
   },
   "source": [
    "## Save the filtered+annotated+cropped data to a new file "
   ]
  },
  {
   "cell_type": "code",
   "execution_count": 9,
   "id": "f7791520",
   "metadata": {},
   "outputs": [
    {
     "name": "stdout",
     "output_type": "stream",
     "text": [
      "Writing /Volumes/ezzyatlab/experiments/NEvent/exp_eeg_v1/sub-062/eeg/postproc/sub-062_filtered_annot_crop.fif\n"
     ]
    },
    {
     "name": "stderr",
     "output_type": "stream",
     "text": [
      "/var/folders/np/qpdx19z16vj6zqjjk4pnx35r0000gn/T/ipykernel_4427/2514422734.py:4: RuntimeWarning: This filename (/Volumes/ezzyatlab/experiments/NEvent/exp_eeg_v1/sub-062/eeg/postproc/sub-062_filtered_annot_crop.fif) does not conform to MNE naming conventions. All raw files should end with raw.fif, raw_sss.fif, raw_tsss.fif, _meg.fif, _eeg.fif, _ieeg.fif, raw.fif.gz, raw_sss.fif.gz, raw_tsss.fif.gz, _meg.fif.gz, _eeg.fif.gz or _ieeg.fif.gz\n",
      "  raw.load_data().save(fname,overwrite=True)\n"
     ]
    },
    {
     "name": "stdout",
     "output_type": "stream",
     "text": [
      "Closing /Volumes/ezzyatlab/experiments/NEvent/exp_eeg_v1/sub-062/eeg/postproc/sub-062_filtered_annot_crop.fif\n",
      "[done]\n"
     ]
    }
   ],
   "source": [
    "fname = os.path.join(data_folder,subject_code,'eeg','postproc',\n",
    "             f'{subject_code}_filtered_annot_crop.fif')\n",
    "\n",
    "raw.load_data().save(fname,overwrite=True)"
   ]
  },
  {
   "cell_type": "code",
   "execution_count": 70,
   "id": "193d5ab5-0ccb-48c8-bb3c-2e3e81025182",
   "metadata": {},
   "outputs": [
    {
     "name": "stdout",
     "output_type": "stream",
     "text": [
      "Opening raw data file /Volumes/ezzyatlab/experiments/NEvent/exp_eeg_v1/sub-052/eeg/postproc/sub-052_filtered_annot_crop_2.fif...\n"
     ]
    },
    {
     "name": "stderr",
     "output_type": "stream",
     "text": [
      "/var/folders/np/qpdx19z16vj6zqjjk4pnx35r0000gn/T/ipykernel_63171/2414550595.py:5: RuntimeWarning: This filename (/Volumes/ezzyatlab/experiments/NEvent/exp_eeg_v1/sub-052/eeg/postproc/sub-052_filtered_annot_crop_2.fif) does not conform to MNE naming conventions. All raw files should end with raw.fif, raw_sss.fif, raw_tsss.fif, _meg.fif, _eeg.fif, _ieeg.fif, raw.fif.gz, raw_sss.fif.gz, raw_tsss.fif.gz, _meg.fif.gz, _eeg.fif.gz or _ieeg.fif.gz\n",
      "  raw = mne.io.read_raw_fif(fname)\n"
     ]
    },
    {
     "name": "stdout",
     "output_type": "stream",
     "text": [
      "    Range : 0 ... 5622779 =      0.000 ...  5622.779 secs\n",
      "Ready.\n"
     ]
    }
   ],
   "source": [
    "#fname = os.path.join(data_folder, subject_code, 'eeg', 'postproc', \n",
    "                #     f'{subject_code}_filtered_annot_crop_2.fif')\n",
    "\n",
    "# Read the EEG data from the file\n",
    "#raw = mne.io.read_raw_fif(fname)"
   ]
  },
  {
   "cell_type": "markdown",
   "id": "e41e92c5-663d-47d1-b127-f16e2f6a2720",
   "metadata": {},
   "source": [
    "## Create EEG epochs from event markers "
   ]
  },
  {
   "cell_type": "code",
   "execution_count": 10,
   "id": "58368d04",
   "metadata": {
    "scrolled": true
   },
   "outputs": [
    {
     "name": "stdout",
     "output_type": "stream",
     "text": [
      "Opening raw data file /Volumes/ezzyatlab/experiments/NEvent/exp_eeg_v1/sub-062/eeg/postproc/sub-062_filtered_annot_crop.fif...\n"
     ]
    },
    {
     "name": "stderr",
     "output_type": "stream",
     "text": [
      "/var/folders/np/qpdx19z16vj6zqjjk4pnx35r0000gn/T/ipykernel_4427/93895693.py:7: RuntimeWarning: This filename (/Volumes/ezzyatlab/experiments/NEvent/exp_eeg_v1/sub-062/eeg/postproc/sub-062_filtered_annot_crop.fif) does not conform to MNE naming conventions. All raw files should end with raw.fif, raw_sss.fif, raw_tsss.fif, _meg.fif, _eeg.fif, _ieeg.fif, raw.fif.gz, raw_sss.fif.gz, raw_tsss.fif.gz, _meg.fif.gz, _eeg.fif.gz or _ieeg.fif.gz\n",
      "  raw = mne.io.read_raw_fif(fname)\n"
     ]
    },
    {
     "name": "stdout",
     "output_type": "stream",
     "text": [
      "    Range : 0 ... 6179659 =      0.000 ...  6179.659 secs\n",
      "Ready.\n"
     ]
    }
   ],
   "source": [
    "def load_and_process_eeg_data(data_folder, subject_code):\n",
    "    # Construct the file path\n",
    "    fname = os.path.join(data_folder, subject_code, 'eeg', 'postproc', \n",
    "                         f'{subject_code}_filtered_annot_crop.fif')\n",
    "\n",
    "    # Read the EEG data from the file\n",
    "    raw = mne.io.read_raw_fif(fname)\n",
    "\n",
    "    # fig = raw.plot(start=0, duration=60, n_channels=30, scalings=scalings)\n",
    "\n",
    "    # Get the data channels\n",
    "    data_channels = raw.ch_names\n",
    "\n",
    "    # Return the raw data and the channel names\n",
    "    return raw, data_channels\n",
    "\n",
    "#call function\n",
    "raw, data_channels = load_and_process_eeg_data(data_folder, subject_code)\n"
   ]
  },
  {
   "cell_type": "code",
   "execution_count": 11,
   "id": "acb8be02",
   "metadata": {
    "scrolled": true
   },
   "outputs": [
    {
     "name": "stdout",
     "output_type": "stream",
     "text": [
      "Used Annotations descriptions: ['Bit0/B  1', 'Bit1/B  1', 'Bit2/B  1', 'Bit3/B  1', 'Bit4/B  1', 'Bit5/B  1', 'New Segment/']\n",
      "\n",
      "Event counts: [480 480  15 105 105 270   1]\n"
     ]
    }
   ],
   "source": [
    "def read_event_markers (raw):\n",
    "    # Read the event markers and display them. Confirm the \n",
    "    # codes correspond to the dictionary in the next cell\n",
    "    events, tmp = mne.events_from_annotations(raw)\n",
    "\n",
    "    # Count up the number of each event\n",
    "    values, counts = np.unique(events[:,2], return_counts=True)\n",
    "    print('\\nEvent counts:',counts)\n",
    "    #standard should be 480 480\n",
    "    possible_events = {'Bit0/B  1': 'Tone',\n",
    "                   'Bit1/B  1': 'Image',\n",
    "                   'Bit2/B  1': 'Arrow',\n",
    "                   'Bit3/B  1': 'Distance',\n",
    "                   'Bit4/B  1': 'Order',\n",
    "                   'Bit5/B  1': 'Source',\n",
    "                   'Bit6/B  1': 'Start',\n",
    "                   'New Segment/':'New Segment/'}\n",
    "\n",
    "    event_id = {}\n",
    "    for ikey in tmp.keys():\n",
    "        event_id[possible_events[ikey]] = tmp[ikey]\n",
    "\n",
    "    del tmp\n",
    "    return events, counts, event_id\n",
    "\n",
    "#call function\n",
    "events, event_counts, event_id = read_event_markers(raw)\n"
   ]
  },
  {
   "cell_type": "code",
   "execution_count": 12,
   "id": "8a8b0acc",
   "metadata": {},
   "outputs": [
    {
     "name": "stdout",
     "output_type": "stream",
     "text": [
      "Not setting metadata\n",
      "480 matching events found\n",
      "Setting baseline interval to [-0.1, 0.0] sec\n",
      "Applying baseline correction (mode: mean)\n",
      "0 projection items activated\n",
      "Loading data for 480 events and 1101 original time points ...\n",
      "0 bad epochs dropped\n"
     ]
    }
   ],
   "source": [
    "def create_epochs(raw,events, event_id):\n",
    "    \n",
    "    tmin, tmax = -0.1, 1\n",
    "\n",
    "    condition_label = 'Tone'\n",
    "    # Create epochs\n",
    "    epochs = mne.Epochs(raw, events, event_id=event_id[condition_label], \n",
    "                    tmin=tmin, tmax=tmax, baseline=(None,0))\n",
    "\n",
    "    # Load the epoch data into an array\n",
    "    #epoch_data = epochs.get_data(picks='Pz')\n",
    "    epoch_data = epochs.get_data(picks=data_channels)\n",
    "\n",
    "    # Convert the data into units of microvolts!\n",
    "    epoch_data = epoch_data * 1e6\n",
    "    return epoch_data, condition_label, epochs\n",
    "\n",
    "epoch_data, condition_label, epochs = create_epochs(raw,events, event_id)"
   ]
  },
  {
   "cell_type": "markdown",
   "id": "fb4226ee",
   "metadata": {},
   "source": [
    "## Load the behavioral data into a dataframe"
   ]
  },
  {
   "cell_type": "code",
   "execution_count": 13,
   "id": "172c7b79",
   "metadata": {},
   "outputs": [
    {
     "name": "stdout",
     "output_type": "stream",
     "text": [
      "/Volumes/ezzyatlab/experiments/NEvent/exp_eeg_v1/eeg_beh_results/mergefile/mergefile_sub-062.csv\n"
     ]
    }
   ],
   "source": [
    "\n",
    "def load_beh(server_folder, subject_code):\n",
    "    beh_path = server_folder + 'experiments/NEvent/exp_eeg_v1/eeg_beh_results/mergefile/mergefile_' + str(subject_code) + '.csv'\n",
    "    print(beh_path)\n",
    "    merged_file = pd.read_csv(beh_path)\n",
    "    merged_file.head()\n",
    "    #print(merged_file.shape) #(480, 53)\n",
    "    \n",
    "    return merged_file,beh_path\n",
    "\n",
    "merged_file, beh_path= load_beh(server_folder, subject_code)\n",
    "#print(beh_path)\n",
    "# 484 rows in the dataframe --> B/NB tones"
   ]
  },
  {
   "cell_type": "markdown",
   "id": "9ab8bfe7",
   "metadata": {},
   "source": [
    "# NB and B"
   ]
  },
  {
   "cell_type": "markdown",
   "id": "dcae9ee9",
   "metadata": {},
   "source": [
    "### CREATE EEG epochs for nb and b"
   ]
  },
  {
   "cell_type": "code",
   "execution_count": 14,
   "id": "256b03fd",
   "metadata": {},
   "outputs": [
    {
     "name": "stderr",
     "output_type": "stream",
     "text": [
      "/var/folders/np/qpdx19z16vj6zqjjk4pnx35r0000gn/T/ipykernel_4427/1706219027.py:24: RuntimeWarning: Mean of empty slice\n",
      "  b_ERP = np.nanmean(b_epochs, axis=0)\n"
     ]
    },
    {
     "name": "stdout",
     "output_type": "stream",
     "text": [
      "(63, 1101)\n",
      "(63, 1101)\n"
     ]
    },
    {
     "name": "stderr",
     "output_type": "stream",
     "text": [
      "/var/folders/np/qpdx19z16vj6zqjjk4pnx35r0000gn/T/ipykernel_4427/1706219027.py:25: RuntimeWarning: Mean of empty slice\n",
      "  nb_ERP = np.nanmean(nb_epochs, axis=0)\n"
     ]
    }
   ],
   "source": [
    "def create_indiv_epochs(epochs, events, event_id, merged_file, epoch_data, condition_label):\n",
    "\n",
    "    # Convert condition label to event ID and find corresponding epochs\n",
    "    event_value = event_id[condition_label]\n",
    "    condition_events = events[:, 2] == event_value\n",
    "\n",
    "    # Identify which epochs were retained (not dropped due to annotation)\n",
    "    retained_epochs = epochs.selection\n",
    "    undropped_condition_events = np.isin(np.where(condition_events)[0], retained_epochs)\n",
    "\n",
    "    # Filter the behavioral data to match the undropped, condition-specific epochs\n",
    "    b_epochs_indices = merged_file['TrueBoundary.x'][undropped_condition_events] == 'B'\n",
    "    nb_epochs_indices = merged_file['TrueBoundary.x'][undropped_condition_events] == 'NB'\n",
    "\n",
    "    # Select epochs based on behavioral indices\n",
    "    b_epochs = epoch_data[b_epochs_indices, :, :]\n",
    "    nb_epochs = epoch_data[nb_epochs_indices, :, :]\n",
    "\n",
    "    # Print shapes of the epochs for boundary and non-boundary conditions\n",
    "    #print(f\"The shape of nb_epochs is {nb_epochs.shape}\")\n",
    "    #print(f\"The shape of b_epochs is {b_epochs.shape}\")\n",
    "\n",
    "    # Averaging all B, NB, NB controlled trials\n",
    "    b_ERP = np.nanmean(b_epochs, axis=0)\n",
    "    nb_ERP = np.nanmean(nb_epochs, axis=0)\n",
    "\n",
    "    # Print ERP shapes\n",
    "    print(nb_ERP.shape)\n",
    "    print(b_ERP.shape)\n",
    "\n",
    "    return b_ERP, nb_ERP, electrode_names, b_epochs, nb_epochs\n",
    "\n",
    "#call function\n",
    "b_ERP, nb_ERP, electrode_names, b_epochs, nb_epochs= create_indiv_epochs(epochs, events, event_id, merged_file, epoch_data, condition_label)\n"
   ]
  },
  {
   "cell_type": "code",
   "execution_count": 17,
   "id": "e5269f3b-da6c-4ecc-b2ab-d2408cff6f7c",
   "metadata": {},
   "outputs": [],
   "source": [
    "# Setup for plotting for individual ERPs\n",
    "\n",
    "fig, axs = plt.subplots(nrows=2, ncols=4, figsize=(20, 10)) \n",
    "\n",
    "# Flatten the axs array for easy iteration\n",
    "axs = axs.flatten()\n",
    "\n",
    "for ax, electrode in zip(axs, electrode_names):\n",
    "    electrode_idx = np.array(data_channels) == electrode\n",
    "\n",
    "    ax.plot(b_ERP[electrode_idx,:].T) # b_ERP[electrode_idx,:].squeeze()\n",
    "    ax.plot(nb_ERP[electrode_idx,:].T)\n",
    "    ax.legend(['Boundary','NonBoundary'])\n",
    "    ax.set_xlabel('Time Rel. Stimulus Onset (ms)'); \n",
    "    ax.set_ylabel('Voltage $\\mu$V');\n",
    "    ax.set_xticks([0,100,200,400,600,800,1000]); #time point of the vector\n",
    "    ax.set_xticklabels([-100,0,100,300,500,700,900]); #actural time point\n",
    "    ax.set_title(f'{condition_label}_{electrode}')\n",
    "    ax.set_ylim(-10, 13)\n",
    "\n",
    "# Remove unused subplots when cols are not filled\n",
    "for i in range(len(electrode_names), len(axs)):\n",
    "    fig.delaxes(axs[i])\n",
    "\n",
    "# Adjust the space between the subplots\n",
    "plt.subplots_adjust(wspace=0.3, hspace=0.3)\n",
    "\n",
    "figure_fname = os.path.join(data_folder, subject_code, 'eeg','analysis','Boundary vs NonBoundary'\n",
    "                            f'{subject_code}_{condition_label}_All_Electrodes.pdf')\n",
    "# save the file \n",
    "plt.savefig(figure_fname, bbox_inches='tight')"
   ]
  },
  {
   "cell_type": "code",
   "execution_count": 20,
   "id": "e6c8374f-7e3c-4d85-b051-72272cf99bfc",
   "metadata": {},
   "outputs": [
    {
     "name": "stdout",
     "output_type": "stream",
     "text": [
      "23\n"
     ]
    }
   ],
   "source": [
    "import scipy.stats as spst\n",
    "\n",
    "subject_list = ['sub-036', 'sub-037','sub-039', 'sub-040', 'sub-041', 'sub-042', 'sub-043',\n",
    "                'sub-044', 'sub-045','sub-046', 'sub-047', 'sub-048', 'sub-049',\n",
    "                'sub-050','sub-051', 'sub-052','sub-053', 'sub-054','sub-055','sub-056','sub-057','sub-058','sub-061']\n",
    "\n",
    "nsubjects = len(subject_list)\n",
    "print(nsubjects)\n",
    "nelectrodes=63\n",
    "samples=1101"
   ]
  },
  {
   "cell_type": "code",
   "execution_count": 13,
   "id": "f5ff8b1a-10fb-4230-8be7-e5c1915b4f92",
   "metadata": {},
   "outputs": [
    {
     "name": "stdout",
     "output_type": "stream",
     "text": [
      "['sub-051', 'sub-052', 'sub-053', 'sub-054']\n"
     ]
    }
   ],
   "source": [
    "#subject_list = [f'sub-{i:03}' for i in range(51, 55)]\n",
    "#print(subject_list)"
   ]
  },
  {
   "cell_type": "markdown",
   "id": "c49a0336-c6ed-46a6-b150-2469e19f6164",
   "metadata": {},
   "source": [
    "## Comparison of P300 Amplitude Between Boundary and Non-Boundary trials"
   ]
  },
  {
   "cell_type": "code",
   "execution_count": 29,
   "id": "a6489413-b987-4457-bcc5-08ea8834ecb3",
   "metadata": {},
   "outputs": [
    {
     "name": "stdout",
     "output_type": "stream",
     "text": [
      "Opening raw data file /Volumes/ezzyatlab/experiments/NEvent/exp_eeg_v1/sub-036/eeg/postproc/sub-036_filtered_annot_crop.fif...\n"
     ]
    },
    {
     "name": "stderr",
     "output_type": "stream",
     "text": [
      "/var/folders/np/qpdx19z16vj6zqjjk4pnx35r0000gn/T/ipykernel_59585/93895693.py:7: RuntimeWarning: This filename (/Volumes/ezzyatlab/experiments/NEvent/exp_eeg_v1/sub-036/eeg/postproc/sub-036_filtered_annot_crop.fif) does not conform to MNE naming conventions. All raw files should end with raw.fif, raw_sss.fif, raw_tsss.fif, _meg.fif, _eeg.fif, _ieeg.fif, raw.fif.gz, raw_sss.fif.gz, raw_tsss.fif.gz, _meg.fif.gz, _eeg.fif.gz or _ieeg.fif.gz\n",
      "  raw = mne.io.read_raw_fif(fname)\n"
     ]
    },
    {
     "name": "stdout",
     "output_type": "stream",
     "text": [
      "    Range : 170000 ... 5330000 =    170.000 ...  5330.000 secs\n",
      "Ready.\n",
      "Used Annotations descriptions: ['Bit0/B  1', 'Bit1/B  1', 'Bit2/B  1', 'Bit3/B  1', 'Bit4/B  1', 'Bit5/B  1', 'Bit6/B  1']\n",
      "\n",
      "Event counts: [480 480  15 105 105 270   1]\n",
      "Not setting metadata\n",
      "480 matching events found\n",
      "Setting baseline interval to [-0.1, 0.0] sec\n",
      "Applying baseline correction (mode: mean)\n",
      "0 projection items activated\n",
      "Loading data for 480 events and 1101 original time points ...\n",
      "0 bad epochs dropped\n",
      "/Volumes/ezzyatlab/experiments/NEvent/exp_eeg_v1/eeg_beh_results/mergefile/mergefile_sub-036.csv\n",
      "(63, 1101)\n",
      "(63, 1101)\n",
      "Opening raw data file /Volumes/ezzyatlab/experiments/NEvent/exp_eeg_v1/sub-037/eeg/postproc/sub-037_filtered_annot_crop.fif...\n"
     ]
    },
    {
     "name": "stderr",
     "output_type": "stream",
     "text": [
      "/var/folders/np/qpdx19z16vj6zqjjk4pnx35r0000gn/T/ipykernel_59585/93895693.py:7: RuntimeWarning: This filename (/Volumes/ezzyatlab/experiments/NEvent/exp_eeg_v1/sub-037/eeg/postproc/sub-037_filtered_annot_crop.fif) does not conform to MNE naming conventions. All raw files should end with raw.fif, raw_sss.fif, raw_tsss.fif, _meg.fif, _eeg.fif, _ieeg.fif, raw.fif.gz, raw_sss.fif.gz, raw_tsss.fif.gz, _meg.fif.gz, _eeg.fif.gz or _ieeg.fif.gz\n",
      "  raw = mne.io.read_raw_fif(fname)\n"
     ]
    },
    {
     "name": "stdout",
     "output_type": "stream",
     "text": [
      "    Range : 0 ... 4900000 =      0.000 ...  4900.000 secs\n",
      "Ready.\n",
      "Used Annotations descriptions: ['Bit0/B  1', 'Bit1/B  1', 'Bit2/B  1', 'Bit3/B  1', 'Bit4/B  1', 'Bit5/B  1', 'Bit6/B  1', 'New Segment/']\n",
      "\n",
      "Event counts: [480 480  15 105 105 270   1   1]\n",
      "Not setting metadata\n",
      "480 matching events found\n",
      "Setting baseline interval to [-0.1, 0.0] sec\n",
      "Applying baseline correction (mode: mean)\n",
      "0 projection items activated\n",
      "Loading data for 480 events and 1101 original time points ...\n",
      "0 bad epochs dropped\n",
      "/Volumes/ezzyatlab/experiments/NEvent/exp_eeg_v1/eeg_beh_results/mergefile/mergefile_sub-037.csv\n",
      "(63, 1101)\n",
      "(63, 1101)\n",
      "Opening raw data file /Volumes/ezzyatlab/experiments/NEvent/exp_eeg_v1/sub-039/eeg/postproc/sub-039_filtered_annot_crop.fif...\n"
     ]
    },
    {
     "name": "stderr",
     "output_type": "stream",
     "text": [
      "/var/folders/np/qpdx19z16vj6zqjjk4pnx35r0000gn/T/ipykernel_59585/93895693.py:7: RuntimeWarning: This filename (/Volumes/ezzyatlab/experiments/NEvent/exp_eeg_v1/sub-039/eeg/postproc/sub-039_filtered_annot_crop.fif) does not conform to MNE naming conventions. All raw files should end with raw.fif, raw_sss.fif, raw_tsss.fif, _meg.fif, _eeg.fif, _ieeg.fif, raw.fif.gz, raw_sss.fif.gz, raw_tsss.fif.gz, _meg.fif.gz, _eeg.fif.gz or _ieeg.fif.gz\n",
      "  raw = mne.io.read_raw_fif(fname)\n"
     ]
    },
    {
     "name": "stdout",
     "output_type": "stream",
     "text": [
      "    Range : 0 ... 5912699 =      0.000 ...  5912.699 secs\n",
      "Ready.\n",
      "Used Annotations descriptions: ['Bit0/B  1', 'Bit1/B  1', 'Bit2/B  1', 'Bit3/B  1', 'Bit4/B  1', 'Bit5/B  1', 'Bit6/B  1', 'New Segment/']\n",
      "\n",
      "Event counts: [480 480  15 105 105 270   1   1]\n",
      "Not setting metadata\n",
      "480 matching events found\n",
      "Setting baseline interval to [-0.1, 0.0] sec\n",
      "Applying baseline correction (mode: mean)\n",
      "0 projection items activated\n",
      "Loading data for 480 events and 1101 original time points ...\n",
      "0 bad epochs dropped\n",
      "/Volumes/ezzyatlab/experiments/NEvent/exp_eeg_v1/eeg_beh_results/mergefile/mergefile_sub-039.csv\n",
      "(63, 1101)\n",
      "(63, 1101)\n",
      "Opening raw data file /Volumes/ezzyatlab/experiments/NEvent/exp_eeg_v1/sub-040/eeg/postproc/sub-040_filtered_annot_crop.fif...\n"
     ]
    },
    {
     "name": "stderr",
     "output_type": "stream",
     "text": [
      "/var/folders/np/qpdx19z16vj6zqjjk4pnx35r0000gn/T/ipykernel_59585/93895693.py:7: RuntimeWarning: This filename (/Volumes/ezzyatlab/experiments/NEvent/exp_eeg_v1/sub-040/eeg/postproc/sub-040_filtered_annot_crop.fif) does not conform to MNE naming conventions. All raw files should end with raw.fif, raw_sss.fif, raw_tsss.fif, _meg.fif, _eeg.fif, _ieeg.fif, raw.fif.gz, raw_sss.fif.gz, raw_tsss.fif.gz, _meg.fif.gz, _eeg.fif.gz or _ieeg.fif.gz\n",
      "  raw = mne.io.read_raw_fif(fname)\n"
     ]
    },
    {
     "name": "stdout",
     "output_type": "stream",
     "text": [
      "    Range : 0 ... 5148479 =      0.000 ...  5148.479 secs\n",
      "Ready.\n",
      "Used Annotations descriptions: ['Bit0/B  1', 'Bit1/B  1', 'Bit2/B  1', 'Bit3/B  1', 'Bit4/B  1', 'Bit5/B  1', 'Bit6/B  1', 'New Segment/']\n",
      "\n",
      "Event counts: [480 480  15 105 105 270   1   1]\n",
      "Not setting metadata\n",
      "480 matching events found\n",
      "Setting baseline interval to [-0.1, 0.0] sec\n",
      "Applying baseline correction (mode: mean)\n",
      "0 projection items activated\n",
      "Loading data for 480 events and 1101 original time points ...\n",
      "0 bad epochs dropped\n",
      "/Volumes/ezzyatlab/experiments/NEvent/exp_eeg_v1/eeg_beh_results/mergefile/mergefile_sub-040.csv\n",
      "(63, 1101)\n",
      "(63, 1101)\n",
      "Opening raw data file /Volumes/ezzyatlab/experiments/NEvent/exp_eeg_v1/sub-041/eeg/postproc/sub-041_filtered_annot_crop.fif...\n"
     ]
    },
    {
     "name": "stderr",
     "output_type": "stream",
     "text": [
      "/var/folders/np/qpdx19z16vj6zqjjk4pnx35r0000gn/T/ipykernel_59585/93895693.py:7: RuntimeWarning: This filename (/Volumes/ezzyatlab/experiments/NEvent/exp_eeg_v1/sub-041/eeg/postproc/sub-041_filtered_annot_crop.fif) does not conform to MNE naming conventions. All raw files should end with raw.fif, raw_sss.fif, raw_tsss.fif, _meg.fif, _eeg.fif, _ieeg.fif, raw.fif.gz, raw_sss.fif.gz, raw_tsss.fif.gz, _meg.fif.gz, _eeg.fif.gz or _ieeg.fif.gz\n",
      "  raw = mne.io.read_raw_fif(fname)\n"
     ]
    },
    {
     "name": "stdout",
     "output_type": "stream",
     "text": [
      "    Range : 0 ... 5225639 =      0.000 ...  5225.639 secs\n",
      "Ready.\n",
      "Used Annotations descriptions: ['Bit0/B  1', 'Bit1/B  1', 'Bit2/B  1', 'Bit3/B  1', 'Bit4/B  1', 'Bit5/B  1', 'Bit6/B  1', 'New Segment/']\n",
      "\n",
      "Event counts: [480 480  15 105 105 270   1   1]\n",
      "Not setting metadata\n",
      "480 matching events found\n",
      "Setting baseline interval to [-0.1, 0.0] sec\n",
      "Applying baseline correction (mode: mean)\n",
      "0 projection items activated\n",
      "Loading data for 480 events and 1101 original time points ...\n",
      "0 bad epochs dropped\n",
      "/Volumes/ezzyatlab/experiments/NEvent/exp_eeg_v1/eeg_beh_results/mergefile/mergefile_sub-041.csv\n",
      "(63, 1101)\n",
      "(63, 1101)\n",
      "Opening raw data file /Volumes/ezzyatlab/experiments/NEvent/exp_eeg_v1/sub-042/eeg/postproc/sub-042_filtered_annot_crop.fif...\n"
     ]
    },
    {
     "name": "stderr",
     "output_type": "stream",
     "text": [
      "/var/folders/np/qpdx19z16vj6zqjjk4pnx35r0000gn/T/ipykernel_59585/93895693.py:7: RuntimeWarning: This filename (/Volumes/ezzyatlab/experiments/NEvent/exp_eeg_v1/sub-042/eeg/postproc/sub-042_filtered_annot_crop.fif) does not conform to MNE naming conventions. All raw files should end with raw.fif, raw_sss.fif, raw_tsss.fif, _meg.fif, _eeg.fif, _ieeg.fif, raw.fif.gz, raw_sss.fif.gz, raw_tsss.fif.gz, _meg.fif.gz, _eeg.fif.gz or _ieeg.fif.gz\n",
      "  raw = mne.io.read_raw_fif(fname)\n"
     ]
    },
    {
     "name": "stdout",
     "output_type": "stream",
     "text": [
      "    Range : 0 ... 6148699 =      0.000 ...  6148.699 secs\n",
      "Ready.\n",
      "Used Annotations descriptions: ['Bit0/B  1', 'Bit1/B  1', 'Bit2/B  1', 'Bit3/B  1', 'Bit4/B  1', 'Bit5/B  1', 'Bit6/B  1', 'New Segment/']\n",
      "\n",
      "Event counts: [480 480  15 105 105 270   1   1]\n",
      "Not setting metadata\n",
      "480 matching events found\n",
      "Setting baseline interval to [-0.1, 0.0] sec\n",
      "Applying baseline correction (mode: mean)\n",
      "0 projection items activated\n",
      "Loading data for 480 events and 1101 original time points ...\n",
      "0 bad epochs dropped\n",
      "/Volumes/ezzyatlab/experiments/NEvent/exp_eeg_v1/eeg_beh_results/mergefile/mergefile_sub-042.csv\n",
      "(63, 1101)\n",
      "(63, 1101)\n",
      "Opening raw data file /Volumes/ezzyatlab/experiments/NEvent/exp_eeg_v1/sub-043/eeg/postproc/sub-043_filtered_annot_crop.fif...\n"
     ]
    },
    {
     "name": "stderr",
     "output_type": "stream",
     "text": [
      "/var/folders/np/qpdx19z16vj6zqjjk4pnx35r0000gn/T/ipykernel_59585/93895693.py:7: RuntimeWarning: This filename (/Volumes/ezzyatlab/experiments/NEvent/exp_eeg_v1/sub-043/eeg/postproc/sub-043_filtered_annot_crop.fif) does not conform to MNE naming conventions. All raw files should end with raw.fif, raw_sss.fif, raw_tsss.fif, _meg.fif, _eeg.fif, _ieeg.fif, raw.fif.gz, raw_sss.fif.gz, raw_tsss.fif.gz, _meg.fif.gz, _eeg.fif.gz or _ieeg.fif.gz\n",
      "  raw = mne.io.read_raw_fif(fname)\n"
     ]
    },
    {
     "name": "stdout",
     "output_type": "stream",
     "text": [
      "    Range : 0 ... 4842019 =      0.000 ...  4842.019 secs\n",
      "Ready.\n",
      "Used Annotations descriptions: ['Bit0/B  1', 'Bit1/B  1', 'Bit2/B  1', 'Bit3/B  1', 'Bit4/B  1', 'Bit5/B  1', 'Bit6/B  1', 'New Segment/']\n",
      "\n",
      "Event counts: [480 480  15  98  98 252   1   2]\n",
      "Not setting metadata\n",
      "480 matching events found\n",
      "Setting baseline interval to [-0.1, 0.0] sec\n",
      "Applying baseline correction (mode: mean)\n",
      "0 projection items activated\n",
      "Loading data for 480 events and 1101 original time points ...\n",
      "0 bad epochs dropped\n",
      "/Volumes/ezzyatlab/experiments/NEvent/exp_eeg_v1/eeg_beh_results/mergefile/mergefile_sub-043.csv\n",
      "(63, 1101)\n",
      "(63, 1101)\n",
      "Opening raw data file /Volumes/ezzyatlab/experiments/NEvent/exp_eeg_v1/sub-044/eeg/postproc/sub-044_filtered_annot_crop.fif...\n"
     ]
    },
    {
     "name": "stderr",
     "output_type": "stream",
     "text": [
      "/var/folders/np/qpdx19z16vj6zqjjk4pnx35r0000gn/T/ipykernel_59585/93895693.py:7: RuntimeWarning: This filename (/Volumes/ezzyatlab/experiments/NEvent/exp_eeg_v1/sub-044/eeg/postproc/sub-044_filtered_annot_crop.fif) does not conform to MNE naming conventions. All raw files should end with raw.fif, raw_sss.fif, raw_tsss.fif, _meg.fif, _eeg.fif, _ieeg.fif, raw.fif.gz, raw_sss.fif.gz, raw_tsss.fif.gz, _meg.fif.gz, _eeg.fif.gz or _ieeg.fif.gz\n",
      "  raw = mne.io.read_raw_fif(fname)\n"
     ]
    },
    {
     "name": "stdout",
     "output_type": "stream",
     "text": [
      "    Range : 0 ... 5601679 =      0.000 ...  5601.679 secs\n",
      "Ready.\n",
      "Used Annotations descriptions: ['Bit0/B  1', 'Bit1/B  1', 'Bit2/B  1', 'Bit3/B  1', 'Bit4/B  1', 'Bit5/B  1', 'Bit6/B  1', 'New Segment/']\n",
      "\n",
      "Event counts: [480 480  15 105 105 270   1   1]\n",
      "Not setting metadata\n",
      "480 matching events found\n",
      "Setting baseline interval to [-0.1, 0.0] sec\n",
      "Applying baseline correction (mode: mean)\n",
      "0 projection items activated\n",
      "Loading data for 480 events and 1101 original time points ...\n",
      "0 bad epochs dropped\n",
      "/Volumes/ezzyatlab/experiments/NEvent/exp_eeg_v1/eeg_beh_results/mergefile/mergefile_sub-044.csv\n",
      "(63, 1101)\n",
      "(63, 1101)\n",
      "Opening raw data file /Volumes/ezzyatlab/experiments/NEvent/exp_eeg_v1/sub-045/eeg/postproc/sub-045_filtered_annot_crop.fif...\n"
     ]
    },
    {
     "name": "stderr",
     "output_type": "stream",
     "text": [
      "/var/folders/np/qpdx19z16vj6zqjjk4pnx35r0000gn/T/ipykernel_59585/93895693.py:7: RuntimeWarning: This filename (/Volumes/ezzyatlab/experiments/NEvent/exp_eeg_v1/sub-045/eeg/postproc/sub-045_filtered_annot_crop.fif) does not conform to MNE naming conventions. All raw files should end with raw.fif, raw_sss.fif, raw_tsss.fif, _meg.fif, _eeg.fif, _ieeg.fif, raw.fif.gz, raw_sss.fif.gz, raw_tsss.fif.gz, _meg.fif.gz, _eeg.fif.gz or _ieeg.fif.gz\n",
      "  raw = mne.io.read_raw_fif(fname)\n"
     ]
    },
    {
     "name": "stdout",
     "output_type": "stream",
     "text": [
      "    Range : 0 ... 5066159 =      0.000 ...  5066.159 secs\n",
      "Ready.\n",
      "Used Annotations descriptions: ['Bit0/B  1', 'Bit1/B  1', 'Bit2/B  1', 'Bit3/B  1', 'Bit4/B  1', 'Bit5/B  1', 'Bit6/B  1', 'New Segment/']\n",
      "\n",
      "Event counts: [480 480  15 105 105 270   1   1]\n",
      "Not setting metadata\n",
      "480 matching events found\n",
      "Setting baseline interval to [-0.1, 0.0] sec\n",
      "Applying baseline correction (mode: mean)\n",
      "0 projection items activated\n",
      "Loading data for 480 events and 1101 original time points ...\n",
      "8 bad epochs dropped\n",
      "/Volumes/ezzyatlab/experiments/NEvent/exp_eeg_v1/eeg_beh_results/mergefile/mergefile_sub-045.csv\n",
      "(63, 1101)\n",
      "(63, 1101)\n",
      "Opening raw data file /Volumes/ezzyatlab/experiments/NEvent/exp_eeg_v1/sub-046/eeg/postproc/sub-046_filtered_annot_crop.fif...\n"
     ]
    },
    {
     "name": "stderr",
     "output_type": "stream",
     "text": [
      "/var/folders/np/qpdx19z16vj6zqjjk4pnx35r0000gn/T/ipykernel_59585/93895693.py:7: RuntimeWarning: This filename (/Volumes/ezzyatlab/experiments/NEvent/exp_eeg_v1/sub-046/eeg/postproc/sub-046_filtered_annot_crop.fif) does not conform to MNE naming conventions. All raw files should end with raw.fif, raw_sss.fif, raw_tsss.fif, _meg.fif, _eeg.fif, _ieeg.fif, raw.fif.gz, raw_sss.fif.gz, raw_tsss.fif.gz, _meg.fif.gz, _eeg.fif.gz or _ieeg.fif.gz\n",
      "  raw = mne.io.read_raw_fif(fname)\n"
     ]
    },
    {
     "name": "stdout",
     "output_type": "stream",
     "text": [
      "    Range : 0 ... 4936599 =      0.000 ...  4936.599 secs\n",
      "Ready.\n",
      "Used Annotations descriptions: ['Bit0/B  1', 'Bit1/B  1', 'Bit2/B  1', 'Bit3/B  1', 'Bit4/B  1', 'Bit5/B  1', 'Bit6/B  1', 'New Segment/']\n",
      "\n",
      "Event counts: [464 464  15 105 105 270   1   2]\n",
      "Not setting metadata\n",
      "464 matching events found\n",
      "Setting baseline interval to [-0.1, 0.0] sec\n",
      "Applying baseline correction (mode: mean)\n",
      "0 projection items activated\n",
      "Loading data for 464 events and 1101 original time points ...\n",
      "0 bad epochs dropped\n",
      "/Volumes/ezzyatlab/experiments/NEvent/exp_eeg_v1/eeg_beh_results/mergefile/mergefile_sub-046.csv\n",
      "(63, 1101)\n",
      "(63, 1101)\n",
      "Opening raw data file /Volumes/ezzyatlab/experiments/NEvent/exp_eeg_v1/sub-047/eeg/postproc/sub-047_filtered_annot_crop.fif...\n"
     ]
    },
    {
     "name": "stderr",
     "output_type": "stream",
     "text": [
      "/var/folders/np/qpdx19z16vj6zqjjk4pnx35r0000gn/T/ipykernel_59585/93895693.py:7: RuntimeWarning: This filename (/Volumes/ezzyatlab/experiments/NEvent/exp_eeg_v1/sub-047/eeg/postproc/sub-047_filtered_annot_crop.fif) does not conform to MNE naming conventions. All raw files should end with raw.fif, raw_sss.fif, raw_tsss.fif, _meg.fif, _eeg.fif, _ieeg.fif, raw.fif.gz, raw_sss.fif.gz, raw_tsss.fif.gz, _meg.fif.gz, _eeg.fif.gz or _ieeg.fif.gz\n",
      "  raw = mne.io.read_raw_fif(fname)\n"
     ]
    },
    {
     "name": "stdout",
     "output_type": "stream",
     "text": [
      "    Range : 0 ... 5131799 =      0.000 ...  5131.799 secs\n",
      "Ready.\n",
      "Used Annotations descriptions: ['Bit0/B  1', 'Bit1/B  1', 'Bit2/B  1', 'Bit3/B  1', 'Bit4/B  1', 'Bit5/B  1', 'Bit6/B  1', 'New Segment/']\n",
      "\n",
      "Event counts: [480 480  15 105 105 270   1   1]\n",
      "Not setting metadata\n",
      "480 matching events found\n",
      "Setting baseline interval to [-0.1, 0.0] sec\n",
      "Applying baseline correction (mode: mean)\n",
      "0 projection items activated\n",
      "Loading data for 480 events and 1101 original time points ...\n",
      "0 bad epochs dropped\n",
      "/Volumes/ezzyatlab/experiments/NEvent/exp_eeg_v1/eeg_beh_results/mergefile/mergefile_sub-047.csv\n",
      "(63, 1101)\n",
      "(63, 1101)\n",
      "Opening raw data file /Volumes/ezzyatlab/experiments/NEvent/exp_eeg_v1/sub-048/eeg/postproc/sub-048_filtered_annot_crop.fif...\n"
     ]
    },
    {
     "name": "stderr",
     "output_type": "stream",
     "text": [
      "/var/folders/np/qpdx19z16vj6zqjjk4pnx35r0000gn/T/ipykernel_59585/93895693.py:7: RuntimeWarning: This filename (/Volumes/ezzyatlab/experiments/NEvent/exp_eeg_v1/sub-048/eeg/postproc/sub-048_filtered_annot_crop.fif) does not conform to MNE naming conventions. All raw files should end with raw.fif, raw_sss.fif, raw_tsss.fif, _meg.fif, _eeg.fif, _ieeg.fif, raw.fif.gz, raw_sss.fif.gz, raw_tsss.fif.gz, _meg.fif.gz, _eeg.fif.gz or _ieeg.fif.gz\n",
      "  raw = mne.io.read_raw_fif(fname)\n"
     ]
    },
    {
     "name": "stdout",
     "output_type": "stream",
     "text": [
      "    Range : 0 ... 6198719 =      0.000 ...  6198.719 secs\n",
      "Ready.\n",
      "Used Annotations descriptions: ['Bit0/B  1', 'Bit1/B  1', 'Bit2/B  1', 'Bit3/B  1', 'Bit4/B  1', 'Bit5/B  1', 'Bit6/B  1', 'New Segment/']\n",
      "\n",
      "Event counts: [480 480  15 105 105 270   1   1]\n",
      "Not setting metadata\n",
      "480 matching events found\n",
      "Setting baseline interval to [-0.1, 0.0] sec\n",
      "Applying baseline correction (mode: mean)\n",
      "0 projection items activated\n",
      "Loading data for 480 events and 1101 original time points ...\n",
      "0 bad epochs dropped\n",
      "/Volumes/ezzyatlab/experiments/NEvent/exp_eeg_v1/eeg_beh_results/mergefile/mergefile_sub-048.csv\n",
      "(63, 1101)\n",
      "(63, 1101)\n",
      "Opening raw data file /Volumes/ezzyatlab/experiments/NEvent/exp_eeg_v1/sub-049/eeg/postproc/sub-049_filtered_annot_crop.fif...\n"
     ]
    },
    {
     "name": "stderr",
     "output_type": "stream",
     "text": [
      "/var/folders/np/qpdx19z16vj6zqjjk4pnx35r0000gn/T/ipykernel_59585/93895693.py:7: RuntimeWarning: This filename (/Volumes/ezzyatlab/experiments/NEvent/exp_eeg_v1/sub-049/eeg/postproc/sub-049_filtered_annot_crop.fif) does not conform to MNE naming conventions. All raw files should end with raw.fif, raw_sss.fif, raw_tsss.fif, _meg.fif, _eeg.fif, _ieeg.fif, raw.fif.gz, raw_sss.fif.gz, raw_tsss.fif.gz, _meg.fif.gz, _eeg.fif.gz or _ieeg.fif.gz\n",
      "  raw = mne.io.read_raw_fif(fname)\n"
     ]
    },
    {
     "name": "stdout",
     "output_type": "stream",
     "text": [
      "    Range : 0 ... 5191139 =      0.000 ...  5191.139 secs\n",
      "Ready.\n",
      "Used Annotations descriptions: ['Bit0/B  1', 'Bit1/B  1', 'Bit2/B  1', 'Bit3/B  1', 'Bit4/B  1', 'Bit5/B  1', 'Bit6/B  1', 'New Segment/']\n",
      "\n",
      "Event counts: [480 480  15  99 100 258   1   2]\n",
      "Not setting metadata\n",
      "480 matching events found\n",
      "Setting baseline interval to [-0.1, 0.0] sec\n",
      "Applying baseline correction (mode: mean)\n",
      "0 projection items activated\n",
      "Loading data for 480 events and 1101 original time points ...\n",
      "1 bad epochs dropped\n",
      "/Volumes/ezzyatlab/experiments/NEvent/exp_eeg_v1/eeg_beh_results/mergefile/mergefile_sub-049.csv\n",
      "(63, 1101)\n",
      "(63, 1101)\n",
      "Opening raw data file /Volumes/ezzyatlab/experiments/NEvent/exp_eeg_v1/sub-050/eeg/postproc/sub-050_filtered_annot_crop.fif...\n"
     ]
    },
    {
     "name": "stderr",
     "output_type": "stream",
     "text": [
      "/var/folders/np/qpdx19z16vj6zqjjk4pnx35r0000gn/T/ipykernel_59585/93895693.py:7: RuntimeWarning: This filename (/Volumes/ezzyatlab/experiments/NEvent/exp_eeg_v1/sub-050/eeg/postproc/sub-050_filtered_annot_crop.fif) does not conform to MNE naming conventions. All raw files should end with raw.fif, raw_sss.fif, raw_tsss.fif, _meg.fif, _eeg.fif, _ieeg.fif, raw.fif.gz, raw_sss.fif.gz, raw_tsss.fif.gz, _meg.fif.gz, _eeg.fif.gz or _ieeg.fif.gz\n",
      "  raw = mne.io.read_raw_fif(fname)\n"
     ]
    },
    {
     "name": "stdout",
     "output_type": "stream",
     "text": [
      "    Range : 170000 ... 5464899 =    170.000 ...  5464.899 secs\n",
      "Ready.\n",
      "Used Annotations descriptions: ['Bit0/B  1', 'Bit1/B  1', 'Bit2/B  1', 'Bit3/B  1', 'Bit4/B  1', 'Bit5/B  1', 'Bit6/B  1']\n",
      "\n",
      "Event counts: [480 480  15 105 105 270   1]\n",
      "Not setting metadata\n",
      "480 matching events found\n",
      "Setting baseline interval to [-0.1, 0.0] sec\n",
      "Applying baseline correction (mode: mean)\n",
      "0 projection items activated\n",
      "Loading data for 480 events and 1101 original time points ...\n",
      "2 bad epochs dropped\n",
      "/Volumes/ezzyatlab/experiments/NEvent/exp_eeg_v1/eeg_beh_results/mergefile/mergefile_sub-050.csv\n",
      "(63, 1101)\n",
      "(63, 1101)\n",
      "Opening raw data file /Volumes/ezzyatlab/experiments/NEvent/exp_eeg_v1/sub-051/eeg/postproc/sub-051_filtered_annot_crop.fif...\n"
     ]
    },
    {
     "name": "stderr",
     "output_type": "stream",
     "text": [
      "/var/folders/np/qpdx19z16vj6zqjjk4pnx35r0000gn/T/ipykernel_59585/93895693.py:7: RuntimeWarning: This filename (/Volumes/ezzyatlab/experiments/NEvent/exp_eeg_v1/sub-051/eeg/postproc/sub-051_filtered_annot_crop.fif) does not conform to MNE naming conventions. All raw files should end with raw.fif, raw_sss.fif, raw_tsss.fif, _meg.fif, _eeg.fif, _ieeg.fif, raw.fif.gz, raw_sss.fif.gz, raw_tsss.fif.gz, _meg.fif.gz, _eeg.fif.gz or _ieeg.fif.gz\n",
      "  raw = mne.io.read_raw_fif(fname)\n"
     ]
    },
    {
     "name": "stdout",
     "output_type": "stream",
     "text": [
      "    Range : 0 ... 6047939 =      0.000 ...  6047.939 secs\n",
      "Ready.\n",
      "Used Annotations descriptions: ['Bit0/B  1', 'Bit1/B  1', 'Bit2/B  1', 'Bit3/B  1', 'Bit4/B  1', 'Bit5/B  1', 'Bit6/B  1', 'New Segment/']\n",
      "\n",
      "Event counts: [480 480  15 105 105 270   1   2]\n",
      "Not setting metadata\n",
      "480 matching events found\n",
      "Setting baseline interval to [-0.1, 0.0] sec\n",
      "Applying baseline correction (mode: mean)\n",
      "0 projection items activated\n",
      "Loading data for 480 events and 1101 original time points ...\n",
      "7 bad epochs dropped\n",
      "/Volumes/ezzyatlab/experiments/NEvent/exp_eeg_v1/eeg_beh_results/mergefile/mergefile_sub-051.csv\n",
      "(63, 1101)\n",
      "(63, 1101)\n",
      "Opening raw data file /Volumes/ezzyatlab/experiments/NEvent/exp_eeg_v1/sub-052/eeg/postproc/sub-052_filtered_annot_crop.fif...\n"
     ]
    },
    {
     "name": "stderr",
     "output_type": "stream",
     "text": [
      "/var/folders/np/qpdx19z16vj6zqjjk4pnx35r0000gn/T/ipykernel_59585/3378991457.py:24: RuntimeWarning: Mean of empty slice\n",
      "  b_ERP = np.nanmean(b_epochs, axis=0)\n",
      "/var/folders/np/qpdx19z16vj6zqjjk4pnx35r0000gn/T/ipykernel_59585/3378991457.py:25: RuntimeWarning: Mean of empty slice\n",
      "  nb_ERP = np.nanmean(nb_epochs, axis=0)\n",
      "/var/folders/np/qpdx19z16vj6zqjjk4pnx35r0000gn/T/ipykernel_59585/93895693.py:7: RuntimeWarning: This filename (/Volumes/ezzyatlab/experiments/NEvent/exp_eeg_v1/sub-052/eeg/postproc/sub-052_filtered_annot_crop.fif) does not conform to MNE naming conventions. All raw files should end with raw.fif, raw_sss.fif, raw_tsss.fif, _meg.fif, _eeg.fif, _ieeg.fif, raw.fif.gz, raw_sss.fif.gz, raw_tsss.fif.gz, _meg.fif.gz, _eeg.fif.gz or _ieeg.fif.gz\n",
      "  raw = mne.io.read_raw_fif(fname)\n"
     ]
    },
    {
     "name": "stdout",
     "output_type": "stream",
     "text": [
      "    Range : 0 ... 5622779 =      0.000 ...  5622.779 secs\n",
      "Ready.\n",
      "Used Annotations descriptions: ['Bit0/B  1', 'Bit1/B  1', 'Bit2/B  1', 'Bit3/B  1', 'Bit4/B  1', 'Bit5/B  1', 'Bit6/B  1', 'New Segment/']\n",
      "\n",
      "Event counts: [475 475  15 105 105 270   1   3]\n",
      "Not setting metadata\n",
      "475 matching events found\n",
      "Setting baseline interval to [-0.1, 0.0] sec\n",
      "Applying baseline correction (mode: mean)\n",
      "0 projection items activated\n",
      "Loading data for 475 events and 1101 original time points ...\n",
      "0 bad epochs dropped\n",
      "/Volumes/ezzyatlab/experiments/NEvent/exp_eeg_v1/eeg_beh_results/mergefile/mergefile_sub-052.csv\n",
      "(63, 1101)\n",
      "(63, 1101)\n",
      "Opening raw data file /Volumes/ezzyatlab/experiments/NEvent/exp_eeg_v1/sub-053/eeg/postproc/sub-053_filtered_annot_crop.fif...\n"
     ]
    },
    {
     "name": "stderr",
     "output_type": "stream",
     "text": [
      "/var/folders/np/qpdx19z16vj6zqjjk4pnx35r0000gn/T/ipykernel_59585/3378991457.py:24: RuntimeWarning: Mean of empty slice\n",
      "  b_ERP = np.nanmean(b_epochs, axis=0)\n",
      "/var/folders/np/qpdx19z16vj6zqjjk4pnx35r0000gn/T/ipykernel_59585/3378991457.py:25: RuntimeWarning: Mean of empty slice\n",
      "  nb_ERP = np.nanmean(nb_epochs, axis=0)\n",
      "/var/folders/np/qpdx19z16vj6zqjjk4pnx35r0000gn/T/ipykernel_59585/93895693.py:7: RuntimeWarning: This filename (/Volumes/ezzyatlab/experiments/NEvent/exp_eeg_v1/sub-053/eeg/postproc/sub-053_filtered_annot_crop.fif) does not conform to MNE naming conventions. All raw files should end with raw.fif, raw_sss.fif, raw_tsss.fif, _meg.fif, _eeg.fif, _ieeg.fif, raw.fif.gz, raw_sss.fif.gz, raw_tsss.fif.gz, _meg.fif.gz, _eeg.fif.gz or _ieeg.fif.gz\n",
      "  raw = mne.io.read_raw_fif(fname)\n"
     ]
    },
    {
     "name": "stdout",
     "output_type": "stream",
     "text": [
      "    Range : 0 ... 5856039 =      0.000 ...  5856.039 secs\n",
      "Ready.\n",
      "Used Annotations descriptions: ['Bit0/B  1', 'Bit1/B  1', 'Bit2/B  1', 'Bit3/B  1', 'Bit4/B  1', 'Bit5/B  1', 'Bit6/B  1', 'New Segment/']\n",
      "\n",
      "Event counts: [480 480  15 105 105 270   1   2]\n",
      "Not setting metadata\n",
      "480 matching events found\n",
      "Setting baseline interval to [-0.1, 0.0] sec\n",
      "Applying baseline correction (mode: mean)\n",
      "0 projection items activated\n",
      "Loading data for 480 events and 1101 original time points ...\n",
      "0 bad epochs dropped\n",
      "/Volumes/ezzyatlab/experiments/NEvent/exp_eeg_v1/eeg_beh_results/mergefile/mergefile_sub-053.csv\n",
      "(63, 1101)\n",
      "(63, 1101)\n",
      "Opening raw data file /Volumes/ezzyatlab/experiments/NEvent/exp_eeg_v1/sub-054/eeg/postproc/sub-054_filtered_annot_crop.fif...\n"
     ]
    },
    {
     "name": "stderr",
     "output_type": "stream",
     "text": [
      "/var/folders/np/qpdx19z16vj6zqjjk4pnx35r0000gn/T/ipykernel_59585/93895693.py:7: RuntimeWarning: This filename (/Volumes/ezzyatlab/experiments/NEvent/exp_eeg_v1/sub-054/eeg/postproc/sub-054_filtered_annot_crop.fif) does not conform to MNE naming conventions. All raw files should end with raw.fif, raw_sss.fif, raw_tsss.fif, _meg.fif, _eeg.fif, _ieeg.fif, raw.fif.gz, raw_sss.fif.gz, raw_tsss.fif.gz, _meg.fif.gz, _eeg.fif.gz or _ieeg.fif.gz\n",
      "  raw = mne.io.read_raw_fif(fname)\n"
     ]
    },
    {
     "name": "stdout",
     "output_type": "stream",
     "text": [
      "    Range : 0 ... 5761779 =      0.000 ...  5761.779 secs\n",
      "Ready.\n",
      "Used Annotations descriptions: ['Bit0/B  1', 'Bit1/B  1', 'Bit2/B  1', 'Bit3/B  1', 'Bit4/B  1', 'Bit5/B  1', 'Bit6/B  1', 'New Segment/']\n",
      "\n",
      "Event counts: [480 480  15 105 105 270   1   1]\n",
      "Not setting metadata\n",
      "480 matching events found\n",
      "Setting baseline interval to [-0.1, 0.0] sec\n",
      "Applying baseline correction (mode: mean)\n",
      "0 projection items activated\n",
      "Loading data for 480 events and 1101 original time points ...\n",
      "14 bad epochs dropped\n",
      "/Volumes/ezzyatlab/experiments/NEvent/exp_eeg_v1/eeg_beh_results/mergefile/mergefile_sub-054.csv\n",
      "(63, 1101)\n",
      "(63, 1101)\n",
      "Opening raw data file /Volumes/ezzyatlab/experiments/NEvent/exp_eeg_v1/sub-055/eeg/postproc/sub-055_filtered_annot_crop.fif...\n"
     ]
    },
    {
     "name": "stderr",
     "output_type": "stream",
     "text": [
      "/var/folders/np/qpdx19z16vj6zqjjk4pnx35r0000gn/T/ipykernel_59585/93895693.py:7: RuntimeWarning: This filename (/Volumes/ezzyatlab/experiments/NEvent/exp_eeg_v1/sub-055/eeg/postproc/sub-055_filtered_annot_crop.fif) does not conform to MNE naming conventions. All raw files should end with raw.fif, raw_sss.fif, raw_tsss.fif, _meg.fif, _eeg.fif, _ieeg.fif, raw.fif.gz, raw_sss.fif.gz, raw_tsss.fif.gz, _meg.fif.gz, _eeg.fif.gz or _ieeg.fif.gz\n",
      "  raw = mne.io.read_raw_fif(fname)\n"
     ]
    },
    {
     "name": "stdout",
     "output_type": "stream",
     "text": [
      "    Range : 0 ... 7798999 =      0.000 ...  7798.999 secs\n",
      "Ready.\n",
      "Used Annotations descriptions: ['Bit0/B  1', 'Bit1/B  1', 'Bit2/B  1', 'Bit3/B  1', 'Bit4/B  1', 'Bit5/B  1', 'Bit6/B  1', 'New Segment/']\n",
      "\n",
      "Event counts: [480 480  15 105 105 270   1   1]\n",
      "Not setting metadata\n",
      "480 matching events found\n",
      "Setting baseline interval to [-0.1, 0.0] sec\n",
      "Applying baseline correction (mode: mean)\n",
      "0 projection items activated\n",
      "Loading data for 480 events and 1101 original time points ...\n",
      "1 bad epochs dropped\n",
      "/Volumes/ezzyatlab/experiments/NEvent/exp_eeg_v1/eeg_beh_results/mergefile/mergefile_sub-055.csv\n",
      "(63, 1101)\n",
      "(63, 1101)\n",
      "Opening raw data file /Volumes/ezzyatlab/experiments/NEvent/exp_eeg_v1/sub-056/eeg/postproc/sub-056_filtered_annot_crop.fif...\n"
     ]
    },
    {
     "name": "stderr",
     "output_type": "stream",
     "text": [
      "/var/folders/np/qpdx19z16vj6zqjjk4pnx35r0000gn/T/ipykernel_59585/93895693.py:7: RuntimeWarning: This filename (/Volumes/ezzyatlab/experiments/NEvent/exp_eeg_v1/sub-056/eeg/postproc/sub-056_filtered_annot_crop.fif) does not conform to MNE naming conventions. All raw files should end with raw.fif, raw_sss.fif, raw_tsss.fif, _meg.fif, _eeg.fif, _ieeg.fif, raw.fif.gz, raw_sss.fif.gz, raw_tsss.fif.gz, _meg.fif.gz, _eeg.fif.gz or _ieeg.fif.gz\n",
      "  raw = mne.io.read_raw_fif(fname)\n"
     ]
    },
    {
     "name": "stdout",
     "output_type": "stream",
     "text": [
      "    Range : 0 ... 4855839 =      0.000 ...  4855.839 secs\n",
      "Ready.\n",
      "Used Annotations descriptions: ['Bit0/B  1', 'Bit1/B  1', 'Bit2/B  1', 'Bit3/B  1', 'Bit4/B  1', 'Bit5/B  1', 'New Segment/']\n",
      "\n",
      "Event counts: [480 480  15 105 105 270   1]\n",
      "Not setting metadata\n",
      "480 matching events found\n",
      "Setting baseline interval to [-0.1, 0.0] sec\n",
      "Applying baseline correction (mode: mean)\n",
      "0 projection items activated\n",
      "Loading data for 480 events and 1101 original time points ...\n",
      "0 bad epochs dropped\n",
      "/Volumes/ezzyatlab/experiments/NEvent/exp_eeg_v1/eeg_beh_results/mergefile/mergefile_sub-056.csv\n",
      "(63, 1101)\n",
      "(63, 1101)\n",
      "Opening raw data file /Volumes/ezzyatlab/experiments/NEvent/exp_eeg_v1/sub-057/eeg/postproc/sub-057_filtered_annot_crop.fif...\n"
     ]
    },
    {
     "name": "stderr",
     "output_type": "stream",
     "text": [
      "/var/folders/np/qpdx19z16vj6zqjjk4pnx35r0000gn/T/ipykernel_59585/93895693.py:7: RuntimeWarning: This filename (/Volumes/ezzyatlab/experiments/NEvent/exp_eeg_v1/sub-057/eeg/postproc/sub-057_filtered_annot_crop.fif) does not conform to MNE naming conventions. All raw files should end with raw.fif, raw_sss.fif, raw_tsss.fif, _meg.fif, _eeg.fif, _ieeg.fif, raw.fif.gz, raw_sss.fif.gz, raw_tsss.fif.gz, _meg.fif.gz, _eeg.fif.gz or _ieeg.fif.gz\n",
      "  raw = mne.io.read_raw_fif(fname)\n"
     ]
    },
    {
     "name": "stdout",
     "output_type": "stream",
     "text": [
      "    Range : 0 ... 5019679 =      0.000 ...  5019.679 secs\n",
      "Ready.\n",
      "Used Annotations descriptions: ['Bit0/B  1', 'Bit1/B  1', 'Bit2/B  1', 'Bit3/B  1', 'Bit4/B  1', 'Bit5/B  1', 'Bit6/B  1', 'New Segment/']\n",
      "\n",
      "Event counts: [480 480  15 105 105 270   1   1]\n",
      "Not setting metadata\n",
      "480 matching events found\n",
      "Setting baseline interval to [-0.1, 0.0] sec\n",
      "Applying baseline correction (mode: mean)\n",
      "0 projection items activated\n",
      "Loading data for 480 events and 1101 original time points ...\n",
      "6 bad epochs dropped\n",
      "/Volumes/ezzyatlab/experiments/NEvent/exp_eeg_v1/eeg_beh_results/mergefile/mergefile_sub-057.csv\n",
      "(63, 1101)\n",
      "(63, 1101)\n",
      "Opening raw data file /Volumes/ezzyatlab/experiments/NEvent/exp_eeg_v1/sub-058/eeg/postproc/sub-058_filtered_annot_crop.fif...\n"
     ]
    },
    {
     "name": "stderr",
     "output_type": "stream",
     "text": [
      "/var/folders/np/qpdx19z16vj6zqjjk4pnx35r0000gn/T/ipykernel_59585/3378991457.py:24: RuntimeWarning: Mean of empty slice\n",
      "  b_ERP = np.nanmean(b_epochs, axis=0)\n",
      "/var/folders/np/qpdx19z16vj6zqjjk4pnx35r0000gn/T/ipykernel_59585/3378991457.py:25: RuntimeWarning: Mean of empty slice\n",
      "  nb_ERP = np.nanmean(nb_epochs, axis=0)\n",
      "/var/folders/np/qpdx19z16vj6zqjjk4pnx35r0000gn/T/ipykernel_59585/93895693.py:7: RuntimeWarning: This filename (/Volumes/ezzyatlab/experiments/NEvent/exp_eeg_v1/sub-058/eeg/postproc/sub-058_filtered_annot_crop.fif) does not conform to MNE naming conventions. All raw files should end with raw.fif, raw_sss.fif, raw_tsss.fif, _meg.fif, _eeg.fif, _ieeg.fif, raw.fif.gz, raw_sss.fif.gz, raw_tsss.fif.gz, _meg.fif.gz, _eeg.fif.gz or _ieeg.fif.gz\n",
      "  raw = mne.io.read_raw_fif(fname)\n"
     ]
    },
    {
     "name": "stdout",
     "output_type": "stream",
     "text": [
      "    Range : 0 ... 5424599 =      0.000 ...  5424.599 secs\n",
      "Ready.\n",
      "Used Annotations descriptions: ['Bit0/B  1', 'Bit1/B  1', 'Bit2/B  1', 'Bit3/B  1', 'Bit4/B  1', 'Bit5/B  1', 'Bit6/B  1', 'New Segment/']\n",
      "\n",
      "Event counts: [480 480  15 105 105 270   1   1]\n",
      "Not setting metadata\n",
      "480 matching events found\n",
      "Setting baseline interval to [-0.1, 0.0] sec\n",
      "Applying baseline correction (mode: mean)\n",
      "0 projection items activated\n",
      "Loading data for 480 events and 1101 original time points ...\n",
      "0 bad epochs dropped\n",
      "/Volumes/ezzyatlab/experiments/NEvent/exp_eeg_v1/eeg_beh_results/mergefile/mergefile_sub-058.csv\n",
      "(63, 1101)\n",
      "(63, 1101)\n",
      "Opening raw data file /Volumes/ezzyatlab/experiments/NEvent/exp_eeg_v1/sub-061/eeg/postproc/sub-061_filtered_annot_crop.fif...\n"
     ]
    },
    {
     "name": "stderr",
     "output_type": "stream",
     "text": [
      "/var/folders/np/qpdx19z16vj6zqjjk4pnx35r0000gn/T/ipykernel_59585/93895693.py:7: RuntimeWarning: This filename (/Volumes/ezzyatlab/experiments/NEvent/exp_eeg_v1/sub-061/eeg/postproc/sub-061_filtered_annot_crop.fif) does not conform to MNE naming conventions. All raw files should end with raw.fif, raw_sss.fif, raw_tsss.fif, _meg.fif, _eeg.fif, _ieeg.fif, raw.fif.gz, raw_sss.fif.gz, raw_tsss.fif.gz, _meg.fif.gz, _eeg.fif.gz or _ieeg.fif.gz\n",
      "  raw = mne.io.read_raw_fif(fname)\n"
     ]
    },
    {
     "name": "stdout",
     "output_type": "stream",
     "text": [
      "    Range : 0 ... 5740139 =      0.000 ...  5740.139 secs\n",
      "Ready.\n",
      "Used Annotations descriptions: ['Bit0/B  1', 'Bit1/B  1', 'Bit2/B  1', 'Bit3/B  1', 'Bit4/B  1', 'Bit5/B  1', 'Bit6/B  1', 'New Segment/']\n",
      "\n",
      "Event counts: [480 480  15 105 105 270   2   1]\n",
      "Not setting metadata\n",
      "480 matching events found\n",
      "Setting baseline interval to [-0.1, 0.0] sec\n",
      "Applying baseline correction (mode: mean)\n",
      "0 projection items activated\n",
      "Loading data for 480 events and 1101 original time points ...\n",
      "0 bad epochs dropped\n",
      "/Volumes/ezzyatlab/experiments/NEvent/exp_eeg_v1/eeg_beh_results/mergefile/mergefile_sub-061.csv\n"
     ]
    },
    {
     "name": "stderr",
     "output_type": "stream",
     "text": [
      "/var/folders/np/qpdx19z16vj6zqjjk4pnx35r0000gn/T/ipykernel_59585/3378991457.py:24: RuntimeWarning: Mean of empty slice\n",
      "  b_ERP = np.nanmean(b_epochs, axis=0)\n",
      "/var/folders/np/qpdx19z16vj6zqjjk4pnx35r0000gn/T/ipykernel_59585/3378991457.py:25: RuntimeWarning: Mean of empty slice\n",
      "  nb_ERP = np.nanmean(nb_epochs, axis=0)\n"
     ]
    },
    {
     "name": "stdout",
     "output_type": "stream",
     "text": [
      "(63, 1101)\n",
      "(63, 1101)\n"
     ]
    }
   ],
   "source": [
    "group_boundary = np.zeros((nsubjects, nelectrodes, samples))\n",
    "group_nonboundary = np.zeros((nsubjects, nelectrodes, samples))\n",
    "\n",
    "all_b_ERP = []\n",
    "all_nb_ERP = []\n",
    "\n",
    "for ctr_subj,isubj in enumerate(subject_list):\n",
    "    \n",
    "    # do all the stuff above for a single subject:\n",
    "    raw, data_channels = load_and_process_eeg_data(data_folder, isubj)\n",
    "    events, event_counts, event_id = read_event_markers(raw)\n",
    "    epoch_data, condition_label, epochs = create_epochs(raw,events, event_id)\n",
    "    merged_file, beh_path= load_beh(server_folder, isubj)\n",
    "    b_ERP, nb_ERP, electrode_names = create_indiv_epochs(epochs, events, event_id, merged_file, epoch_data, condition_label)\n",
    "    \n",
    "    # shape (nsubjects x nelectrodes x samples)\n",
    "    group_boundary[ctr_subj,:,:] = b_ERP\n",
    "    group_nonboundary[ctr_subj,:,:] = nb_ERP\n",
    "    # group_nonboundary => shape (nsubjects x nelectrodes x time in milliseconds)\n",
    "\n",
    "#save the results to local directory\n",
    "\n",
    "group_boundary_path = '/Volumes/ezzyatlab/experiments/NEvent/exp_eeg_v1/eeg_postprocessing/group_ERPs/group_boundary.npy'\n",
    "group_nonboundary_path = '/Volumes/ezzyatlab/experiments/NEvent/exp_eeg_v1/eeg_postprocessing/group_ERPs/group_nonboundary.npy'\n",
    "\n",
    "# Save the arrays\n",
    "np.save(group_boundary_path, group_boundary)\n",
    "np.save(group_nonboundary_path, group_nonboundary)"
   ]
  },
  {
   "cell_type": "code",
   "execution_count": 4,
   "id": "eefcf4f6-4cac-474f-85a5-e674e58bfb5f",
   "metadata": {},
   "outputs": [
    {
     "name": "stdout",
     "output_type": "stream",
     "text": [
      "(23, 63, 1101)\n",
      "(23, 63, 1101)\n"
     ]
    }
   ],
   "source": [
    "######\n",
    "# load the saved file from local directory\n",
    "group_boundary_path = '/Volumes/ezzyatlab/experiments/NEvent/exp_eeg_v1/eeg_postprocessing/group_ERPs/group_boundary.npy'\n",
    "group_nonboundary_path = '/Volumes/ezzyatlab/experiments/NEvent/exp_eeg_v1/eeg_postprocessing/group_ERPs/group_nonboundary.npy'\n",
    "\n",
    "group_boundary = np.load(group_boundary_path)\n",
    "group_nonboundary = np.load(group_nonboundary_path)\n",
    "\n",
    "#check the data shape (nsubjects x nelectrodes x time in milliseconds)\n",
    "print(group_boundary.shape)\n",
    "print(group_nonboundary.shape)\n"
   ]
  },
  {
   "cell_type": "code",
   "execution_count": 5,
   "id": "5fc19a01-94f4-4d5e-a5ee-664667f7f843",
   "metadata": {},
   "outputs": [
    {
     "name": "stdout",
     "output_type": "stream",
     "text": [
      "['Fp1', 'Fz', 'F3', 'F7', 'FT9', 'FC5', 'FC1', 'C3', 'T7', 'TP9', 'CP5', 'CP1', 'Pz', 'P3', 'P7', 'O1', 'Oz', 'O2', 'P4', 'P8', 'TP10', 'CP6', 'CP2', 'Cz', 'C4', 'T8', 'FT10', 'FC6', 'FC2', 'F4', 'F8', 'Fp2', 'AF7', 'AF3', 'AFz', 'F1', 'F5', 'FT7', 'FC3', 'C1', 'C5', 'TP7', 'CP3', 'P1', 'P5', 'PO7', 'PO3', 'POz', 'PO4', 'PO8', 'P6', 'P2', 'CPz', 'CP4', 'TP8', 'C6', 'C2', 'FC4', 'FT8', 'F6', 'AF8', 'AF4', 'F2']\n",
      "12\n"
     ]
    }
   ],
   "source": [
    "print(data_channels)\n",
    "\n",
    "electrode_of_interest= 'Pz' \n",
    "electrode_index = data_channels.index(electrode_of_interest)  # Find the index of 'Cz'\n",
    "print(electrode_index)"
   ]
  },
  {
   "cell_type": "markdown",
   "id": "0cd752e7-7bf8-4c90-a7cd-85d58ec1a6cb",
   "metadata": {},
   "source": [
    "### Paired T-tests"
   ]
  },
  {
   "cell_type": "code",
   "execution_count": 6,
   "id": "9dcdbe10-88eb-452d-8341-93e4c766ef74",
   "metadata": {},
   "outputs": [
    {
     "name": "stdout",
     "output_type": "stream",
     "text": [
      "mean_b\n",
      "[11.10282016  2.31258893  1.3420788   3.44476069  3.17003463  4.35148043\n",
      "  6.89619537 11.66012866  8.44819013  9.06103652  5.39123536  9.53548559\n",
      "  7.94080061  2.81544983  8.23220189 10.83435963  3.07786072 10.61950859\n",
      "  2.69673068  4.49284669  9.69222574  6.24343169 10.25060557]\n",
      "mean_nb\n",
      "[ 2.18740572 -0.05346134 -0.3219777   0.84423868  3.25596247  2.21196895\n",
      " -1.21587063  1.76914016  1.8185009   2.5540849   0.34253871  1.15539624\n",
      "  0.66601327  1.03772528  1.60358851  3.47155518 -0.15268791  0.44713894\n",
      "  0.70907093  1.31962593  2.70154585 -0.36147899  2.07273001]\n",
      "Electrode: Fp1, T-stat: -0.9701, P-val: 0.3425\n",
      "Electrode: Fz, T-stat: 2.3024, P-val: 0.0312 *\n",
      "Electrode: F3, T-stat: -0.8354, P-val: 0.4129\n",
      "Electrode: F7, T-stat: -0.6183, P-val: 0.5428\n",
      "Electrode: FT9, T-stat: -0.0929, P-val: 0.9268\n",
      "Electrode: FC5, T-stat: 0.5109, P-val: 0.6145\n",
      "Electrode: FC1, T-stat: 3.7133, P-val: 0.0012 *\n",
      "Electrode: C3, T-stat: 3.5322, P-val: 0.0019 *\n",
      "Electrode: T7, T-stat: 0.5005, P-val: 0.6217\n",
      "Electrode: TP9, T-stat: 0.7356, P-val: 0.4698\n",
      "Electrode: CP5, T-stat: 3.2349, P-val: 0.0038 *\n",
      "Electrode: CP1, T-stat: 6.8708, P-val: 0.0000 *\n",
      "Electrode: Pz, T-stat: 8.6598, P-val: 0.0000 *\n",
      "Electrode: P3, T-stat: 6.6934, P-val: 0.0000 *\n",
      "Electrode: P7, T-stat: 4.9739, P-val: 0.0001 *\n",
      "Electrode: O1, T-stat: 6.1557, P-val: 0.0000 *\n",
      "Electrode: Oz, T-stat: 4.7422, P-val: 0.0001 *\n",
      "Electrode: O2, T-stat: 5.2134, P-val: 0.0000 *\n",
      "Electrode: P4, T-stat: 7.6811, P-val: 0.0000 *\n",
      "Electrode: P8, T-stat: 2.5875, P-val: 0.0172 *\n",
      "Electrode: TP10, T-stat: -0.3824, P-val: 0.7058\n",
      "Electrode: CP6, T-stat: 3.6173, P-val: 0.0015 *\n",
      "Electrode: CP2, T-stat: 7.2425, P-val: 0.0000 *\n",
      "Electrode: Cz, T-stat: 6.5197, P-val: 0.0000 *\n",
      "Electrode: C4, T-stat: 3.6044, P-val: 0.0016 *\n",
      "Electrode: T8, T-stat: 1.8566, P-val: 0.0789\n",
      "Electrode: FT10, T-stat: -2.1293, P-val: 0.0447 *\n",
      "Electrode: FC6, T-stat: -0.2209, P-val: 0.8272\n",
      "Electrode: FC2, T-stat: 3.7643, P-val: 0.0011 *\n",
      "Electrode: F4, T-stat: 0.3071, P-val: 0.7616\n",
      "Electrode: F8, T-stat: -1.9633, P-val: 0.0624\n",
      "Electrode: Fp2, T-stat: -1.3860, P-val: 0.1796\n",
      "Electrode: AF7, T-stat: -0.7528, P-val: 0.4595\n",
      "Electrode: AF3, T-stat: -0.1990, P-val: 0.8442\n",
      "Electrode: AFz, T-stat: 0.1206, P-val: 0.9051\n",
      "Electrode: F1, T-stat: 1.7719, P-val: 0.0903\n",
      "Electrode: F5, T-stat: -0.1749, P-val: 0.8627\n",
      "Electrode: FT7, T-stat: 0.0218, P-val: 0.9828\n",
      "Electrode: FC3, T-stat: 1.8529, P-val: 0.0780\n",
      "Electrode: C1, T-stat: 5.4610, P-val: 0.0000 *\n",
      "Electrode: C5, T-stat: 1.4563, P-val: 0.1594\n",
      "Electrode: TP7, T-stat: 1.8995, P-val: 0.0707\n",
      "Electrode: CP3, T-stat: 5.1026, P-val: 0.0000 *\n",
      "Electrode: P1, T-stat: 9.3169, P-val: 0.0000 *\n",
      "Electrode: P5, T-stat: 6.0466, P-val: 0.0000 *\n",
      "Electrode: PO7, T-stat: 5.3228, P-val: 0.0000 *\n",
      "Electrode: PO3, T-stat: 6.9012, P-val: 0.0000 *\n",
      "Electrode: POz, T-stat: 9.4924, P-val: 0.0000 *\n",
      "Electrode: PO4, T-stat: 7.5984, P-val: 0.0000 *\n",
      "Electrode: PO8, T-stat: 4.6621, P-val: 0.0001 *\n",
      "Electrode: P6, T-stat: 6.9373, P-val: 0.0000 *\n",
      "Electrode: P2, T-stat: 8.0582, P-val: 0.0000 *\n",
      "Electrode: CPz, T-stat: 8.1943, P-val: 0.0000 *\n",
      "Electrode: CP4, T-stat: 6.2480, P-val: 0.0000 *\n",
      "Electrode: TP8, T-stat: 1.0723, P-val: 0.2952\n",
      "Electrode: C6, T-stat: 1.4749, P-val: 0.1544\n",
      "Electrode: C2, T-stat: 5.5103, P-val: 0.0000 *\n",
      "Electrode: FC4, T-stat: 1.7235, P-val: 0.0988\n",
      "Electrode: FT8, T-stat: -0.7797, P-val: 0.4439\n",
      "Electrode: F6, T-stat: -0.8316, P-val: 0.4145\n",
      "Electrode: AF8, T-stat: -2.1575, P-val: 0.0421 *\n",
      "Electrode: AF4, T-stat: -0.6117, P-val: 0.5470\n",
      "Electrode: F2, T-stat: 1.7615, P-val: 0.0920\n"
     ]
    },
    {
     "name": "stderr",
     "output_type": "stream",
     "text": [
      "/var/folders/np/qpdx19z16vj6zqjjk4pnx35r0000gn/T/ipykernel_88356/579013444.py:6: RuntimeWarning: Mean of empty slice\n",
      "  (tstat,pval) = spst.ttest_rel(np.nanmean(group_boundary[:,:,start_window:end_window],axis=-1),\n",
      "/var/folders/np/qpdx19z16vj6zqjjk4pnx35r0000gn/T/ipykernel_88356/579013444.py:7: RuntimeWarning: Mean of empty slice\n",
      "  np.nanmean(group_nonboundary[:,:,start_window:end_window],axis=-1),\n",
      "/var/folders/np/qpdx19z16vj6zqjjk4pnx35r0000gn/T/ipykernel_88356/579013444.py:12: RuntimeWarning: Mean of empty slice\n",
      "  mean_b= np.nanmean(group_boundary[:,:,start_window:end_window],axis=2) # shape: participants_num * electrode\n",
      "/var/folders/np/qpdx19z16vj6zqjjk4pnx35r0000gn/T/ipykernel_88356/579013444.py:15: RuntimeWarning: Mean of empty slice\n",
      "  mean_nb= np.nanmean(group_nonboundary[:,:,start_window:end_window],axis=2)\n"
     ]
    }
   ],
   "source": [
    "# calculate the mean amplitudes across time window of interests\n",
    " ## selected time window: 300-700 ms after stimuli onsets\n",
    "start_window = 400 \n",
    "end_window = 800\n",
    "\n",
    "(tstat,pval) = spst.ttest_rel(np.nanmean(group_boundary[:,:,start_window:end_window],axis=-1),\n",
    "                              np.nanmean(group_nonboundary[:,:,start_window:end_window],axis=-1),\n",
    "                              axis=0, nan_policy='omit')\n",
    "\n",
    "#calculate mean_b and mean_nb: P3 amplitude for each participants; shape: participants_num * electrode\n",
    "\n",
    "mean_b= np.nanmean(group_boundary[:,:,start_window:end_window],axis=2) # shape: participants_num * electrode\n",
    "print('mean_b')\n",
    "print(mean_b[:, electrode_index])\n",
    "mean_nb= np.nanmean(group_nonboundary[:,:,start_window:end_window],axis=2)\n",
    "print('mean_nb')\n",
    "print(mean_nb[:, electrode_index])\n",
    "\n",
    "# Initialize an empty list to store electrode names with pval < 0.05\n",
    "significant_electrodes = []\n",
    "\n",
    "# Print the results\n",
    "for i, name in enumerate(data_channels):\n",
    "    # Check if the p-value is less than 0.05\n",
    "    if pval[i] < 0.05:\n",
    "        print(f\"Electrode: {name}, T-stat: {tstat[i]:.4f}, P-val: {pval[i]:.4f} *\")\n",
    "        significant_electrodes.append(True)\n",
    "    else:\n",
    "        print(f\"Electrode: {name}, T-stat: {tstat[i]:.4f}, P-val: {pval[i]:.4f}\")\n",
    "        significant_electrodes.append(False)\n",
    "\n",
    "#significant_electrodes\n"
   ]
  },
  {
   "cell_type": "markdown",
   "id": "33919280-5b37-4aa1-a5c9-949800f44e47",
   "metadata": {},
   "source": [
    "### Graph the group ERPs"
   ]
  },
  {
   "cell_type": "code",
   "execution_count": 33,
   "id": "93cd31a5-32d4-4b2e-9086-8b55e0829a2b",
   "metadata": {},
   "outputs": [],
   "source": [
    "# calculate grand_ERPs (ERP average across all participants)\n",
    "grand_ERP_nb = np.nanmean (group_nonboundary, axis=0) #(electrodes) * time points (63, 1101)\n",
    "grand_ERP_b = np.nanmean (group_boundary, axis=0)     \n",
    "\n",
    "# Save the arrays\n",
    "\n",
    "# Define the file paths\n",
    "grand_boundary_path = '/Volumes/ezzyatlab/experiments/NEvent/exp_eeg_v1/eeg_postprocessing/group_ERPs/grand_boundary.csv'\n",
    "grand_nonboundary_path = '/Volumes/ezzyatlab/experiments/NEvent/exp_eeg_v1/eeg_postprocessing/group_ERPs/grand_nonboundary.csv'\n",
    "\n",
    "# Save the arrays to CSV\n",
    "np.savetxt(grand_boundary_path, grand_ERP_b, delimiter=',')\n",
    "np.savetxt(grand_nonboundary_path, grand_ERP_nb, delimiter=',')\n"
   ]
  },
  {
   "cell_type": "code",
   "execution_count": 91,
   "id": "759053a4-f07c-4550-a758-78862b8db7ab",
   "metadata": {},
   "outputs": [],
   "source": [
    "#Count the number of participants with NaN\n",
    "\n",
    "# electrodes have NaN values\n",
    "#nan_electrodes = np.isnan(group_nonboundary).any(axis=(0, 2))\n",
    "\n",
    "# Get the indices of electrodes with NaN values\n",
    "#electrodes_with_nan = np.where(nan_electrodes)[0]\n",
    "\n",
    "# Initialize a dictionary to store the count of participants with NaN values for each electrode\n",
    "#nan_count_per_electrode = {}\n",
    "\n",
    "# Iterate over each electrode that has NaN values\n",
    "#for electrode in electrodes_with_nan:\n",
    "#    nan_count = np.isnan(group_nonboundary[:, electrode, :]).any(axis=1).sum()\n",
    "#    nan_count_per_electrode[electrode] = nan_count\n",
    "\n",
    "    #for electrode, count in nan_count_per_electrode.items():\n",
    "#    print(f\"Electrode {electrode} has {count} participants with NaN values.\")\n",
    "\n"
   ]
  },
  {
   "cell_type": "code",
   "execution_count": 7,
   "id": "66d753e3-88d4-4542-99ec-1bd093f9e685",
   "metadata": {},
   "outputs": [],
   "source": [
    "\n",
    "# Assuming group_nonboundary has the shape (participants, electrodes, time points)\n",
    "number_of_electrodes = group_nonboundary.shape[1]\n",
    "\n",
    "# Initialize a 2D array to store the electrode index and the count of non-NaN participants\n",
    "count_per_electrode = np.zeros((number_of_electrodes, 2), dtype=int)\n",
    "\n",
    "# Iterate over all electrodes\n",
    "for electrode in range(number_of_electrodes):\n",
    "    # Count the number of non-NaN participants for this electrode\n",
    "    count = (~np.isnan(group_nonboundary[:, electrode, :])).all(axis=1).sum()\n",
    "    count_per_electrode[electrode] = [electrode, count]\n",
    "\n",
    "# Now non_nan_count_per_electrode is a 2D array with the first column as electrode index\n",
    "# and the second column as the count of non-NaN participants for that electrode\n",
    "#print(\"Count of each electrode\")\n",
    "#print(count_per_electrode)\n"
   ]
  },
  {
   "cell_type": "code",
   "execution_count": 8,
   "id": "e03f7670-4088-4251-8d89-eaab850c2c2f",
   "metadata": {},
   "outputs": [],
   "source": [
    "import math\n",
    "\n",
    "# shape should be (number_of_electrodes, number_of_time_points)\n",
    "std_nb = np.nanstd(group_nonboundary, axis=0, ddof=1)  \n",
    "std_b = np.nanstd(group_boundary, axis=0, ddof=1)  \n",
    "# Assuming std is correctly calculated before this snippet\n",
    "grand_ERP_nb_errorbar = np.zeros_like(std_nb) \n",
    "grand_ERP_b_errorbar = np.zeros_like(std_b) \n",
    "\n",
    "## nonboundary_errorbar\n",
    "for electrode in range(len(count_per_electrode)):\n",
    "    count = count_per_electrode[electrode, 1]  # Access the count for the electrode\n",
    "    grand_ERP_nb_errorbar[electrode, :] = std_nb[electrode, :] / math.sqrt(count)\n",
    "    #print(f\"In nb condition, electrode {electrode} has {count} valid (non-NaN) observations.\")\n",
    "\n",
    "\n",
    "## boundary_errorbar\n",
    "for electrode in range(len(count_per_electrode)):\n",
    "    count = count_per_electrode[electrode, 1]  # Access the count for the electrode\n",
    "    grand_ERP_b_errorbar[electrode, :] = std_b[electrode, :] / math.sqrt(count)\n",
    "    #print(f\"In b boundition, Electrode {electrode} has {count} valid (non-NaN) observations.\")\n"
   ]
  },
  {
   "cell_type": "code",
   "execution_count": 16,
   "id": "4fcd24ae-45d1-4546-8df5-3764d02b8b16",
   "metadata": {},
   "outputs": [
    {
     "ename": "NameError",
     "evalue": "name 'grand_ERP_nb' is not defined",
     "output_type": "error",
     "traceback": [
      "\u001b[0;31m---------------------------------------------------------------------------\u001b[0m",
      "\u001b[0;31mNameError\u001b[0m                                 Traceback (most recent call last)",
      "\u001b[0;32m/var/folders/np/qpdx19z16vj6zqjjk4pnx35r0000gn/T/ipykernel_88356/2494206233.py\u001b[0m in \u001b[0;36m<cell line: 7>\u001b[0;34m()\u001b[0m\n\u001b[1;32m      5\u001b[0m \u001b[0msns\u001b[0m\u001b[0;34m.\u001b[0m\u001b[0mset_style\u001b[0m\u001b[0;34m(\u001b[0m\u001b[0;34m\"whitegrid\"\u001b[0m\u001b[0;34m)\u001b[0m\u001b[0;34m\u001b[0m\u001b[0;34m\u001b[0m\u001b[0m\n\u001b[1;32m      6\u001b[0m \u001b[0;34m\u001b[0m\u001b[0m\n\u001b[0;32m----> 7\u001b[0;31m \u001b[0mtime_points\u001b[0m \u001b[0;34m=\u001b[0m \u001b[0mnp\u001b[0m\u001b[0;34m.\u001b[0m\u001b[0marange\u001b[0m\u001b[0;34m(\u001b[0m\u001b[0mgrand_ERP_nb\u001b[0m\u001b[0;34m.\u001b[0m\u001b[0mshape\u001b[0m\u001b[0;34m[\u001b[0m\u001b[0;36m1\u001b[0m\u001b[0;34m]\u001b[0m\u001b[0;34m)\u001b[0m  \u001b[0;31m# Assuming time points are linearly spaced\u001b[0m\u001b[0;34m\u001b[0m\u001b[0;34m\u001b[0m\u001b[0m\n\u001b[0m\u001b[1;32m      8\u001b[0m \u001b[0;34m\u001b[0m\u001b[0m\n\u001b[1;32m      9\u001b[0m \u001b[0;31m## grand_ERPs without error bars\u001b[0m\u001b[0;34m\u001b[0m\u001b[0;34m\u001b[0m\u001b[0m\n",
      "\u001b[0;31mNameError\u001b[0m: name 'grand_ERP_nb' is not defined"
     ]
    }
   ],
   "source": [
    "import seaborn as sns\n",
    "import matplotlib.patches as mpatches\n",
    "\n",
    "# Set Seaborn style\n",
    "sns.set_style(\"whitegrid\")\n",
    "\n",
    "time_points = np.arange(grand_ERP_nb.shape[1])  # Assuming time points are linearly spaced\n",
    "\n",
    "## grand_ERPs without error bars\n",
    "fig, axs = plt.subplots(nrows=2, ncols=4, figsize=(20, 10)) \n",
    "\n",
    "# Flatten the axs array for easy iteration\n",
    "axs = axs.flatten()\n",
    "\n",
    "for ax, electrode in zip(axs, electrode_names):\n",
    "    electrode_idx = np.array(data_channels) == electrode\n",
    "    # Extract the mean ERP and SEM for the current electrode\n",
    "    mean_erp_b = grand_ERP_b[electrode_idx, :].flatten()\n",
    "    sem_b = grand_ERP_b_errorbar[electrode_idx, :].flatten()\n",
    "    \n",
    "    mean_erp_nb = grand_ERP_nb[electrode_idx, :].flatten()\n",
    "    sem_nb = grand_ERP_nb_errorbar[electrode_idx, :].flatten()\n",
    "    \n",
    "    # Plot mean ERP for boundary condition\n",
    "    ax.plot(time_points, mean_erp_b, label='Boundary')\n",
    "    # Add shaded SEM area for boundary condition\n",
    "    ax.fill_between(time_points, mean_erp_b - sem_b, mean_erp_b + sem_b, alpha=0.2)\n",
    "    \n",
    "    # Plot mean ERP for nonboundary condition\n",
    "    ax.plot(time_points, mean_erp_nb, label='NonBoundary')\n",
    "    # Add shaded SEM area for nonboundary condition\n",
    "    ax.fill_between(time_points, mean_erp_nb - sem_nb, mean_erp_nb + sem_nb, alpha=0.2)\n",
    "    \n",
    "    # Set the rest of the plot attributes\n",
    "    ax.legend()\n",
    "    ax.set_xlabel('Time Rel. Stimulus Onset (ms)')\n",
    "    ax.set_ylabel('Voltage $\\mu$V')\n",
    "    ax.set_xticks([0, 100, 200, 400, 600, 800, 1000])  # Ensure these match your data\n",
    "    ax.set_xticklabels([-100, 0, 100, 300, 500, 700, 900])  # Ensure these match your data\n",
    "    ax.set_title(f'{condition_label}_{electrode}')\n",
    "    ax.set_ylim(-10, 20)\n",
    "    legend = ax.get_legend()\n",
    "    if legend:\n",
    "        legend.remove()\n",
    "        \n",
    "    # After plotting is done for all electrodes, create a legend for the error bars only\n",
    "    boundary_patch = mpatches.Patch(color='blue', label='Boundary Error')\n",
    "    nonboundary_patch = mpatches.Patch(color='orange',label='NonBoundary Error')\n",
    "    # Add the custom legend to the current subplot\n",
    "    ax.legend(handles=[boundary_patch, nonboundary_patch])\n",
    "    \n",
    "# Save and show the figure\n",
    "figure_fname = os.path.join(data_folder, 'eeg_postprocessing', 'group_ERPs', 'Grand_ERPs_All_Electrodes_with_Error_Bars.pdf')\n",
    "plt.savefig(figure_fname, bbox_inches='tight')\n"
   ]
  },
  {
   "cell_type": "code",
   "execution_count": 96,
   "id": "063d81a3-ddf8-41fc-8b80-106fd47f2dd3",
   "metadata": {},
   "outputs": [],
   "source": [
    "## grand_ERPs without error bars\n",
    "fig, axs = plt.subplots(nrows=2, ncols=4, figsize=(20, 10)) \n",
    "\n",
    "# Flatten the axs array for easy iteration\n",
    "axs = axs.flatten()\n",
    "\n",
    "for ax, electrode in zip(axs, electrode_names):\n",
    "    electrode_idx = np.array(data_channels) == electrode\n",
    "    ax.plot(grand_ERP_b[electrode_idx,:].T)\n",
    "    ax.plot(grand_ERP_nb[electrode_idx,:].T) # nb_ERP[electrode_idx,:].squeeze()\n",
    "    ax.legend(['Boundary','NonBoundary'])\n",
    "    ax.set_xlabel('Time Rel. Stimulus Onset (ms)'); \n",
    "    ax.set_ylabel('Voltage $\\mu$V');\n",
    "    ax.set_xticks([0,100,200,400,600,800,1000]); #time point of the vector\n",
    "    ax.set_xticklabels([-100,0,100,300,500,700,900]); #actural time point\n",
    "    ax.set_title(f'{condition_label}_{electrode}')\n",
    "    ax.set_ylim(-10, 20)\n",
    "\n",
    "# Remove unused subplots when cols are not filled\n",
    "for i in range(len(electrode_names), len(axs)):\n",
    "    fig.delaxes(axs[i])\n",
    "\n",
    "# Adjust the space between the subplots\n",
    "plt.subplots_adjust(wspace=0.3, hspace=0.3)\n",
    "\n",
    "figure_fname = os.path.join(data_folder, 'eeg_postprocessing','group_ERPs' ,\n",
    "                            f'Grand_ERPs_All_Electrodes.pdf')\n",
    "# save the file \n",
    "plt.savefig(figure_fname, bbox_inches='tight')"
   ]
  },
  {
   "cell_type": "markdown",
   "id": "37ccede2-9aec-45df-be16-47383a597092",
   "metadata": {},
   "source": [
    "## Topomap with sig electrodes"
   ]
  },
  {
   "cell_type": "code",
   "execution_count": 37,
   "id": "d814ba5b-7774-4c0a-a02f-a1065f4ce46d",
   "metadata": {},
   "outputs": [
    {
     "data": {
      "text/plain": [
       "array([-2.52196601e-06,  2.47138293e-06,  0.00000000e+00, -1.03897948e-06,\n",
       "       -1.19383406e-07,  5.78049309e-07,  3.47456313e-06,  3.06854675e-06,\n",
       "        4.50340390e-07,  3.91212999e-07,  2.29131286e-06,  5.07344093e-06,\n",
       "        5.45866534e-06,  4.02661478e-06,  2.35775063e-06,  1.82247216e-06,\n",
       "        1.29395948e-06,  1.71112304e-06,  4.12001407e-06,  1.44766407e-06,\n",
       "       -2.40896940e-07,  2.26050886e-06,  5.06847404e-06,  5.17938227e-06,\n",
       "        2.85334366e-06,  0.00000000e+00, -2.86551338e-06, -2.18938257e-07,\n",
       "        3.26475299e-06,  3.55672516e-07, -2.78899537e-06, -3.46071799e-06,\n",
       "       -1.79626660e-06, -3.48841388e-07,  1.89510485e-07,  1.96522685e-06,\n",
       "       -2.63000736e-07,  2.66914384e-08,  1.94575187e-06,  4.51418531e-06,\n",
       "        1.31454021e-06,  1.26348894e-06,  3.83959441e-06,  4.93997577e-06,\n",
       "        3.58571992e-06,  2.10013512e-06,  3.10950377e-06,  3.55496064e-06,\n",
       "        3.11900007e-06,  1.75700199e-06,  3.02386831e-06,  4.85089386e-06,\n",
       "        5.73286274e-06,  3.90919645e-06,  6.67999326e-07,  1.08224840e-06,\n",
       "        4.37373200e-06,  1.67694896e-06, -7.79807301e-07, -1.04038757e-06,\n",
       "       -4.18103895e-06, -9.06556926e-07,  1.85021604e-06])"
      ]
     },
     "execution_count": 37,
     "metadata": {},
     "output_type": "execute_result"
    }
   ],
   "source": [
    "\n",
    "# calculate grand_mean (P300 amplitude average across all participants)\n",
    "grand_mean_diff = np.mean(grand_ERP_b [:,start_window:end_window],axis=1)- np.mean(grand_ERP_nb [:,start_window:end_window],axis=1)\n",
    "\n",
    "# exclude broken electrode\n",
    "grand_mean_diff[25]=0 #broken electrodes\n",
    "grand_mean_diff[2]=0\n",
    "\n",
    "#adjust the unit\n",
    "grand_mean_diff=grand_mean_diff/1e6\n",
    "\n",
    "#print out the difference\n",
    "grand_mean_diff"
   ]
  },
  {
   "cell_type": "code",
   "execution_count": 39,
   "id": "19f0726a-626f-489b-899e-05902ed5daae",
   "metadata": {},
   "outputs": [],
   "source": [
    "info = raw.info\n",
    "\n",
    "# Create the EvokedArray, ensuring grand_mean_b is 2D (n_channels, 1)\n",
    "grand_mean_2d = grand_mean_diff[:, np.newaxis]  # Add an axis to make it 2D\n",
    "\n",
    "# Create the Evoked object\n",
    "evoked_grand_mean = mne.EvokedArray(grand_mean_2d, info, tmin=0)\n",
    "\n",
    "# Define a threshold and create the mask\n",
    "#mask = evoked_grand_mean.data > 1e-13\n",
    "significant_electrodes=np.array(significant_electrodes)\n",
    "mask=significant_electrodes.reshape((63,1))\n",
    "\n",
    "mask_params = dict(markersize=6, markerfacecolor=\"y\")\n",
    "\n",
    "# Plot the topomap for the grand mean across participants\n",
    "\n",
    "\n",
    "im = evoked_grand_mean.plot_topomap(times=[0], ch_type='eeg', time_unit='s', colorbar=True,\n",
    "                               mask=mask, mask_params=mask_params)\n",
    "\n",
    "im.axes[0].set_title('300-700ms')\n",
    "#plt.show()\n",
    "figure_fname = os.path.join(data_folder, 'eeg_postprocessing', 'topo_maps',\n",
    "                            f'Topo_maps_sig_electrodes.pdf')\n",
    "\n",
    "# save the file \n",
    "plt.savefig(figure_fname, bbox_inches='tight')\n",
    "\n",
    "# Close the figure window\n",
    "plt.close()  \n"
   ]
  },
  {
   "cell_type": "markdown",
   "id": "4bd75c59-fb65-44a9-87c6-edfbc56b99a9",
   "metadata": {},
   "source": [
    "## Does the group_boundary - group_nonboundary negatively correlate with the b-nb temporal order? but maybe not at all the electrodes? Pz?"
   ]
  },
  {
   "cell_type": "code",
   "execution_count": 111,
   "id": "c89f8678-5a7f-486a-8a3c-8a32533926ad",
   "metadata": {},
   "outputs": [
    {
     "name": "stdout",
     "output_type": "stream",
     "text": [
      "[ 6.61349773  2.23201406  2.22010389  3.00574922 -0.67118476  1.39804191\n",
      "  7.18464127  4.03649968  3.33858257  5.7039335   1.59688445  7.13159919\n",
      "  4.6605652   0.21337824  6.3314789   6.77373228  2.67736654  8.39229089\n",
      "  2.00875845  2.32939313  6.66286301  3.57782073  7.34231353]\n"
     ]
    }
   ],
   "source": [
    "# Calculate the difference in mean amplitudes between conditions\n",
    "difference_b_nb = mean_b - mean_nb # with a shape (subject, electrodes)\n",
    "difference_b_nb.shape\n",
    "\n",
    "print(difference_b_nb[:,18])"
   ]
  },
  {
   "cell_type": "code",
   "execution_count": 112,
   "id": "cc66fbc4-ca10-43ff-baa0-87fb958ae424",
   "metadata": {},
   "outputs": [
    {
     "name": "stdout",
     "output_type": "stream",
     "text": [
      "those two numbers should be the same\n",
      "23\n",
      "23\n"
     ]
    },
    {
     "data": {
      "text/html": [
       "<div>\n",
       "<style scoped>\n",
       "    .dataframe tbody tr th:only-of-type {\n",
       "        vertical-align: middle;\n",
       "    }\n",
       "\n",
       "    .dataframe tbody tr th {\n",
       "        vertical-align: top;\n",
       "    }\n",
       "\n",
       "    .dataframe thead th {\n",
       "        text-align: right;\n",
       "    }\n",
       "</style>\n",
       "<table border=\"1\" class=\"dataframe\">\n",
       "  <thead>\n",
       "    <tr style=\"text-align: right;\">\n",
       "      <th></th>\n",
       "      <th>Metrics</th>\n",
       "      <th>B</th>\n",
       "      <th>Correct.order</th>\n",
       "      <th>Correct.Source</th>\n",
       "      <th>Incorrect.order</th>\n",
       "      <th>Incorrect.Source</th>\n",
       "      <th>NB</th>\n",
       "      <th>Subject</th>\n",
       "      <th>B-NB</th>\n",
       "    </tr>\n",
       "  </thead>\n",
       "  <tbody>\n",
       "    <tr>\n",
       "      <th>0</th>\n",
       "      <td>TemporalOrderAccuracy</td>\n",
       "      <td>0.571429</td>\n",
       "      <td>NaN</td>\n",
       "      <td>NaN</td>\n",
       "      <td>NaN</td>\n",
       "      <td>NaN</td>\n",
       "      <td>0.678571</td>\n",
       "      <td>sub-036</td>\n",
       "      <td>-0.107143</td>\n",
       "    </tr>\n",
       "    <tr>\n",
       "      <th>1</th>\n",
       "      <td>TemporalOrderAccuracy</td>\n",
       "      <td>0.357143</td>\n",
       "      <td>NaN</td>\n",
       "      <td>NaN</td>\n",
       "      <td>NaN</td>\n",
       "      <td>NaN</td>\n",
       "      <td>0.500000</td>\n",
       "      <td>sub-037</td>\n",
       "      <td>-0.142857</td>\n",
       "    </tr>\n",
       "    <tr>\n",
       "      <th>3</th>\n",
       "      <td>TemporalOrderAccuracy</td>\n",
       "      <td>0.571429</td>\n",
       "      <td>NaN</td>\n",
       "      <td>NaN</td>\n",
       "      <td>NaN</td>\n",
       "      <td>NaN</td>\n",
       "      <td>0.750000</td>\n",
       "      <td>sub-039</td>\n",
       "      <td>-0.178571</td>\n",
       "    </tr>\n",
       "    <tr>\n",
       "      <th>4</th>\n",
       "      <td>TemporalOrderAccuracy</td>\n",
       "      <td>0.523810</td>\n",
       "      <td>NaN</td>\n",
       "      <td>NaN</td>\n",
       "      <td>NaN</td>\n",
       "      <td>NaN</td>\n",
       "      <td>0.714286</td>\n",
       "      <td>sub-040</td>\n",
       "      <td>-0.190476</td>\n",
       "    </tr>\n",
       "    <tr>\n",
       "      <th>5</th>\n",
       "      <td>TemporalOrderAccuracy</td>\n",
       "      <td>0.404762</td>\n",
       "      <td>NaN</td>\n",
       "      <td>NaN</td>\n",
       "      <td>NaN</td>\n",
       "      <td>NaN</td>\n",
       "      <td>0.642857</td>\n",
       "      <td>sub-041</td>\n",
       "      <td>-0.238095</td>\n",
       "    </tr>\n",
       "    <tr>\n",
       "      <th>6</th>\n",
       "      <td>TemporalOrderAccuracy</td>\n",
       "      <td>0.738095</td>\n",
       "      <td>NaN</td>\n",
       "      <td>NaN</td>\n",
       "      <td>NaN</td>\n",
       "      <td>NaN</td>\n",
       "      <td>0.785714</td>\n",
       "      <td>sub-042</td>\n",
       "      <td>-0.047619</td>\n",
       "    </tr>\n",
       "    <tr>\n",
       "      <th>7</th>\n",
       "      <td>TemporalOrderAccuracy</td>\n",
       "      <td>0.690476</td>\n",
       "      <td>NaN</td>\n",
       "      <td>NaN</td>\n",
       "      <td>NaN</td>\n",
       "      <td>NaN</td>\n",
       "      <td>0.607143</td>\n",
       "      <td>sub-043</td>\n",
       "      <td>0.083333</td>\n",
       "    </tr>\n",
       "    <tr>\n",
       "      <th>8</th>\n",
       "      <td>TemporalOrderAccuracy</td>\n",
       "      <td>0.666667</td>\n",
       "      <td>NaN</td>\n",
       "      <td>NaN</td>\n",
       "      <td>NaN</td>\n",
       "      <td>NaN</td>\n",
       "      <td>0.750000</td>\n",
       "      <td>sub-044</td>\n",
       "      <td>-0.083333</td>\n",
       "    </tr>\n",
       "    <tr>\n",
       "      <th>9</th>\n",
       "      <td>TemporalOrderAccuracy</td>\n",
       "      <td>0.500000</td>\n",
       "      <td>NaN</td>\n",
       "      <td>NaN</td>\n",
       "      <td>NaN</td>\n",
       "      <td>NaN</td>\n",
       "      <td>0.696429</td>\n",
       "      <td>sub-045</td>\n",
       "      <td>-0.196429</td>\n",
       "    </tr>\n",
       "    <tr>\n",
       "      <th>10</th>\n",
       "      <td>TemporalOrderAccuracy</td>\n",
       "      <td>0.595238</td>\n",
       "      <td>NaN</td>\n",
       "      <td>NaN</td>\n",
       "      <td>NaN</td>\n",
       "      <td>NaN</td>\n",
       "      <td>0.875000</td>\n",
       "      <td>sub-046</td>\n",
       "      <td>-0.279762</td>\n",
       "    </tr>\n",
       "    <tr>\n",
       "      <th>11</th>\n",
       "      <td>TemporalOrderAccuracy</td>\n",
       "      <td>0.476191</td>\n",
       "      <td>NaN</td>\n",
       "      <td>NaN</td>\n",
       "      <td>NaN</td>\n",
       "      <td>NaN</td>\n",
       "      <td>0.732143</td>\n",
       "      <td>sub-047</td>\n",
       "      <td>-0.255952</td>\n",
       "    </tr>\n",
       "    <tr>\n",
       "      <th>12</th>\n",
       "      <td>TemporalOrderAccuracy</td>\n",
       "      <td>0.642857</td>\n",
       "      <td>NaN</td>\n",
       "      <td>NaN</td>\n",
       "      <td>NaN</td>\n",
       "      <td>NaN</td>\n",
       "      <td>0.607143</td>\n",
       "      <td>sub-048</td>\n",
       "      <td>0.035714</td>\n",
       "    </tr>\n",
       "    <tr>\n",
       "      <th>13</th>\n",
       "      <td>TemporalOrderAccuracy</td>\n",
       "      <td>0.547619</td>\n",
       "      <td>NaN</td>\n",
       "      <td>NaN</td>\n",
       "      <td>NaN</td>\n",
       "      <td>NaN</td>\n",
       "      <td>0.857143</td>\n",
       "      <td>sub-049</td>\n",
       "      <td>-0.309524</td>\n",
       "    </tr>\n",
       "    <tr>\n",
       "      <th>14</th>\n",
       "      <td>TemporalOrderAccuracy</td>\n",
       "      <td>0.761905</td>\n",
       "      <td>NaN</td>\n",
       "      <td>NaN</td>\n",
       "      <td>NaN</td>\n",
       "      <td>NaN</td>\n",
       "      <td>0.589286</td>\n",
       "      <td>sub-050</td>\n",
       "      <td>0.172619</td>\n",
       "    </tr>\n",
       "    <tr>\n",
       "      <th>15</th>\n",
       "      <td>TemporalOrderAccuracy</td>\n",
       "      <td>0.500000</td>\n",
       "      <td>NaN</td>\n",
       "      <td>NaN</td>\n",
       "      <td>NaN</td>\n",
       "      <td>NaN</td>\n",
       "      <td>0.714286</td>\n",
       "      <td>sub-051</td>\n",
       "      <td>-0.214286</td>\n",
       "    </tr>\n",
       "    <tr>\n",
       "      <th>16</th>\n",
       "      <td>TemporalOrderAccuracy</td>\n",
       "      <td>0.523810</td>\n",
       "      <td>NaN</td>\n",
       "      <td>NaN</td>\n",
       "      <td>NaN</td>\n",
       "      <td>NaN</td>\n",
       "      <td>0.696429</td>\n",
       "      <td>sub-052</td>\n",
       "      <td>-0.172619</td>\n",
       "    </tr>\n",
       "    <tr>\n",
       "      <th>17</th>\n",
       "      <td>TemporalOrderAccuracy</td>\n",
       "      <td>0.547619</td>\n",
       "      <td>NaN</td>\n",
       "      <td>NaN</td>\n",
       "      <td>NaN</td>\n",
       "      <td>NaN</td>\n",
       "      <td>0.732143</td>\n",
       "      <td>sub-053</td>\n",
       "      <td>-0.184524</td>\n",
       "    </tr>\n",
       "    <tr>\n",
       "      <th>18</th>\n",
       "      <td>TemporalOrderAccuracy</td>\n",
       "      <td>0.595238</td>\n",
       "      <td>NaN</td>\n",
       "      <td>NaN</td>\n",
       "      <td>NaN</td>\n",
       "      <td>NaN</td>\n",
       "      <td>0.696429</td>\n",
       "      <td>sub-054</td>\n",
       "      <td>-0.101190</td>\n",
       "    </tr>\n",
       "    <tr>\n",
       "      <th>19</th>\n",
       "      <td>TemporalOrderAccuracy</td>\n",
       "      <td>0.642857</td>\n",
       "      <td>NaN</td>\n",
       "      <td>NaN</td>\n",
       "      <td>NaN</td>\n",
       "      <td>NaN</td>\n",
       "      <td>0.571429</td>\n",
       "      <td>sub-055</td>\n",
       "      <td>0.071429</td>\n",
       "    </tr>\n",
       "    <tr>\n",
       "      <th>20</th>\n",
       "      <td>TemporalOrderAccuracy</td>\n",
       "      <td>0.571429</td>\n",
       "      <td>NaN</td>\n",
       "      <td>NaN</td>\n",
       "      <td>NaN</td>\n",
       "      <td>NaN</td>\n",
       "      <td>0.839286</td>\n",
       "      <td>sub-056</td>\n",
       "      <td>-0.267857</td>\n",
       "    </tr>\n",
       "    <tr>\n",
       "      <th>21</th>\n",
       "      <td>TemporalOrderAccuracy</td>\n",
       "      <td>0.571429</td>\n",
       "      <td>NaN</td>\n",
       "      <td>NaN</td>\n",
       "      <td>NaN</td>\n",
       "      <td>NaN</td>\n",
       "      <td>0.428571</td>\n",
       "      <td>sub-057</td>\n",
       "      <td>0.142857</td>\n",
       "    </tr>\n",
       "    <tr>\n",
       "      <th>22</th>\n",
       "      <td>TemporalOrderAccuracy</td>\n",
       "      <td>0.714286</td>\n",
       "      <td>NaN</td>\n",
       "      <td>NaN</td>\n",
       "      <td>NaN</td>\n",
       "      <td>NaN</td>\n",
       "      <td>0.714286</td>\n",
       "      <td>sub-058</td>\n",
       "      <td>0.000000</td>\n",
       "    </tr>\n",
       "    <tr>\n",
       "      <th>25</th>\n",
       "      <td>TemporalOrderAccuracy</td>\n",
       "      <td>0.714286</td>\n",
       "      <td>NaN</td>\n",
       "      <td>NaN</td>\n",
       "      <td>NaN</td>\n",
       "      <td>NaN</td>\n",
       "      <td>0.803571</td>\n",
       "      <td>sub-061</td>\n",
       "      <td>-0.089286</td>\n",
       "    </tr>\n",
       "  </tbody>\n",
       "</table>\n",
       "</div>"
      ],
      "text/plain": [
       "                  Metrics         B  Correct.order  Correct.Source  \\\n",
       "0   TemporalOrderAccuracy  0.571429            NaN             NaN   \n",
       "1   TemporalOrderAccuracy  0.357143            NaN             NaN   \n",
       "3   TemporalOrderAccuracy  0.571429            NaN             NaN   \n",
       "4   TemporalOrderAccuracy  0.523810            NaN             NaN   \n",
       "5   TemporalOrderAccuracy  0.404762            NaN             NaN   \n",
       "6   TemporalOrderAccuracy  0.738095            NaN             NaN   \n",
       "7   TemporalOrderAccuracy  0.690476            NaN             NaN   \n",
       "8   TemporalOrderAccuracy  0.666667            NaN             NaN   \n",
       "9   TemporalOrderAccuracy  0.500000            NaN             NaN   \n",
       "10  TemporalOrderAccuracy  0.595238            NaN             NaN   \n",
       "11  TemporalOrderAccuracy  0.476191            NaN             NaN   \n",
       "12  TemporalOrderAccuracy  0.642857            NaN             NaN   \n",
       "13  TemporalOrderAccuracy  0.547619            NaN             NaN   \n",
       "14  TemporalOrderAccuracy  0.761905            NaN             NaN   \n",
       "15  TemporalOrderAccuracy  0.500000            NaN             NaN   \n",
       "16  TemporalOrderAccuracy  0.523810            NaN             NaN   \n",
       "17  TemporalOrderAccuracy  0.547619            NaN             NaN   \n",
       "18  TemporalOrderAccuracy  0.595238            NaN             NaN   \n",
       "19  TemporalOrderAccuracy  0.642857            NaN             NaN   \n",
       "20  TemporalOrderAccuracy  0.571429            NaN             NaN   \n",
       "21  TemporalOrderAccuracy  0.571429            NaN             NaN   \n",
       "22  TemporalOrderAccuracy  0.714286            NaN             NaN   \n",
       "25  TemporalOrderAccuracy  0.714286            NaN             NaN   \n",
       "\n",
       "    Incorrect.order  Incorrect.Source        NB  Subject      B-NB  \n",
       "0               NaN               NaN  0.678571  sub-036 -0.107143  \n",
       "1               NaN               NaN  0.500000  sub-037 -0.142857  \n",
       "3               NaN               NaN  0.750000  sub-039 -0.178571  \n",
       "4               NaN               NaN  0.714286  sub-040 -0.190476  \n",
       "5               NaN               NaN  0.642857  sub-041 -0.238095  \n",
       "6               NaN               NaN  0.785714  sub-042 -0.047619  \n",
       "7               NaN               NaN  0.607143  sub-043  0.083333  \n",
       "8               NaN               NaN  0.750000  sub-044 -0.083333  \n",
       "9               NaN               NaN  0.696429  sub-045 -0.196429  \n",
       "10              NaN               NaN  0.875000  sub-046 -0.279762  \n",
       "11              NaN               NaN  0.732143  sub-047 -0.255952  \n",
       "12              NaN               NaN  0.607143  sub-048  0.035714  \n",
       "13              NaN               NaN  0.857143  sub-049 -0.309524  \n",
       "14              NaN               NaN  0.589286  sub-050  0.172619  \n",
       "15              NaN               NaN  0.714286  sub-051 -0.214286  \n",
       "16              NaN               NaN  0.696429  sub-052 -0.172619  \n",
       "17              NaN               NaN  0.732143  sub-053 -0.184524  \n",
       "18              NaN               NaN  0.696429  sub-054 -0.101190  \n",
       "19              NaN               NaN  0.571429  sub-055  0.071429  \n",
       "20              NaN               NaN  0.839286  sub-056 -0.267857  \n",
       "21              NaN               NaN  0.428571  sub-057  0.142857  \n",
       "22              NaN               NaN  0.714286  sub-058  0.000000  \n",
       "25              NaN               NaN  0.803571  sub-061 -0.089286  "
      ]
     },
     "execution_count": 112,
     "metadata": {},
     "output_type": "execute_result"
    }
   ],
   "source": [
    "# load beh_temporal_order file \n",
    "beh_order_accuracy = pd.read_csv('/Volumes/ezzyatlab/experiments/NEvent/exp_eeg_v1/eeg_beh_results/group_results/order_accuracy.csv')\n",
    "#print(beh_order_accuracy.shape) \n",
    "\n",
    "#calculate beh B-NB\n",
    "beh_order_accuracy['B-NB'] = (beh_order_accuracy['B'] - beh_order_accuracy['NB'])\n",
    "#beh_order_accuracy['B-NB'] = ((beh_order_accuracy['B'] - beh_order_accuracy['NB']))/beh_order_accuracy['NB']\n",
    "\n",
    "#remove any subject in the beh data but not in the eeg subject list\n",
    "\n",
    "beh_order_accuracy['Subject']= [\"sub-0\" + s.split()[1] for s in beh_order_accuracy['Subject']]\n",
    "beh_order_accuracy = beh_order_accuracy[beh_order_accuracy['Subject'].isin(subject_list)]\n",
    "\n",
    "#check if the leng of the lists matched\n",
    "print(\"those two numbers should be the same\")\n",
    "print(len(subject_list))\n",
    "print(len(beh_order_accuracy['Subject'])) # those two numbers should be the same\n",
    "beh_order_accuracy.head(30)"
   ]
  },
  {
   "cell_type": "code",
   "execution_count": 113,
   "id": "6a40acd9-6d2e-4754-8556-a0bd74cca485",
   "metadata": {},
   "outputs": [
    {
     "name": "stdout",
     "output_type": "stream",
     "text": [
      "Electrode: Fp1, Correlation: 0.2947, P-value: 0.1723\n",
      "Electrode: Fz, Correlation: 0.2633, P-value: 0.2247\n",
      "Electrode: F3, Correlation: 0.3401, P-value: 0.1214\n",
      "Electrode: F7, Correlation: 0.2610, P-value: 0.2291\n",
      "Electrode: FT9, Correlation: 0.3397, P-value: 0.1128\n",
      "Electrode: FC5, Correlation: 0.2271, P-value: 0.2973\n",
      "Electrode: FC1, Correlation: 0.1787, P-value: 0.4147\n",
      "Electrode: C3, Correlation: 0.1027, P-value: 0.6410\n",
      "Electrode: T7, Correlation: 0.2395, P-value: 0.2710\n",
      "Electrode: TP9, Correlation: 0.2767, P-value: 0.2011\n",
      "Electrode: CP5, Correlation: 0.0793, P-value: 0.7191\n",
      "Electrode: CP1, Correlation: 0.0862, P-value: 0.6959\n",
      "Electrode: Pz, Correlation: 0.0874, P-value: 0.6917\n",
      "Electrode: P3, Correlation: 0.0548, P-value: 0.8037\n",
      "Electrode: P7, Correlation: 0.1477, P-value: 0.5013\n",
      "Electrode: O1, Correlation: 0.3307, P-value: 0.1232\n",
      "Electrode: Oz, Correlation: 0.3454, P-value: 0.1065\n",
      "Electrode: O2, Correlation: 0.2945, P-value: 0.1726\n",
      "Electrode: P4, Correlation: 0.1292, P-value: 0.5567\n",
      "Electrode: P8, Correlation: 0.3972, P-value: 0.0672\n",
      "Electrode: TP10, Correlation: 0.0282, P-value: 0.8982\n",
      "Electrode: CP6, Correlation: 0.0623, P-value: 0.7777\n",
      "Electrode: CP2, Correlation: 0.0488, P-value: 0.8251\n",
      "Electrode: Cz, Correlation: 0.1527, P-value: 0.4974\n",
      "Electrode: C4, Correlation: 0.0235, P-value: 0.9154\n",
      "Electrode: T8, Correlation: 0.3846, P-value: 0.0941\n",
      "Electrode: FT10, Correlation: -0.0146, P-value: 0.9474\n",
      "Electrode: FC6, Correlation: 0.0290, P-value: 0.8955\n",
      "Electrode: FC2, Correlation: 0.0965, P-value: 0.6614\n",
      "Electrode: F4, Correlation: 0.1141, P-value: 0.6042\n",
      "Electrode: F8, Correlation: 0.0883, P-value: 0.6886\n",
      "Electrode: Fp2, Correlation: 0.2468, P-value: 0.2562\n",
      "Electrode: AF7, Correlation: 0.2963, P-value: 0.1698\n",
      "Electrode: AF3, Correlation: 0.2253, P-value: 0.3134\n",
      "Electrode: AFz, Correlation: 0.2277, P-value: 0.2960\n",
      "Electrode: F1, Correlation: 0.2232, P-value: 0.3060\n",
      "Electrode: F5, Correlation: 0.2304, P-value: 0.2903\n",
      "Electrode: FT7, Correlation: 0.2769, P-value: 0.2009\n",
      "Electrode: FC3, Correlation: 0.1795, P-value: 0.4240\n",
      "Electrode: C1, Correlation: 0.1178, P-value: 0.5926\n",
      "Electrode: C5, Correlation: 0.1748, P-value: 0.4249\n",
      "Electrode: TP7, Correlation: 0.1927, P-value: 0.3783\n",
      "Electrode: CP3, Correlation: 0.0281, P-value: 0.8989\n",
      "Electrode: P1, Correlation: 0.0689, P-value: 0.7549\n",
      "Electrode: P5, Correlation: -0.0158, P-value: 0.9430\n",
      "Electrode: PO7, Correlation: 0.2532, P-value: 0.2437\n",
      "Electrode: PO3, Correlation: 0.2390, P-value: 0.2721\n",
      "Electrode: POz, Correlation: 0.2006, P-value: 0.3587\n",
      "Electrode: PO4, Correlation: 0.1887, P-value: 0.3886\n",
      "Electrode: PO8, Correlation: 0.2850, P-value: 0.1875\n",
      "Electrode: P6, Correlation: 0.2375, P-value: 0.2753\n",
      "Electrode: P2, Correlation: 0.0432, P-value: 0.8449\n",
      "Electrode: CPz, Correlation: 0.1239, P-value: 0.5732\n",
      "Electrode: CP4, Correlation: 0.0530, P-value: 0.8102\n",
      "Electrode: TP8, Correlation: 0.0407, P-value: 0.8536\n",
      "Electrode: C6, Correlation: -0.0431, P-value: 0.8451\n",
      "Electrode: C2, Correlation: 0.1002, P-value: 0.6491\n",
      "Electrode: FC4, Correlation: 0.0829, P-value: 0.7068\n",
      "Electrode: FT8, Correlation: -0.0230, P-value: 0.9169\n",
      "Electrode: F6, Correlation: 0.1104, P-value: 0.6160\n",
      "Electrode: AF8, Correlation: 0.1588, P-value: 0.4693\n",
      "Electrode: AF4, Correlation: 0.1692, P-value: 0.4402\n",
      "Electrode: F2, Correlation: 0.1335, P-value: 0.5436\n"
     ]
    }
   ],
   "source": [
    "correlation_results = {}\n",
    "from scipy.stats import pearsonr\n",
    "\n",
    "# Iterate over each electrode\n",
    "for i, electrode in enumerate(data_channels):\n",
    "    # Extract the difference scores for this electrode across subjects\n",
    "    diff_scores = difference_b_nb[:, i]\n",
    "    \n",
    "    # filter out the NaNs\n",
    "    valid_indices = ~np.isnan(diff_scores) & ~np.isnan(beh_order_accuracy['B-NB'])\n",
    "    diff_scores_filtered = diff_scores[valid_indices]\n",
    "    beh_order_accuracy_filtered = beh_order_accuracy['B-NB'][valid_indices]\n",
    "    \n",
    "    #Run the correlation\n",
    "    if len(diff_scores_filtered) > 1:  # Ensure there are at least two data points\n",
    "        correlation, p_value = pearsonr(diff_scores_filtered, beh_order_accuracy_filtered)\n",
    "        \n",
    "        # Store the results\n",
    "        correlation_results[electrode] = (correlation, p_value)\n",
    "    else:\n",
    "        correlation_results[electrode] = (np.nan, np.nan)  # Handle case with insufficient data\n",
    "\n",
    "# print the correlation results\n",
    "for electrode, (correlation, p_value) in correlation_results.items():\n",
    "    print(f\"Electrode: {electrode}, Correlation: {correlation:.4f}, P-value: {p_value:.4f}\")\n"
   ]
  },
  {
   "cell_type": "code",
   "execution_count": 114,
   "id": "cd7eb71e-154a-49d0-af49-8346392f4e42",
   "metadata": {},
   "outputs": [],
   "source": [
    "import matplotlib.pyplot as plt\n",
    "\n",
    "electrode_of_interest= ['Cz','Fz','Pz','P3','P4']\n",
    "\n",
    "# Setup for plotting exactly 6 plots\n",
    "num_plots = len(electrode_of_interest)\n",
    "num_cols = 3  # Set the number of columns to 3 for 6 plots to be arranged in 2 rows\n",
    "num_rows = 2  # Two rows to accommodate 6 plots\n",
    "\n",
    "# Create a large figure to hold all subplots\n",
    "plt.figure(figsize=(num_cols * 5, num_rows * 5))\n",
    "\n",
    "# Iterate over each electrode of interest to create a subplot for each\n",
    "for i, electrode in enumerate(electrode_of_interest):\n",
    "    ax = plt.subplot(num_rows, num_cols, i + 1)\n",
    "    \n",
    "    # Find the index of the current electrode in the data_channels list\n",
    "    electrode_index = data_channels.index(electrode)\n",
    "    \n",
    "    # Extract the difference scores for this electrode across subjects\n",
    "    diff_scores = difference_b_nb[:, electrode_index]\n",
    "    \n",
    "    # Scatter plot of difference scores vs. B-NB accuracy scores\n",
    "    ax.scatter(diff_scores, beh_order_accuracy['B-NB'], alpha=0.7)\n",
    "    \n",
    "    # Annotate the plot with the correlation coefficient and p-value\n",
    "    # Ensure that correlation and p_value are correctly retrieved for each electrode\n",
    "    correlation, p_value = correlation_results[electrode]\n",
    "    ax.text(0.05, 0.95, f'r={correlation:.4f}, p={p_value:.4f}', transform=ax.transAxes, \n",
    "            verticalalignment='top', bbox=dict(boxstyle='round', facecolor='wheat', alpha=0.5))\n",
    "    \n",
    "    # Set plot titles and labels\n",
    "    ax.set_title(f\"Electrode: {electrode}\")\n",
    "    ax.set_xlabel('Difference B-NB (μV)')\n",
    "    ax.set_ylabel('B-NB Score (%)')\n",
    "\n",
    "# Ensure a clean layout\n",
    "plt.tight_layout()\n",
    "\n",
    "\n",
    "figure_fname = os.path.join(data_folder, 'eeg_postprocessing','correlation','order_correlation.pdf')\n",
    "# save the file \n",
    "plt.savefig(figure_fname)"
   ]
  },
  {
   "cell_type": "code",
   "execution_count": 88,
   "id": "fe8afc6b-ac3f-4a6f-89f0-41b25d3162c2",
   "metadata": {},
   "outputs": [
    {
     "name": "stdout",
     "output_type": "stream",
     "text": [
      "[ 6.83659794e+00  5.91854040e-01  1.33300950e+00  4.58863803e-03\n",
      "  2.81292226e+00  9.79932275e+00  8.16856910e+00  4.18177497e+00\n",
      "  7.46696318e+00  5.17843412e+00  1.07683208e+01  4.94957856e+00\n",
      "  2.01513482e+00 -1.54615909e+02  1.04333133e+01  3.09005067e+00\n",
      "  1.25094255e+01  8.56321628e-01]\n"
     ]
    }
   ],
   "source": [
    "diff_scores = difference_b_nb[:, 23]\n",
    "print(diff_scores)"
   ]
  },
  {
   "cell_type": "markdown",
   "id": "9370bfa9-1f9b-46ee-9fec-2ba2b27302f6",
   "metadata": {},
   "source": [
    "## Does the group_boundary - group_nonboundary negatively correlate with the b-nb source memory? but maybe not at all the electrodes? Pz?"
   ]
  },
  {
   "cell_type": "code",
   "execution_count": 117,
   "id": "503120db-6df4-4371-b1d6-fb2469d101e5",
   "metadata": {},
   "outputs": [
    {
     "name": "stdout",
     "output_type": "stream",
     "text": [
      "23\n",
      "23\n"
     ]
    },
    {
     "data": {
      "text/html": [
       "<div>\n",
       "<style scoped>\n",
       "    .dataframe tbody tr th:only-of-type {\n",
       "        vertical-align: middle;\n",
       "    }\n",
       "\n",
       "    .dataframe tbody tr th {\n",
       "        vertical-align: top;\n",
       "    }\n",
       "\n",
       "    .dataframe thead th {\n",
       "        text-align: right;\n",
       "    }\n",
       "</style>\n",
       "<table border=\"1\" class=\"dataframe\">\n",
       "  <thead>\n",
       "    <tr style=\"text-align: right;\">\n",
       "      <th></th>\n",
       "      <th>Metrics</th>\n",
       "      <th>B</th>\n",
       "      <th>Correct.order</th>\n",
       "      <th>Correct.Source</th>\n",
       "      <th>FT</th>\n",
       "      <th>Incorrect.order</th>\n",
       "      <th>Incorrect.Source</th>\n",
       "      <th>NB</th>\n",
       "      <th>PreB</th>\n",
       "      <th>Subject</th>\n",
       "      <th>B-NB</th>\n",
       "    </tr>\n",
       "  </thead>\n",
       "  <tbody>\n",
       "    <tr>\n",
       "      <th>0</th>\n",
       "      <td>SourceMemoryAccuracy</td>\n",
       "      <td>0.952381</td>\n",
       "      <td>NaN</td>\n",
       "      <td>NaN</td>\n",
       "      <td>0.785714</td>\n",
       "      <td>NaN</td>\n",
       "      <td>NaN</td>\n",
       "      <td>0.807143</td>\n",
       "      <td>0.750000</td>\n",
       "      <td>sub-036</td>\n",
       "      <td>0.145238</td>\n",
       "    </tr>\n",
       "    <tr>\n",
       "      <th>1</th>\n",
       "      <td>SourceMemoryAccuracy</td>\n",
       "      <td>0.738095</td>\n",
       "      <td>NaN</td>\n",
       "      <td>NaN</td>\n",
       "      <td>0.642857</td>\n",
       "      <td>NaN</td>\n",
       "      <td>NaN</td>\n",
       "      <td>0.664286</td>\n",
       "      <td>0.660714</td>\n",
       "      <td>sub-037</td>\n",
       "      <td>0.073809</td>\n",
       "    </tr>\n",
       "    <tr>\n",
       "      <th>3</th>\n",
       "      <td>SourceMemoryAccuracy</td>\n",
       "      <td>0.714286</td>\n",
       "      <td>NaN</td>\n",
       "      <td>NaN</td>\n",
       "      <td>0.571429</td>\n",
       "      <td>NaN</td>\n",
       "      <td>NaN</td>\n",
       "      <td>0.678571</td>\n",
       "      <td>0.607143</td>\n",
       "      <td>sub-039</td>\n",
       "      <td>0.035714</td>\n",
       "    </tr>\n",
       "    <tr>\n",
       "      <th>4</th>\n",
       "      <td>SourceMemoryAccuracy</td>\n",
       "      <td>0.833333</td>\n",
       "      <td>NaN</td>\n",
       "      <td>NaN</td>\n",
       "      <td>0.857143</td>\n",
       "      <td>NaN</td>\n",
       "      <td>NaN</td>\n",
       "      <td>0.671429</td>\n",
       "      <td>0.678571</td>\n",
       "      <td>sub-040</td>\n",
       "      <td>0.161905</td>\n",
       "    </tr>\n",
       "    <tr>\n",
       "      <th>5</th>\n",
       "      <td>SourceMemoryAccuracy</td>\n",
       "      <td>0.666667</td>\n",
       "      <td>NaN</td>\n",
       "      <td>NaN</td>\n",
       "      <td>0.642857</td>\n",
       "      <td>NaN</td>\n",
       "      <td>NaN</td>\n",
       "      <td>0.657143</td>\n",
       "      <td>0.571429</td>\n",
       "      <td>sub-041</td>\n",
       "      <td>0.009524</td>\n",
       "    </tr>\n",
       "  </tbody>\n",
       "</table>\n",
       "</div>"
      ],
      "text/plain": [
       "                Metrics         B  Correct.order  Correct.Source        FT  \\\n",
       "0  SourceMemoryAccuracy  0.952381            NaN             NaN  0.785714   \n",
       "1  SourceMemoryAccuracy  0.738095            NaN             NaN  0.642857   \n",
       "3  SourceMemoryAccuracy  0.714286            NaN             NaN  0.571429   \n",
       "4  SourceMemoryAccuracy  0.833333            NaN             NaN  0.857143   \n",
       "5  SourceMemoryAccuracy  0.666667            NaN             NaN  0.642857   \n",
       "\n",
       "   Incorrect.order  Incorrect.Source        NB      PreB  Subject      B-NB  \n",
       "0              NaN               NaN  0.807143  0.750000  sub-036  0.145238  \n",
       "1              NaN               NaN  0.664286  0.660714  sub-037  0.073809  \n",
       "3              NaN               NaN  0.678571  0.607143  sub-039  0.035714  \n",
       "4              NaN               NaN  0.671429  0.678571  sub-040  0.161905  \n",
       "5              NaN               NaN  0.657143  0.571429  sub-041  0.009524  "
      ]
     },
     "execution_count": 117,
     "metadata": {},
     "output_type": "execute_result"
    }
   ],
   "source": [
    "# load beh_temporal_order file \n",
    "beh_source_accuracy = pd.read_csv('/Volumes/ezzyatlab/experiments/NEvent/exp_eeg_v1/eeg_beh_results/group_results/source_accuracy.csv')\n",
    "#print(beh_order_accuracy.shape) \n",
    "\n",
    "#calculate beh B-NB\n",
    "beh_source_accuracy['B-NB'] = (beh_source_accuracy['B'] - beh_source_accuracy['NB'])\n",
    "#\n",
    "#beh_order_accuracy['B-NB'] = ((beh_order_accuracy['B'] - beh_order_accuracy['NB']))/beh_order_accuracy['NB']\n",
    "\n",
    "#remove any subject in the beh data but not in the eeg subject list\n",
    "\n",
    "beh_source_accuracy['Subject']= [\"sub-0\" + s.split()[1] for s in beh_source_accuracy['Subject']]\n",
    "\n",
    "#remove any subject in the beh data but not in the eeg subject list\n",
    "beh_source_accuracy = beh_source_accuracy[beh_source_accuracy['Subject'].isin(subject_list)]\n",
    "print(len(subject_list))\n",
    "print(len(beh_source_accuracy['Subject'])) # those two numbers should be the same\n",
    "beh_source_accuracy.head(5)\n"
   ]
  },
  {
   "cell_type": "code",
   "execution_count": 119,
   "id": "96170e41-9a08-4104-bdb2-e50c2cbf57e0",
   "metadata": {},
   "outputs": [
    {
     "name": "stdout",
     "output_type": "stream",
     "text": [
      "Electrode: Fp1, Correlation: -0.0881, P-value: 0.6892\n",
      "Electrode: Fz, Correlation: -0.0881, P-value: 0.6892\n",
      "Electrode: F3, Correlation: -0.0881, P-value: 0.6892\n",
      "Electrode: F7, Correlation: -0.0881, P-value: 0.6892\n",
      "Electrode: FT9, Correlation: -0.0881, P-value: 0.6892\n",
      "Electrode: FC5, Correlation: -0.0881, P-value: 0.6892\n",
      "Electrode: FC1, Correlation: -0.0881, P-value: 0.6892\n",
      "Electrode: C3, Correlation: -0.0881, P-value: 0.6892\n",
      "Electrode: T7, Correlation: -0.0881, P-value: 0.6892\n",
      "Electrode: TP9, Correlation: -0.0881, P-value: 0.6892\n",
      "Electrode: CP5, Correlation: -0.0881, P-value: 0.6892\n",
      "Electrode: CP1, Correlation: -0.0881, P-value: 0.6892\n",
      "Electrode: Pz, Correlation: -0.0881, P-value: 0.6892\n",
      "Electrode: P3, Correlation: -0.0881, P-value: 0.6892\n",
      "Electrode: P7, Correlation: -0.0881, P-value: 0.6892\n",
      "Electrode: O1, Correlation: -0.0881, P-value: 0.6892\n",
      "Electrode: Oz, Correlation: -0.0881, P-value: 0.6892\n",
      "Electrode: O2, Correlation: -0.0881, P-value: 0.6892\n",
      "Electrode: P4, Correlation: -0.0881, P-value: 0.6892\n",
      "Electrode: P8, Correlation: -0.0881, P-value: 0.6892\n",
      "Electrode: TP10, Correlation: -0.0881, P-value: 0.6892\n",
      "Electrode: CP6, Correlation: -0.0881, P-value: 0.6892\n",
      "Electrode: CP2, Correlation: -0.0881, P-value: 0.6892\n",
      "Electrode: Cz, Correlation: -0.0881, P-value: 0.6892\n",
      "Electrode: C4, Correlation: -0.0881, P-value: 0.6892\n",
      "Electrode: T8, Correlation: -0.0881, P-value: 0.6892\n",
      "Electrode: FT10, Correlation: -0.0881, P-value: 0.6892\n",
      "Electrode: FC6, Correlation: -0.0881, P-value: 0.6892\n",
      "Electrode: FC2, Correlation: -0.0881, P-value: 0.6892\n",
      "Electrode: F4, Correlation: -0.0881, P-value: 0.6892\n",
      "Electrode: F8, Correlation: -0.0881, P-value: 0.6892\n",
      "Electrode: Fp2, Correlation: -0.0881, P-value: 0.6892\n",
      "Electrode: AF7, Correlation: -0.0881, P-value: 0.6892\n",
      "Electrode: AF3, Correlation: -0.0881, P-value: 0.6892\n",
      "Electrode: AFz, Correlation: -0.0881, P-value: 0.6892\n",
      "Electrode: F1, Correlation: -0.0881, P-value: 0.6892\n",
      "Electrode: F5, Correlation: -0.0881, P-value: 0.6892\n",
      "Electrode: FT7, Correlation: -0.0881, P-value: 0.6892\n",
      "Electrode: FC3, Correlation: -0.0881, P-value: 0.6892\n",
      "Electrode: C1, Correlation: -0.0881, P-value: 0.6892\n",
      "Electrode: C5, Correlation: -0.0881, P-value: 0.6892\n",
      "Electrode: TP7, Correlation: -0.0881, P-value: 0.6892\n",
      "Electrode: CP3, Correlation: -0.0881, P-value: 0.6892\n",
      "Electrode: P1, Correlation: -0.0881, P-value: 0.6892\n",
      "Electrode: P5, Correlation: -0.0881, P-value: 0.6892\n",
      "Electrode: PO7, Correlation: -0.0881, P-value: 0.6892\n",
      "Electrode: PO3, Correlation: -0.0881, P-value: 0.6892\n",
      "Electrode: POz, Correlation: -0.0881, P-value: 0.6892\n",
      "Electrode: PO4, Correlation: -0.0881, P-value: 0.6892\n",
      "Electrode: PO8, Correlation: -0.0881, P-value: 0.6892\n",
      "Electrode: P6, Correlation: -0.0881, P-value: 0.6892\n",
      "Electrode: P2, Correlation: -0.0881, P-value: 0.6892\n",
      "Electrode: CPz, Correlation: -0.0881, P-value: 0.6892\n",
      "Electrode: CP4, Correlation: -0.0881, P-value: 0.6892\n",
      "Electrode: TP8, Correlation: -0.0881, P-value: 0.6892\n",
      "Electrode: C6, Correlation: -0.0881, P-value: 0.6892\n",
      "Electrode: C2, Correlation: -0.0881, P-value: 0.6892\n",
      "Electrode: FC4, Correlation: -0.0881, P-value: 0.6892\n",
      "Electrode: FT8, Correlation: -0.0881, P-value: 0.6892\n",
      "Electrode: F6, Correlation: -0.0881, P-value: 0.6892\n",
      "Electrode: AF8, Correlation: -0.0881, P-value: 0.6892\n",
      "Electrode: AF4, Correlation: -0.0881, P-value: 0.6892\n",
      "Electrode: F2, Correlation: -0.0881, P-value: 0.6892\n"
     ]
    }
   ],
   "source": [
    "correlation_results = {}\n",
    "from scipy.stats import pearsonr\n",
    "\n",
    "# Iterate over each electrode\n",
    "for i, electrode in enumerate(data_channels):\n",
    "    # Extract the difference scores for this electrode across subjects\n",
    "    diff_amplitude = difference_b_nb[:, i]\n",
    "    \n",
    "    # filter out the NaNs\n",
    "    valid_indices = ~np.isnan(diff_scores) & ~np.isnan(beh_source_accuracy['B-NB'])\n",
    "    diff_scores_filtered = diff_scores[valid_indices]\n",
    "    beh_source_accuracy_filtered = beh_source_accuracy['B-NB'][valid_indices]\n",
    "    \n",
    "    #Run the correlation\n",
    "    if len(diff_scores_filtered) > 1:  # Ensure there are at least two data points\n",
    "        correlation, p_value = pearsonr(diff_scores_filtered, beh_source_accuracy_filtered)\n",
    "        \n",
    "        # Store the results\n",
    "        correlation_results[electrode] = (correlation, p_value)\n",
    "    else:\n",
    "        correlation_results[electrode] = (np.nan, np.nan)  # Handle case with insufficient data\n",
    "\n",
    "\n",
    "# print the correlation results\n",
    "for electrode, (correlation, p_value) in correlation_results.items():\n",
    "    print(f\"Electrode: {electrode}, Correlation: {correlation:.4f}, P-value: {p_value:.4f}\")\n",
    "    \n",
    "---\n",
    "correlation_results = {}\n",
    "from scipy.stats import pearsonr\n",
    "\n",
    "# Iterate over each electrode\n",
    "for i, electrode in enumerate(data_channels):\n",
    "    # Extract the difference scores for this electrode across subjects\n",
    "    diff_scores = difference_b_nb[:, i]\n",
    "    \n",
    "    # filter out the NaNs\n",
    "    valid_indices = ~np.isnan(diff_scores) & ~np.isnan(beh_order_accuracy['B-NB'])\n",
    "    diff_scores_filtered = diff_scores[valid_indices]\n",
    "    beh_order_accuracy_filtered = beh_order_accuracy['B-NB'][valid_indices]\n",
    "    \n",
    "    #Run the correlation\n",
    "    if len(diff_scores_filtered) > 1:  # Ensure there are at least two data points\n",
    "        correlation, p_value = pearsonr(diff_scores_filtered, beh_order_accuracy_filtered)\n",
    "        \n",
    "        # Store the results\n",
    "        correlation_results[electrode] = (correlation, p_value)\n",
    "    else:\n",
    "        correlation_results[electrode] = (np.nan, np.nan)  # Handle case with insufficient data\n",
    "\n",
    "# print the correlation results\n",
    "for electrode, (correlation, p_value) in correlation_results.items():\n",
    "    print(f\"Electrode: {electrode}, Correlation: {correlation:.4f}, P-value: {p_value:.4f}\")"
   ]
  },
  {
   "cell_type": "code",
   "execution_count": 120,
   "id": "fac656f1-e94e-44a7-b53e-380c0dbbe812",
   "metadata": {},
   "outputs": [],
   "source": [
    "electrode_of_interest= ['Cz','Fz','Pz','P3','P4']\n",
    "\n",
    "# Setup for plotting exactly 6 plots\n",
    "num_plots = len(electrode_of_interest)\n",
    "num_cols = 3  # Set the number of columns to 3 for 6 plots to be arranged in 2 rows\n",
    "num_rows = 2  # Two rows to accommodate 6 plots\n",
    "\n",
    "# Create a large figure to hold all subplots\n",
    "plt.figure(figsize=(num_cols * 5, num_rows * 5))\n",
    "\n",
    "# Iterate over each electrode of interest to create a subplot for each\n",
    "for i, electrode in enumerate(electrode_of_interest):\n",
    "    ax = plt.subplot(num_rows, num_cols, i + 1)\n",
    "    \n",
    "    # Find the index of the current electrode in the data_channels list\n",
    "    electrode_index = data_channels.index(electrode)\n",
    "    \n",
    "    # Extract the difference scores for this electrode across subjects\n",
    "    diff_scores = difference_b_nb[:, electrode_index]\n",
    "    \n",
    "    # Scatter plot of difference scores vs. B-NB accuracy scores\n",
    "    ax.scatter(diff_scores, beh_source_accuracy['B-NB'], alpha=0.7)\n",
    "    \n",
    "    # Annotate the plot with the correlation coefficient and p-value\n",
    "    # Ensure that correlation and p_value are correctly retrieved for each electrode\n",
    "    correlation, p_value = correlation_results[electrode]\n",
    "    ax.text(0.05, 0.95, f'r={correlation:.4f}, p={p_value:.4f}', transform=ax.transAxes, \n",
    "            verticalalignment='top', bbox=dict(boxstyle='round', facecolor='wheat', alpha=0.5))\n",
    "    \n",
    "    # Set plot titles and labels\n",
    "    ax.set_title(f\"Electrode: {electrode}\")\n",
    "    ax.set_xlabel('Difference B-NB (μV)')\n",
    "    ax.set_ylabel('B-NB Source accuracy (%)')\n",
    "\n",
    "# Ensure a clean layout\n",
    "plt.tight_layout()\n",
    "\n",
    "\n",
    "figure_fname = os.path.join(data_folder, 'correlation_Source.pdf')\n",
    "# save the file \n",
    "plt.savefig(figure_fname)"
   ]
  },
  {
   "cell_type": "code",
   "execution_count": null,
   "id": "5a5f8734-1629-44a1-8240-1826ca7258be",
   "metadata": {},
   "outputs": [],
   "source": []
  },
  {
   "cell_type": "markdown",
   "id": "bf0ce619-008e-422a-a506-9720c97bffeb",
   "metadata": {},
   "source": [
    "## Temporal P300 Amplitude as a Predictor for Boundary Items on Temporal Order Accuracy"
   ]
  },
  {
   "cell_type": "markdown",
   "id": "b96fee86-372b-44c0-851b-5693de658d8c",
   "metadata": {},
   "source": [
    "### Order accuracy"
   ]
  },
  {
   "cell_type": "code",
   "execution_count": 126,
   "id": "6b2389a6-0875-4c9b-901e-3b2460c5d813",
   "metadata": {},
   "outputs": [
    {
     "data": {
      "text/plain": [
       "(360, 63, 1101)"
      ]
     },
     "execution_count": 126,
     "metadata": {},
     "output_type": "execute_result"
    }
   ],
   "source": [
    "b_epochs.shape #(trials x electrodes x time points)\n",
    "nb_epochs.shape #(trials x electrodes x time points)\n"
   ]
  },
  {
   "cell_type": "code",
   "execution_count": null,
   "id": "74c8c48e-3dcc-4030-88ef-2a976e5e6378",
   "metadata": {},
   "outputs": [],
   "source": []
  },
  {
   "cell_type": "markdown",
   "id": "5c47ff8b-0b2b-47de-85f7-dd25c500ae47",
   "metadata": {},
   "source": [
    "## Temporal order/source memory correct vs incorrect"
   ]
  },
  {
   "cell_type": "markdown",
   "id": "e9918e69-2324-410b-89bf-4582bcb64867",
   "metadata": {},
   "source": [
    "### Temporal order"
   ]
  },
  {
   "cell_type": "code",
   "execution_count": null,
   "id": "6b9282b3-4945-4df1-97d9-9a42a6213d84",
   "metadata": {},
   "outputs": [],
   "source": []
  },
  {
   "cell_type": "markdown",
   "id": "de447e6d-6c96-415e-83c5-52f305415c96",
   "metadata": {},
   "source": [
    "### Temporal source memory"
   ]
  },
  {
   "cell_type": "markdown",
   "id": "bc6c5d19-e12f-4f5c-af65-8cfc85600dfd",
   "metadata": {},
   "source": [
    "#### For all the boundary trials"
   ]
  },
  {
   "cell_type": "code",
   "execution_count": 31,
   "id": "347d94ac-4b47-492e-ad44-0b452bb441f8",
   "metadata": {},
   "outputs": [
    {
     "name": "stdout",
     "output_type": "stream",
     "text": [
      "Current subject code:  sub-052\n",
      "/Volumes/ezzyatlab/experiments/NEvent/exp_eeg_v1/eeg_beh_results/mergefile/mergefile_sub-052.csv\n"
     ]
    },
    {
     "ename": "IndexError",
     "evalue": "boolean index did not match indexed array along dimension 0; dimension is 480 but corresponding boolean dimension is 475",
     "output_type": "error",
     "traceback": [
      "\u001b[0;31m---------------------------------------------------------------------------\u001b[0m",
      "\u001b[0;31mIndexError\u001b[0m                                Traceback (most recent call last)",
      "\u001b[0;32m/var/folders/np/qpdx19z16vj6zqjjk4pnx35r0000gn/T/ipykernel_88356/3037627165.py\u001b[0m in \u001b[0;36m<cell line: 33>\u001b[0;34m()\u001b[0m\n\u001b[1;32m     31\u001b[0m \u001b[0;34m\u001b[0m\u001b[0m\n\u001b[1;32m     32\u001b[0m \u001b[0;31m# function call\u001b[0m\u001b[0;34m\u001b[0m\u001b[0;34m\u001b[0m\u001b[0m\n\u001b[0;32m---> 33\u001b[0;31m \u001b[0mboundary_correct_ERP\u001b[0m\u001b[0;34m,\u001b[0m \u001b[0mboundary_incorrect_ERP\u001b[0m \u001b[0;34m=\u001b[0m \u001b[0mcalculate_boundary_erp\u001b[0m\u001b[0;34m(\u001b[0m\u001b[0msubject_code\u001b[0m\u001b[0;34m,\u001b[0m \u001b[0mmerged_file\u001b[0m\u001b[0;34m,\u001b[0m \u001b[0mepoch_data\u001b[0m\u001b[0;34m)\u001b[0m\u001b[0;34m\u001b[0m\u001b[0;34m\u001b[0m\u001b[0m\n\u001b[0m",
      "\u001b[0;32m/var/folders/np/qpdx19z16vj6zqjjk4pnx35r0000gn/T/ipykernel_88356/3037627165.py\u001b[0m in \u001b[0;36mcalculate_boundary_erp\u001b[0;34m(subject_code, merged_file, epoch_data)\u001b[0m\n\u001b[1;32m     18\u001b[0m     \u001b[0;31m# Calculate correct boundary conditions\u001b[0m\u001b[0;34m\u001b[0m\u001b[0;34m\u001b[0m\u001b[0m\n\u001b[1;32m     19\u001b[0m     \u001b[0mboundary_correct_index\u001b[0m \u001b[0;34m=\u001b[0m \u001b[0;34m(\u001b[0m\u001b[0midx_1\u001b[0m \u001b[0;34m==\u001b[0m \u001b[0;32mTrue\u001b[0m\u001b[0;34m)\u001b[0m \u001b[0;34m&\u001b[0m \u001b[0;34m(\u001b[0m\u001b[0midx_2\u001b[0m \u001b[0;34m==\u001b[0m \u001b[0;32mTrue\u001b[0m\u001b[0;34m)\u001b[0m\u001b[0;34m\u001b[0m\u001b[0;34m\u001b[0m\u001b[0m\n\u001b[0;32m---> 20\u001b[0;31m     \u001b[0mboundary_correct_epochs\u001b[0m \u001b[0;34m=\u001b[0m \u001b[0mepoch_data\u001b[0m\u001b[0;34m[\u001b[0m\u001b[0mboundary_correct_index\u001b[0m\u001b[0;34m,\u001b[0m \u001b[0;34m:\u001b[0m\u001b[0;34m,\u001b[0m \u001b[0;34m:\u001b[0m\u001b[0;34m]\u001b[0m\u001b[0;34m\u001b[0m\u001b[0;34m\u001b[0m\u001b[0m\n\u001b[0m\u001b[1;32m     21\u001b[0m     \u001b[0mboundary_correct_ERP\u001b[0m \u001b[0;34m=\u001b[0m \u001b[0mnp\u001b[0m\u001b[0;34m.\u001b[0m\u001b[0mnanmean\u001b[0m\u001b[0;34m(\u001b[0m\u001b[0mboundary_correct_epochs\u001b[0m\u001b[0;34m,\u001b[0m \u001b[0maxis\u001b[0m\u001b[0;34m=\u001b[0m\u001b[0;36m0\u001b[0m\u001b[0;34m)\u001b[0m\u001b[0;34m\u001b[0m\u001b[0;34m\u001b[0m\u001b[0m\n\u001b[1;32m     22\u001b[0m     \u001b[0mprint\u001b[0m\u001b[0;34m(\u001b[0m\u001b[0;34mf\"Boundary correct epochs shape: {boundary_correct_epochs.shape}\"\u001b[0m\u001b[0;34m)\u001b[0m\u001b[0;34m\u001b[0m\u001b[0;34m\u001b[0m\u001b[0m\n",
      "\u001b[0;31mIndexError\u001b[0m: boolean index did not match indexed array along dimension 0; dimension is 480 but corresponding boolean dimension is 475"
     ]
    }
   ],
   "source": [
    "\n",
    "subject_code= 'sub-052'\n",
    "def calculate_boundary_erp(subject_code, merged_file, epoch_data):\n",
    "    \n",
    "    print(\"Current subject code: \", subject_code)\n",
    "    \n",
    "    #load the current beh merged file:\n",
    "    merged_file, beh_path=load_beh(server_folder, subject_code)\n",
    "    \n",
    "    \n",
    "    # Identify correct and boundary conditions\n",
    "    idx_1 = merged_file['correct_source'] == 1\n",
    "    idx_2 = merged_file['TrueBoundary.x'] == 'B'\n",
    "\n",
    "    # Uncomment to compare idx_1 and idx_2 for debugging\n",
    "    # comparison = idx_1.compare(idx_2, align_axis=1, keep_shape=True, keep_equal=True, result_names=('self', 'other'))\n",
    "    # print(comparison)\n",
    "\n",
    "    # Calculate correct boundary conditions\n",
    "    boundary_correct_index = (idx_1 == True) & (idx_2 == True)\n",
    "    boundary_correct_epochs = epoch_data[boundary_correct_index, :, :]\n",
    "    boundary_correct_ERP = np.nanmean(boundary_correct_epochs, axis=0)\n",
    "    print(f\"Boundary correct epochs shape: {boundary_correct_epochs.shape}\")\n",
    "\n",
    "    # Calculate incorrect boundary conditions\n",
    "    boundary_incorrect_index = (idx_1 == False) & (idx_2 == True)\n",
    "    boundary_incorrect_epochs = epoch_data[boundary_incorrect_index, :, :]\n",
    "    boundary_incorrect_ERP = np.nanmean(boundary_incorrect_epochs, axis=0)\n",
    "    print(f\"Boundary incorrect epochs shape: {boundary_incorrect_epochs.shape}\")\n",
    "\n",
    "    return boundary_correct_ERP, boundary_incorrect_ERP\n",
    "\n",
    "# function call\n",
    "boundary_correct_ERP, boundary_incorrect_ERP = calculate_boundary_erp(subject_code, merged_file, epoch_data)"
   ]
  },
  {
   "cell_type": "code",
   "execution_count": 18,
   "id": "ae6ccd39-de38-49f6-b11b-291cc8a65252",
   "metadata": {},
   "outputs": [],
   "source": [
    "def plot_erp_comparison(boundary_correct_ERP, boundary_incorrect_ERP, electrode_names, data_channels, condition_label, data_folder, subject_code):\n",
    "    fig, axs = plt.subplots(nrows=2, ncols=4, figsize=(20, 10))\n",
    "\n",
    "    # Flatten the axs array for easy iteration\n",
    "    axs = axs.flatten()\n",
    "\n",
    "    for ax, electrode in zip(axs, electrode_names):\n",
    "        electrode_idx = np.array(data_channels) == electrode\n",
    "\n",
    "        ax.plot(boundary_correct_ERP[electrode_idx, :].T)\n",
    "        ax.plot(boundary_incorrect_ERP[electrode_idx, :].T)\n",
    "        ax.legend(['B correct', 'B incorrect'])\n",
    "        ax.set_xlabel('Time Rel. Stimulus Onset (ms)'); ax.set_ylabel('Voltage $\\mu$V');\n",
    "        ax.set_xticks([0, 100, 200, 400, 600, 800, 1000])  # Adjust these to match your data\n",
    "        ax.set_xticklabels([-100, 0, 100, 300, 500, 700, 900])  # Adjust these to match your data\n",
    "        ax.set_title(f'{condition_label}_{electrode}')\n",
    "\n",
    "    # Remove unused subplots when cols are not filled\n",
    "    for i in range(len(electrode_names), len(axs)):\n",
    "        fig.delaxes(axs[i])\n",
    "\n",
    "    fig.suptitle('Comparison of ERPs for Correct and Incorrect Sources at Boundary Condition', fontsize=20)\n",
    "\n",
    "    # Construct the file name and path\n",
    "    figure_fname = os.path.join(data_folder, subject_code, 'eeg', 'analysis', f'{subject_code}_boundary_source_All_Electrodes.pdf')\n",
    "    \n",
    "    # Save the file\n",
    "    plt.savefig(figure_fname)\n",
    "    plt.close()  # Close the figure to free memory\n",
    "\n",
    "# function call, just for testing purpose\n",
    "plot_erp_comparison(boundary_correct_ERP, boundary_incorrect_ERP, electrode_names, data_channels, condition_label, data_folder, subject_code)"
   ]
  },
  {
   "cell_type": "code",
   "execution_count": 21,
   "id": "c2de6cb6-f848-4c15-b6d0-9b89900fc5ec",
   "metadata": {},
   "outputs": [
    {
     "name": "stdout",
     "output_type": "stream",
     "text": [
      "Current subject code:  sub-036\n",
      "/Volumes/ezzyatlab/experiments/NEvent/exp_eeg_v1/eeg_beh_results/mergefile/mergefile_sub-036.csv\n"
     ]
    },
    {
     "name": "stderr",
     "output_type": "stream",
     "text": [
      "/var/folders/np/qpdx19z16vj6zqjjk4pnx35r0000gn/T/ipykernel_88356/2862802578.py:21: RuntimeWarning: Mean of empty slice\n",
      "  boundary_correct_ERP = np.nanmean(boundary_correct_epochs, axis=0)\n",
      "/var/folders/np/qpdx19z16vj6zqjjk4pnx35r0000gn/T/ipykernel_88356/2862802578.py:27: RuntimeWarning: Mean of empty slice\n",
      "  boundary_incorrect_ERP = np.nanmean(boundary_incorrect_epochs, axis=0)\n"
     ]
    },
    {
     "name": "stdout",
     "output_type": "stream",
     "text": [
      "Boundary correct epochs shape: (40, 63, 1101)\n",
      "Boundary incorrect epochs shape: (5, 63, 1101)\n",
      "Current subject code:  sub-037\n",
      "/Volumes/ezzyatlab/experiments/NEvent/exp_eeg_v1/eeg_beh_results/mergefile/mergefile_sub-037.csv\n"
     ]
    },
    {
     "name": "stderr",
     "output_type": "stream",
     "text": [
      "/var/folders/np/qpdx19z16vj6zqjjk4pnx35r0000gn/T/ipykernel_88356/2862802578.py:21: RuntimeWarning: Mean of empty slice\n",
      "  boundary_correct_ERP = np.nanmean(boundary_correct_epochs, axis=0)\n",
      "/var/folders/np/qpdx19z16vj6zqjjk4pnx35r0000gn/T/ipykernel_88356/2862802578.py:27: RuntimeWarning: Mean of empty slice\n",
      "  boundary_incorrect_ERP = np.nanmean(boundary_incorrect_epochs, axis=0)\n"
     ]
    },
    {
     "name": "stdout",
     "output_type": "stream",
     "text": [
      "Boundary correct epochs shape: (31, 63, 1101)\n",
      "Boundary incorrect epochs shape: (14, 63, 1101)\n",
      "Current subject code:  sub-039\n",
      "/Volumes/ezzyatlab/experiments/NEvent/exp_eeg_v1/eeg_beh_results/mergefile/mergefile_sub-039.csv\n",
      "Boundary correct epochs shape: (15, 63, 1101)\n"
     ]
    },
    {
     "name": "stderr",
     "output_type": "stream",
     "text": [
      "/var/folders/np/qpdx19z16vj6zqjjk4pnx35r0000gn/T/ipykernel_88356/2862802578.py:21: RuntimeWarning: Mean of empty slice\n",
      "  boundary_correct_ERP = np.nanmean(boundary_correct_epochs, axis=0)\n",
      "/var/folders/np/qpdx19z16vj6zqjjk4pnx35r0000gn/T/ipykernel_88356/2862802578.py:27: RuntimeWarning: Mean of empty slice\n",
      "  boundary_incorrect_ERP = np.nanmean(boundary_incorrect_epochs, axis=0)\n"
     ]
    },
    {
     "name": "stdout",
     "output_type": "stream",
     "text": [
      "Boundary incorrect epochs shape: (30, 63, 1101)\n",
      "Current subject code:  sub-040\n",
      "/Volumes/ezzyatlab/experiments/NEvent/exp_eeg_v1/eeg_beh_results/mergefile/mergefile_sub-040.csv\n"
     ]
    },
    {
     "name": "stderr",
     "output_type": "stream",
     "text": [
      "/var/folders/np/qpdx19z16vj6zqjjk4pnx35r0000gn/T/ipykernel_88356/2862802578.py:21: RuntimeWarning: Mean of empty slice\n",
      "  boundary_correct_ERP = np.nanmean(boundary_correct_epochs, axis=0)\n",
      "/var/folders/np/qpdx19z16vj6zqjjk4pnx35r0000gn/T/ipykernel_88356/2862802578.py:27: RuntimeWarning: Mean of empty slice\n",
      "  boundary_incorrect_ERP = np.nanmean(boundary_incorrect_epochs, axis=0)\n"
     ]
    },
    {
     "name": "stdout",
     "output_type": "stream",
     "text": [
      "Boundary correct epochs shape: (35, 63, 1101)\n",
      "Boundary incorrect epochs shape: (10, 63, 1101)\n",
      "Current subject code:  sub-041\n",
      "/Volumes/ezzyatlab/experiments/NEvent/exp_eeg_v1/eeg_beh_results/mergefile/mergefile_sub-041.csv\n"
     ]
    },
    {
     "name": "stderr",
     "output_type": "stream",
     "text": [
      "/var/folders/np/qpdx19z16vj6zqjjk4pnx35r0000gn/T/ipykernel_88356/2862802578.py:21: RuntimeWarning: Mean of empty slice\n",
      "  boundary_correct_ERP = np.nanmean(boundary_correct_epochs, axis=0)\n",
      "/var/folders/np/qpdx19z16vj6zqjjk4pnx35r0000gn/T/ipykernel_88356/2862802578.py:27: RuntimeWarning: Mean of empty slice\n",
      "  boundary_incorrect_ERP = np.nanmean(boundary_incorrect_epochs, axis=0)\n"
     ]
    },
    {
     "name": "stdout",
     "output_type": "stream",
     "text": [
      "Boundary correct epochs shape: (28, 63, 1101)\n",
      "Boundary incorrect epochs shape: (17, 63, 1101)\n",
      "Current subject code:  sub-042\n",
      "/Volumes/ezzyatlab/experiments/NEvent/exp_eeg_v1/eeg_beh_results/mergefile/mergefile_sub-042.csv\n"
     ]
    },
    {
     "name": "stderr",
     "output_type": "stream",
     "text": [
      "/var/folders/np/qpdx19z16vj6zqjjk4pnx35r0000gn/T/ipykernel_88356/2862802578.py:21: RuntimeWarning: Mean of empty slice\n",
      "  boundary_correct_ERP = np.nanmean(boundary_correct_epochs, axis=0)\n",
      "/var/folders/np/qpdx19z16vj6zqjjk4pnx35r0000gn/T/ipykernel_88356/2862802578.py:27: RuntimeWarning: Mean of empty slice\n",
      "  boundary_incorrect_ERP = np.nanmean(boundary_incorrect_epochs, axis=0)\n"
     ]
    },
    {
     "name": "stdout",
     "output_type": "stream",
     "text": [
      "Boundary correct epochs shape: (36, 63, 1101)\n",
      "Boundary incorrect epochs shape: (9, 63, 1101)\n",
      "Current subject code:  sub-043\n",
      "/Volumes/ezzyatlab/experiments/NEvent/exp_eeg_v1/eeg_beh_results/mergefile/mergefile_sub-043.csv\n"
     ]
    },
    {
     "name": "stderr",
     "output_type": "stream",
     "text": [
      "/var/folders/np/qpdx19z16vj6zqjjk4pnx35r0000gn/T/ipykernel_88356/2862802578.py:21: RuntimeWarning: Mean of empty slice\n",
      "  boundary_correct_ERP = np.nanmean(boundary_correct_epochs, axis=0)\n",
      "/var/folders/np/qpdx19z16vj6zqjjk4pnx35r0000gn/T/ipykernel_88356/2862802578.py:27: RuntimeWarning: Mean of empty slice\n",
      "  boundary_incorrect_ERP = np.nanmean(boundary_incorrect_epochs, axis=0)\n"
     ]
    },
    {
     "name": "stdout",
     "output_type": "stream",
     "text": [
      "Boundary correct epochs shape: (41, 63, 1101)\n",
      "Boundary incorrect epochs shape: (4, 63, 1101)\n",
      "Current subject code:  sub-044\n",
      "/Volumes/ezzyatlab/experiments/NEvent/exp_eeg_v1/eeg_beh_results/mergefile/mergefile_sub-044.csv\n"
     ]
    },
    {
     "name": "stderr",
     "output_type": "stream",
     "text": [
      "/var/folders/np/qpdx19z16vj6zqjjk4pnx35r0000gn/T/ipykernel_88356/2862802578.py:21: RuntimeWarning: Mean of empty slice\n",
      "  boundary_correct_ERP = np.nanmean(boundary_correct_epochs, axis=0)\n",
      "/var/folders/np/qpdx19z16vj6zqjjk4pnx35r0000gn/T/ipykernel_88356/2862802578.py:27: RuntimeWarning: Mean of empty slice\n",
      "  boundary_incorrect_ERP = np.nanmean(boundary_incorrect_epochs, axis=0)\n"
     ]
    },
    {
     "name": "stdout",
     "output_type": "stream",
     "text": [
      "Boundary correct epochs shape: (40, 63, 1101)\n",
      "Boundary incorrect epochs shape: (5, 63, 1101)\n",
      "Current subject code:  sub-045\n",
      "/Volumes/ezzyatlab/experiments/NEvent/exp_eeg_v1/eeg_beh_results/mergefile/mergefile_sub-045.csv\n"
     ]
    },
    {
     "name": "stderr",
     "output_type": "stream",
     "text": [
      "/var/folders/np/qpdx19z16vj6zqjjk4pnx35r0000gn/T/ipykernel_88356/2862802578.py:21: RuntimeWarning: Mean of empty slice\n",
      "  boundary_correct_ERP = np.nanmean(boundary_correct_epochs, axis=0)\n",
      "/var/folders/np/qpdx19z16vj6zqjjk4pnx35r0000gn/T/ipykernel_88356/2862802578.py:27: RuntimeWarning: Mean of empty slice\n",
      "  boundary_incorrect_ERP = np.nanmean(boundary_incorrect_epochs, axis=0)\n"
     ]
    },
    {
     "name": "stdout",
     "output_type": "stream",
     "text": [
      "Boundary correct epochs shape: (34, 63, 1101)\n",
      "Boundary incorrect epochs shape: (11, 63, 1101)\n",
      "Current subject code:  sub-046\n",
      "/Volumes/ezzyatlab/experiments/NEvent/exp_eeg_v1/eeg_beh_results/mergefile/mergefile_sub-046.csv\n"
     ]
    },
    {
     "ename": "IndexError",
     "evalue": "boolean index did not match indexed array along dimension 0; dimension is 480 but corresponding boolean dimension is 464",
     "output_type": "error",
     "traceback": [
      "\u001b[0;31m---------------------------------------------------------------------------\u001b[0m",
      "\u001b[0;31mIndexError\u001b[0m                                Traceback (most recent call last)",
      "\u001b[0;32m/var/folders/np/qpdx19z16vj6zqjjk4pnx35r0000gn/T/ipykernel_88356/2596381296.py\u001b[0m in \u001b[0;36m<cell line: 2>\u001b[0;34m()\u001b[0m\n\u001b[1;32m      1\u001b[0m \u001b[0;31m# conduct the analysis for all participants:\u001b[0m\u001b[0;34m\u001b[0m\u001b[0;34m\u001b[0m\u001b[0m\n\u001b[1;32m      2\u001b[0m \u001b[0;32mfor\u001b[0m \u001b[0mi\u001b[0m \u001b[0;32min\u001b[0m \u001b[0msubject_list\u001b[0m\u001b[0;34m:\u001b[0m\u001b[0;34m\u001b[0m\u001b[0;34m\u001b[0m\u001b[0m\n\u001b[0;32m----> 3\u001b[0;31m     \u001b[0mcalculate_boundary_erp\u001b[0m\u001b[0;34m(\u001b[0m\u001b[0mi\u001b[0m\u001b[0;34m,\u001b[0m \u001b[0mmerged_file\u001b[0m\u001b[0;34m,\u001b[0m \u001b[0mepoch_data\u001b[0m\u001b[0;34m)\u001b[0m\u001b[0;34m\u001b[0m\u001b[0;34m\u001b[0m\u001b[0m\n\u001b[0m\u001b[1;32m      4\u001b[0m     \u001b[0mplot_erp_comparison\u001b[0m\u001b[0;34m(\u001b[0m\u001b[0mboundary_correct_ERP\u001b[0m\u001b[0;34m,\u001b[0m \u001b[0mboundary_incorrect_ERP\u001b[0m\u001b[0;34m,\u001b[0m \u001b[0melectrode_names\u001b[0m\u001b[0;34m,\u001b[0m \u001b[0mdata_channels\u001b[0m\u001b[0;34m,\u001b[0m \u001b[0mcondition_label\u001b[0m\u001b[0;34m,\u001b[0m \u001b[0mdata_folder\u001b[0m\u001b[0;34m,\u001b[0m \u001b[0mi\u001b[0m\u001b[0;34m)\u001b[0m\u001b[0;34m\u001b[0m\u001b[0;34m\u001b[0m\u001b[0m\n\u001b[1;32m      5\u001b[0m \u001b[0;34m\u001b[0m\u001b[0m\n",
      "\u001b[0;32m/var/folders/np/qpdx19z16vj6zqjjk4pnx35r0000gn/T/ipykernel_88356/2862802578.py\u001b[0m in \u001b[0;36mcalculate_boundary_erp\u001b[0;34m(subject_code, merged_file, epoch_data)\u001b[0m\n\u001b[1;32m     18\u001b[0m     \u001b[0;31m# Calculate correct boundary conditions\u001b[0m\u001b[0;34m\u001b[0m\u001b[0;34m\u001b[0m\u001b[0m\n\u001b[1;32m     19\u001b[0m     \u001b[0mboundary_correct_index\u001b[0m \u001b[0;34m=\u001b[0m \u001b[0;34m(\u001b[0m\u001b[0midx_1\u001b[0m \u001b[0;34m==\u001b[0m \u001b[0;32mTrue\u001b[0m\u001b[0;34m)\u001b[0m \u001b[0;34m&\u001b[0m \u001b[0;34m(\u001b[0m\u001b[0midx_2\u001b[0m \u001b[0;34m==\u001b[0m \u001b[0;32mTrue\u001b[0m\u001b[0;34m)\u001b[0m\u001b[0;34m\u001b[0m\u001b[0;34m\u001b[0m\u001b[0m\n\u001b[0;32m---> 20\u001b[0;31m     \u001b[0mboundary_correct_epochs\u001b[0m \u001b[0;34m=\u001b[0m \u001b[0mepoch_data\u001b[0m\u001b[0;34m[\u001b[0m\u001b[0mboundary_correct_index\u001b[0m\u001b[0;34m,\u001b[0m \u001b[0;34m:\u001b[0m\u001b[0;34m,\u001b[0m \u001b[0;34m:\u001b[0m\u001b[0;34m]\u001b[0m\u001b[0;34m\u001b[0m\u001b[0;34m\u001b[0m\u001b[0m\n\u001b[0m\u001b[1;32m     21\u001b[0m     \u001b[0mboundary_correct_ERP\u001b[0m \u001b[0;34m=\u001b[0m \u001b[0mnp\u001b[0m\u001b[0;34m.\u001b[0m\u001b[0mnanmean\u001b[0m\u001b[0;34m(\u001b[0m\u001b[0mboundary_correct_epochs\u001b[0m\u001b[0;34m,\u001b[0m \u001b[0maxis\u001b[0m\u001b[0;34m=\u001b[0m\u001b[0;36m0\u001b[0m\u001b[0;34m)\u001b[0m\u001b[0;34m\u001b[0m\u001b[0;34m\u001b[0m\u001b[0m\n\u001b[1;32m     22\u001b[0m     \u001b[0mprint\u001b[0m\u001b[0;34m(\u001b[0m\u001b[0;34mf\"Boundary correct epochs shape: {boundary_correct_epochs.shape}\"\u001b[0m\u001b[0;34m)\u001b[0m\u001b[0;34m\u001b[0m\u001b[0;34m\u001b[0m\u001b[0m\n",
      "\u001b[0;31mIndexError\u001b[0m: boolean index did not match indexed array along dimension 0; dimension is 480 but corresponding boolean dimension is 464"
     ]
    }
   ],
   "source": [
    "# conduct the analysis for all participants:\n",
    "for i in subject_list:\n",
    "    calculate_boundary_erp(i, merged_file, epoch_data)\n",
    "    plot_erp_comparison(boundary_correct_ERP, boundary_incorrect_ERP, electrode_names, data_channels, condition_label, data_folder, i)\n",
    "    "
   ]
  },
  {
   "cell_type": "markdown",
   "id": "5b4792a2-a943-40fb-b4b2-c4ed23ff9871",
   "metadata": {},
   "source": [
    "## Analysis summer 2023"
   ]
  },
  {
   "cell_type": "code",
   "execution_count": 43,
   "id": "ffb2ba3b",
   "metadata": {},
   "outputs": [],
   "source": [
    "#NonBoundary\n",
    "info = raw.info\n",
    "time_points = np.arange(0, 1.1, 0.100) \n",
    "evoked_nb = mne.EvokedArray(nb_ERP, info)\n",
    "#Boundary condition\n",
    "evoked_nb.plot_topomap(time_points, ch_type=\"eeg\")\n",
    "\n",
    "\n",
    "# Path to save the figure\n",
    "figure_path = os.path.join(data_folder, subject_code, 'eeg','analysis',\n",
    "                           f'{subject_code}_NonBoundary_topomap.pdf')\n",
    "\n",
    "# Save the figure\n",
    "plt.savefig(figure_path, format='pdf')"
   ]
  },
  {
   "cell_type": "code",
   "execution_count": 24,
   "id": "3bc28009",
   "metadata": {},
   "outputs": [],
   "source": [
    "#Boundary\n",
    "\n",
    "time_points = np.arange(0, 1.1, 0.100) \n",
    "evoked_b = mne.EvokedArray(b_ERP, info)\n",
    "# Boundary condition\n",
    "evoked_b.plot_topomap(time_points, ch_type=\"eeg\")\n",
    "\n",
    "# Path to save the figure\n",
    "figure_path = os.path.join(data_folder, subject_code, 'eeg','analysis',\n",
    "                           f'{subject_code}_Boundary_topomap.pdf')\n",
    "\n",
    "# Save the figure\n",
    "plt.savefig(figure_path, format='pdf')"
   ]
  },
  {
   "cell_type": "code",
   "execution_count": 25,
   "id": "ce5f2eaf",
   "metadata": {},
   "outputs": [
    {
     "name": "stdout",
     "output_type": "stream",
     "text": [
      "No projector specified for this dataset. Please consider the method self.add_proj.\n"
     ]
    },
    {
     "ename": "KeyboardInterrupt",
     "evalue": "",
     "output_type": "error",
     "traceback": [
      "\u001b[0;31m---------------------------------------------------------------------------\u001b[0m",
      "\u001b[0;31mKeyboardInterrupt\u001b[0m                         Traceback (most recent call last)",
      "\u001b[0;32m/var/folders/np/qpdx19z16vj6zqjjk4pnx35r0000gn/T/ipykernel_13862/1603956704.py\u001b[0m in \u001b[0;36m<cell line: 3>\u001b[0;34m()\u001b[0m\n\u001b[1;32m      1\u001b[0m \u001b[0;31m#NonBoundary\u001b[0m\u001b[0;34m\u001b[0m\u001b[0;34m\u001b[0m\u001b[0m\n\u001b[1;32m      2\u001b[0m \u001b[0mtimes\u001b[0m \u001b[0;34m=\u001b[0m \u001b[0;34m[\u001b[0m\u001b[0;36m.150\u001b[0m\u001b[0;34m,\u001b[0m \u001b[0;36m.250\u001b[0m\u001b[0;34m,\u001b[0m \u001b[0;36m.3\u001b[0m\u001b[0;34m,\u001b[0m\u001b[0;36m.4\u001b[0m\u001b[0;34m,\u001b[0m \u001b[0;36m.5\u001b[0m\u001b[0;34m,\u001b[0m\u001b[0;36m.6\u001b[0m\u001b[0;34m,\u001b[0m\u001b[0;36m.7\u001b[0m \u001b[0;34m,\u001b[0m\u001b[0;36m1.1\u001b[0m\u001b[0;34m]\u001b[0m\u001b[0;34m\u001b[0m\u001b[0;34m\u001b[0m\u001b[0m\n\u001b[0;32m----> 3\u001b[0;31m \u001b[0mfig\u001b[0m \u001b[0;34m=\u001b[0m \u001b[0mevoked_nb\u001b[0m\u001b[0;34m.\u001b[0m\u001b[0mplot_joint\u001b[0m\u001b[0;34m(\u001b[0m\u001b[0mtimes\u001b[0m\u001b[0;34m=\u001b[0m\u001b[0mtimes\u001b[0m\u001b[0;34m,\u001b[0m \u001b[0mtitle\u001b[0m\u001b[0;34m=\u001b[0m\u001b[0;34m'Combination of butterfly plot and topomaps at NonBoundary condition'\u001b[0m\u001b[0;34m)\u001b[0m\u001b[0;34m\u001b[0m\u001b[0;34m\u001b[0m\u001b[0m\n\u001b[0m\u001b[1;32m      4\u001b[0m \u001b[0;34m\u001b[0m\u001b[0m\n\u001b[1;32m      5\u001b[0m figure_path = os.path.join(data_folder, subject_code, 'eeg','analysis',\n",
      "\u001b[0;32m/Applications/MNE-Python/.mne-python/lib/python3.10/site-packages/mne/evoked.py\u001b[0m in \u001b[0;36mplot_joint\u001b[0;34m(self, times, title, picks, exclude, show, ts_args, topomap_args)\u001b[0m\n\u001b[1;32m    463\u001b[0m                    \u001b[0mexclude\u001b[0m\u001b[0;34m=\u001b[0m\u001b[0;34m'bads'\u001b[0m\u001b[0;34m,\u001b[0m \u001b[0mshow\u001b[0m\u001b[0;34m=\u001b[0m\u001b[0;32mTrue\u001b[0m\u001b[0;34m,\u001b[0m \u001b[0mts_args\u001b[0m\u001b[0;34m=\u001b[0m\u001b[0;32mNone\u001b[0m\u001b[0;34m,\u001b[0m\u001b[0;34m\u001b[0m\u001b[0;34m\u001b[0m\u001b[0m\n\u001b[1;32m    464\u001b[0m                    topomap_args=None):\n\u001b[0;32m--> 465\u001b[0;31m         return plot_evoked_joint(self, times=times, title=title, picks=picks,\n\u001b[0m\u001b[1;32m    466\u001b[0m                                  \u001b[0mexclude\u001b[0m\u001b[0;34m=\u001b[0m\u001b[0mexclude\u001b[0m\u001b[0;34m,\u001b[0m \u001b[0mshow\u001b[0m\u001b[0;34m=\u001b[0m\u001b[0mshow\u001b[0m\u001b[0;34m,\u001b[0m \u001b[0mts_args\u001b[0m\u001b[0;34m=\u001b[0m\u001b[0mts_args\u001b[0m\u001b[0;34m,\u001b[0m\u001b[0;34m\u001b[0m\u001b[0;34m\u001b[0m\u001b[0m\n\u001b[1;32m    467\u001b[0m                                  topomap_args=topomap_args)\n",
      "\u001b[0;32m/Applications/MNE-Python/.mne-python/lib/python3.10/site-packages/mne/viz/evoked.py\u001b[0m in \u001b[0;36mplot_evoked_joint\u001b[0;34m(***failed resolving arguments***)\u001b[0m\n\u001b[1;32m   1602\u001b[0m \u001b[0;34m\u001b[0m\u001b[0m\n\u001b[1;32m   1603\u001b[0m     \u001b[0;31m# show and return it\u001b[0m\u001b[0;34m\u001b[0m\u001b[0;34m\u001b[0m\u001b[0m\n\u001b[0;32m-> 1604\u001b[0;31m     \u001b[0mplt_show\u001b[0m\u001b[0;34m(\u001b[0m\u001b[0mshow\u001b[0m\u001b[0;34m)\u001b[0m\u001b[0;34m\u001b[0m\u001b[0;34m\u001b[0m\u001b[0m\n\u001b[0m\u001b[1;32m   1605\u001b[0m     \u001b[0;32mreturn\u001b[0m \u001b[0mfig\u001b[0m\u001b[0;34m\u001b[0m\u001b[0;34m\u001b[0m\u001b[0m\n\u001b[1;32m   1606\u001b[0m \u001b[0;34m\u001b[0m\u001b[0m\n",
      "\u001b[0;32m/Applications/MNE-Python/.mne-python/lib/python3.10/site-packages/mne/viz/utils.py\u001b[0m in \u001b[0;36mplt_show\u001b[0;34m(show, fig, **kwargs)\u001b[0m\n\u001b[1;32m    135\u001b[0m         \u001b[0mbackend\u001b[0m \u001b[0;34m=\u001b[0m \u001b[0mget_backend\u001b[0m\u001b[0;34m(\u001b[0m\u001b[0;34m)\u001b[0m\u001b[0;34m\u001b[0m\u001b[0;34m\u001b[0m\u001b[0m\n\u001b[1;32m    136\u001b[0m     \u001b[0;32mif\u001b[0m \u001b[0mshow\u001b[0m \u001b[0;32mand\u001b[0m \u001b[0mbackend\u001b[0m \u001b[0;34m!=\u001b[0m \u001b[0;34m'agg'\u001b[0m\u001b[0;34m:\u001b[0m\u001b[0;34m\u001b[0m\u001b[0;34m\u001b[0m\u001b[0m\n\u001b[0;32m--> 137\u001b[0;31m         \u001b[0;34m(\u001b[0m\u001b[0mfig\u001b[0m \u001b[0;32mor\u001b[0m \u001b[0mplt\u001b[0m\u001b[0;34m)\u001b[0m\u001b[0;34m.\u001b[0m\u001b[0mshow\u001b[0m\u001b[0;34m(\u001b[0m\u001b[0;34m**\u001b[0m\u001b[0mkwargs\u001b[0m\u001b[0;34m)\u001b[0m\u001b[0;34m\u001b[0m\u001b[0;34m\u001b[0m\u001b[0m\n\u001b[0m\u001b[1;32m    138\u001b[0m \u001b[0;34m\u001b[0m\u001b[0m\n\u001b[1;32m    139\u001b[0m \u001b[0;34m\u001b[0m\u001b[0m\n",
      "\u001b[0;32m/Applications/MNE-Python/.mne-python/lib/python3.10/site-packages/matplotlib/pyplot.py\u001b[0m in \u001b[0;36mshow\u001b[0;34m(*args, **kwargs)\u001b[0m\n\u001b[1;32m    419\u001b[0m     \"\"\"\n\u001b[1;32m    420\u001b[0m     \u001b[0m_warn_if_gui_out_of_main_thread\u001b[0m\u001b[0;34m(\u001b[0m\u001b[0;34m)\u001b[0m\u001b[0;34m\u001b[0m\u001b[0;34m\u001b[0m\u001b[0m\n\u001b[0;32m--> 421\u001b[0;31m     \u001b[0;32mreturn\u001b[0m \u001b[0m_get_backend_mod\u001b[0m\u001b[0;34m(\u001b[0m\u001b[0;34m)\u001b[0m\u001b[0;34m.\u001b[0m\u001b[0mshow\u001b[0m\u001b[0;34m(\u001b[0m\u001b[0;34m*\u001b[0m\u001b[0margs\u001b[0m\u001b[0;34m,\u001b[0m \u001b[0;34m**\u001b[0m\u001b[0mkwargs\u001b[0m\u001b[0;34m)\u001b[0m\u001b[0;34m\u001b[0m\u001b[0;34m\u001b[0m\u001b[0m\n\u001b[0m\u001b[1;32m    422\u001b[0m \u001b[0;34m\u001b[0m\u001b[0m\n\u001b[1;32m    423\u001b[0m \u001b[0;34m\u001b[0m\u001b[0m\n",
      "\u001b[0;32m/Applications/MNE-Python/.mne-python/lib/python3.10/site-packages/matplotlib/backend_bases.py\u001b[0m in \u001b[0;36mshow\u001b[0;34m(cls, block)\u001b[0m\n\u001b[1;32m   3544\u001b[0m             \u001b[0mblock\u001b[0m \u001b[0;34m=\u001b[0m \u001b[0;32mnot\u001b[0m \u001b[0mipython_pylab\u001b[0m \u001b[0;32mand\u001b[0m \u001b[0;32mnot\u001b[0m \u001b[0mis_interactive\u001b[0m\u001b[0;34m(\u001b[0m\u001b[0;34m)\u001b[0m\u001b[0;34m\u001b[0m\u001b[0;34m\u001b[0m\u001b[0m\n\u001b[1;32m   3545\u001b[0m         \u001b[0;32mif\u001b[0m \u001b[0mblock\u001b[0m\u001b[0;34m:\u001b[0m\u001b[0;34m\u001b[0m\u001b[0;34m\u001b[0m\u001b[0m\n\u001b[0;32m-> 3546\u001b[0;31m             \u001b[0mcls\u001b[0m\u001b[0;34m.\u001b[0m\u001b[0mmainloop\u001b[0m\u001b[0;34m(\u001b[0m\u001b[0;34m)\u001b[0m\u001b[0;34m\u001b[0m\u001b[0;34m\u001b[0m\u001b[0m\n\u001b[0m\u001b[1;32m   3547\u001b[0m \u001b[0;34m\u001b[0m\u001b[0m\n\u001b[1;32m   3548\u001b[0m     \u001b[0;31m# This method is the one actually exporting the required methods.\u001b[0m\u001b[0;34m\u001b[0m\u001b[0;34m\u001b[0m\u001b[0m\n",
      "\u001b[0;32m/Applications/MNE-Python/.mne-python/lib/python3.10/site-packages/matplotlib/backends/backend_qt.py\u001b[0m in \u001b[0;36mmainloop\u001b[0;34m()\u001b[0m\n\u001b[1;32m   1019\u001b[0m     \u001b[0;32mdef\u001b[0m \u001b[0mmainloop\u001b[0m\u001b[0;34m(\u001b[0m\u001b[0;34m)\u001b[0m\u001b[0;34m:\u001b[0m\u001b[0;34m\u001b[0m\u001b[0;34m\u001b[0m\u001b[0m\n\u001b[1;32m   1020\u001b[0m         \u001b[0mqapp\u001b[0m \u001b[0;34m=\u001b[0m \u001b[0mQtWidgets\u001b[0m\u001b[0;34m.\u001b[0m\u001b[0mQApplication\u001b[0m\u001b[0;34m.\u001b[0m\u001b[0minstance\u001b[0m\u001b[0;34m(\u001b[0m\u001b[0;34m)\u001b[0m\u001b[0;34m\u001b[0m\u001b[0;34m\u001b[0m\u001b[0m\n\u001b[0;32m-> 1021\u001b[0;31m         \u001b[0;32mwith\u001b[0m \u001b[0m_maybe_allow_interrupt\u001b[0m\u001b[0;34m(\u001b[0m\u001b[0mqapp\u001b[0m\u001b[0;34m)\u001b[0m\u001b[0;34m:\u001b[0m\u001b[0;34m\u001b[0m\u001b[0;34m\u001b[0m\u001b[0m\n\u001b[0m\u001b[1;32m   1022\u001b[0m             \u001b[0mqt_compat\u001b[0m\u001b[0;34m.\u001b[0m\u001b[0m_exec\u001b[0m\u001b[0;34m(\u001b[0m\u001b[0mqapp\u001b[0m\u001b[0;34m)\u001b[0m\u001b[0;34m\u001b[0m\u001b[0;34m\u001b[0m\u001b[0m\n",
      "\u001b[0;32m/Applications/MNE-Python/.mne-python/lib/python3.10/contextlib.py\u001b[0m in \u001b[0;36m__exit__\u001b[0;34m(self, typ, value, traceback)\u001b[0m\n\u001b[1;32m    140\u001b[0m         \u001b[0;32mif\u001b[0m \u001b[0mtyp\u001b[0m \u001b[0;32mis\u001b[0m \u001b[0;32mNone\u001b[0m\u001b[0;34m:\u001b[0m\u001b[0;34m\u001b[0m\u001b[0;34m\u001b[0m\u001b[0m\n\u001b[1;32m    141\u001b[0m             \u001b[0;32mtry\u001b[0m\u001b[0;34m:\u001b[0m\u001b[0;34m\u001b[0m\u001b[0;34m\u001b[0m\u001b[0m\n\u001b[0;32m--> 142\u001b[0;31m                 \u001b[0mnext\u001b[0m\u001b[0;34m(\u001b[0m\u001b[0mself\u001b[0m\u001b[0;34m.\u001b[0m\u001b[0mgen\u001b[0m\u001b[0;34m)\u001b[0m\u001b[0;34m\u001b[0m\u001b[0;34m\u001b[0m\u001b[0m\n\u001b[0m\u001b[1;32m    143\u001b[0m             \u001b[0;32mexcept\u001b[0m \u001b[0mStopIteration\u001b[0m\u001b[0;34m:\u001b[0m\u001b[0;34m\u001b[0m\u001b[0;34m\u001b[0m\u001b[0m\n\u001b[1;32m    144\u001b[0m                 \u001b[0;32mreturn\u001b[0m \u001b[0;32mFalse\u001b[0m\u001b[0;34m\u001b[0m\u001b[0;34m\u001b[0m\u001b[0m\n",
      "\u001b[0;32m/Applications/MNE-Python/.mne-python/lib/python3.10/site-packages/matplotlib/backends/qt_compat.py\u001b[0m in \u001b[0;36m_maybe_allow_interrupt\u001b[0;34m(qapp)\u001b[0m\n\u001b[1;32m    267\u001b[0m             \u001b[0msignal\u001b[0m\u001b[0;34m.\u001b[0m\u001b[0msignal\u001b[0m\u001b[0;34m(\u001b[0m\u001b[0msignal\u001b[0m\u001b[0;34m.\u001b[0m\u001b[0mSIGINT\u001b[0m\u001b[0;34m,\u001b[0m \u001b[0mold_sigint_handler\u001b[0m\u001b[0;34m)\u001b[0m\u001b[0;34m\u001b[0m\u001b[0;34m\u001b[0m\u001b[0m\n\u001b[1;32m    268\u001b[0m             \u001b[0;32mif\u001b[0m \u001b[0mhandler_args\u001b[0m \u001b[0;32mis\u001b[0m \u001b[0;32mnot\u001b[0m \u001b[0;32mNone\u001b[0m\u001b[0;34m:\u001b[0m\u001b[0;34m\u001b[0m\u001b[0;34m\u001b[0m\u001b[0m\n\u001b[0;32m--> 269\u001b[0;31m                 \u001b[0mold_sigint_handler\u001b[0m\u001b[0;34m(\u001b[0m\u001b[0;34m*\u001b[0m\u001b[0mhandler_args\u001b[0m\u001b[0;34m)\u001b[0m\u001b[0;34m\u001b[0m\u001b[0;34m\u001b[0m\u001b[0m\n\u001b[0m\u001b[1;32m    270\u001b[0m \u001b[0;34m\u001b[0m\u001b[0m\n\u001b[1;32m    271\u001b[0m \u001b[0;34m\u001b[0m\u001b[0m\n",
      "\u001b[0;31mKeyboardInterrupt\u001b[0m: "
     ]
    }
   ],
   "source": [
    "#NonBoundary\n",
    "times = [.150, .250, .3,.4, .5,.6,.7 ,1.1]\n",
    "fig = evoked_nb.plot_joint(times=times, title='Combination of butterfly plot and topomaps at NonBoundary condition')\n",
    "\n",
    "figure_path = os.path.join(data_folder, subject_code, 'eeg','analysis',\n",
    "                           f'{subject_code}__NonBoundary_butterfly_plot.pdf')\n",
    "\n",
    "# Save the figure\n",
    "fig.savefig(figure_path, format='pdf')"
   ]
  },
  {
   "cell_type": "code",
   "execution_count": null,
   "id": "1b2d3304",
   "metadata": {},
   "outputs": [],
   "source": [
    "#Boundary\n",
    "times = [.150, .250, .3,.4, .5,.6,.7 ,1.1]\n",
    "fig = evoked_b.plot_joint(times=times, title='Combination of butterfly plot and topomaps at Boundary condition')\n",
    "\n",
    "figure_path = os.path.join(data_folder, subject_code, 'eeg','analysis',\n",
    "                           f'{subject_code}__Boundary_butterfly_plot.pdf')\n",
    "\n",
    "# Save the figure\n",
    "fig.savefig(figure_path, format='pdf')\n"
   ]
  },
  {
   "cell_type": "markdown",
   "id": "66ea5dc2",
   "metadata": {},
   "source": [
    "###  NB AND B TRIALS "
   ]
  },
  {
   "cell_type": "code",
   "execution_count": 37,
   "id": "98a126d0",
   "metadata": {},
   "outputs": [],
   "source": [
    "#rather than generating individual graphs for each channel, \n",
    "#I consolidated the information into a single comprehensive graph containing all channels of interest.\n",
    "\n",
    "fig, axs = plt.subplots(nrows=2, ncols=4, figsize=(20, 10)) \n",
    "\n",
    "# Flatten the axs array for easy iteration\n",
    "axs = axs.flatten()\n",
    "\n",
    "for ax, electrode in zip(axs, electrode_names):\n",
    "    electrode_idx = np.array(data_channels) == electrode\n",
    "\n",
    "    ax.plot(b_ERP[electrode_idx,:].T) # b_ERP[electrode_idx,:].squeeze()\n",
    "    ax.plot(nb_ERP[electrode_idx,:].T)\n",
    "    ax.legend(['Boundary','NonBoundary'])\n",
    "    ax.set_xlabel('Time Rel. Stimulus Onset (ms)'); \n",
    "    ax.set_ylabel('Voltage $\\mu$V');\n",
    "    ax.set_xticks([0,100,200,400,600,800,1000]); #time point of the vector\n",
    "    ax.set_xticklabels([-100,0,100,300,500,700,900]); #actural time point\n",
    "    ax.set_title(f'{condition_label}_{electrode}')\n",
    "    ax.set_ylim(-10, 15)\n",
    "\n",
    "# Remove unused subplots when cols are not filled\n",
    "for i in range(len(electrode_names), len(axs)):\n",
    "    fig.delaxes(axs[i])\n",
    "\n",
    "# Adjust the space between the subplots\n",
    "plt.subplots_adjust(wspace=0.3, hspace=0.3)\n",
    "\n",
    "figure_fname = os.path.join(data_folder, subject_code, 'eeg','analysis','Boundary vs NonBoundary'\n",
    "                            f'{subject_code}_{condition_label}_All_Electrodes.pdf')\n",
    "# save the file \n",
    "plt.savefig(figure_fname, bbox_inches='tight')\n"
   ]
  },
  {
   "cell_type": "markdown",
   "id": "c853409b",
   "metadata": {},
   "source": [
    "#### Controlled"
   ]
  },
  {
   "cell_type": "code",
   "execution_count": 81,
   "id": "8fcf7ad1",
   "metadata": {},
   "outputs": [],
   "source": [
    "fig, axs = plt.subplots(nrows=2, ncols=4, figsize=(20, 10)) \n",
    "\n",
    "# Flatten the axs array for easy iteration\n",
    "axs = axs.flatten()\n",
    "\n",
    "for ax, electrode in zip(axs, electrode_name):\n",
    "    electrode_idx = np.array(data_channels) == electrode\n",
    "\n",
    "    ax.plot(b_ERP[electrode_idx,:].T) \n",
    "    ax.plot(nb_controlled_ERP[electrode_idx,:].T)\n",
    "    ax.legend(['Boundary','NonBoundary'])\n",
    "    ax.set_xlabel('Time Rel. Stimulus Onset (ms)'); ax.set_ylabel('Voltage $\\mu$V');\n",
    "    ax.set_xticks([0,100,200,400,600,800,1000]); #time point of the vector\n",
    "    ax.set_xticklabels([-100,0,100,300,500,700,900]); #actural time point\n",
    "    ax.set_ylim([-18, 15]) \n",
    "    ax.set_title(f'{condition_label}_{electrode}')\n",
    "\n",
    "# Remove unused subplots when cols are not filled\n",
    "for i in range(len(electrode_name), len(axs)):\n",
    "    fig.delaxes(axs[i])\n",
    "\n",
    "# Adjust the space between the subplots\n",
    "plt.subplots_adjust(wspace=0.3, hspace=0.3)\n",
    "\n",
    "#title\n",
    "title_text = f\"Comparison of ERPs for Boundary vs NonBoundary pairs after controlled for trial size - {subject_code}\"\n",
    "fig.suptitle(title_text, fontsize=20)\n",
    "\n",
    "figure_fname = os.path.join(data_folder, subject_code, 'eeg', 'analysis', \n",
    "                            f'CONTROLLED_Boundary vs NonBoundary_{subject_code}_{condition_label}_All_Electrodes.pdf')\n",
    "\n",
    "# save the file \n",
    "plt.savefig(figure_fname, bbox_inches='tight')"
   ]
  },
  {
   "cell_type": "markdown",
   "id": "42408409",
   "metadata": {},
   "source": [
    "## Source Mem."
   ]
  },
  {
   "cell_type": "markdown",
   "id": "56f8c3a9",
   "metadata": {},
   "source": [
    "### Create EEG epochs for source mem"
   ]
  },
  {
   "cell_type": "code",
   "execution_count": 119,
   "id": "58820005",
   "metadata": {},
   "outputs": [
    {
     "name": "stdout",
     "output_type": "stream",
     "text": [
      "[nan  1.  0.]\n"
     ]
    }
   ],
   "source": [
    "#converting the column names of a pandas DataFrame merged_file into a list.\n",
    "column_list = merged_file.columns.values.tolist()\n",
    "#printing out all the unique values in the 'correct_source' colum\n",
    "print(merged_file.correct_source.unique()) #the list contain three unique values: na, 1,0"
   ]
  },
  {
   "cell_type": "code",
   "execution_count": 120,
   "id": "782d1648",
   "metadata": {},
   "outputs": [
    {
     "name": "stdout",
     "output_type": "stream",
     "text": [
      "(82, 63, 1101)\n",
      "(170, 63, 1101)\n",
      "(63, 1101)\n",
      "(63, 1101)\n"
     ]
    }
   ],
   "source": [
    "idx = merged_file['correct_source']==1\n",
    "correct_source_epochs = epoch_data[idx,:,:]\n",
    "\n",
    "idx_1 = merged_file['correct_source']==0\n",
    "incorrect_source_epochs = epoch_data[idx_1,:,:]\n",
    "\n",
    "## PRINT SHAPE\n",
    "print(incorrect_source_epochs.shape)\n",
    "print(correct_source_epochs.shape)\n",
    "\n",
    "## averaging all 1 and 0 trials\n",
    "correct_source_ERP = np.nanmean(correct_source_epochs,axis=0)\n",
    "incorrect_source_ERP = np.nanmean(incorrect_source_epochs,axis=0)\n",
    "\n",
    "## PRINT SHAPE\n",
    "print(correct_source_ERP.shape)\n",
    "print(incorrect_source_ERP.shape)"
   ]
  },
  {
   "cell_type": "markdown",
   "id": "40f5377d",
   "metadata": {},
   "source": [
    "### Create EEG epochs for source mem"
   ]
  },
  {
   "cell_type": "markdown",
   "id": "c4c106e5",
   "metadata": {},
   "source": [
    "##### Federico's original code\n",
    "for electrode in electrode_name:\n",
    "    electrode_idx = np.array(data_channels)==electrode\n",
    "\n",
    "    plt.plot(correct_source_ERP[electrode_idx,:].T) # b_ERP[electrode_idx,:].squeeze()\n",
    "    plt.plot(incorrect_source_ERP[electrode_idx,:].T)\n",
    "    plt.legend(['correct','incorrect'])\n",
    "    plt.xlabel('Time Rel. Stimulus Onset (ms)'); plt.ylabel('Voltage $\\mu$V');\n",
    "    plt.xticks([100,300,500,700,900],[0,200,400,600,800]); \n",
    "    plt.title(f'{condition_label}_{electrode}')\n",
    "\n",
    "    figure_fname = os.path.join(data_folder, subject_code, 'eeg','analysis',\n",
    "                               f'{subject_code}_source_accuracy_{electrode}.pdf')\n",
    "    # save the file \n",
    "    plt.savefig(figure_fname)\n",
    "    plt.clf()"
   ]
  },
  {
   "cell_type": "code",
   "execution_count": 121,
   "id": "c33124fd",
   "metadata": {},
   "outputs": [],
   "source": [
    "fig, axs = plt.subplots(nrows=2, ncols=4, figsize=(20, 10)) \n",
    "\n",
    "# Flatten the axs array for easy iteration\n",
    "axs = axs.flatten()\n",
    "\n",
    "for ax, electrode in zip(axs, electrode_name):\n",
    "    electrode_idx = np.array(data_channels) == electrode\n",
    "\n",
    "    ax.plot(correct_source_ERP[electrode_idx,:].T) \n",
    "    ax.plot(incorrect_source_ERP[electrode_idx,:].T)\n",
    "    ax.legend(['correct','incorrect'])\n",
    "    ax.set_xlabel('Time Rel. Stimulus Onset (ms)'); \n",
    "    ax.set_ylabel('Voltage $\\mu$V');\n",
    "    ax.set_xticks([100,300,500,700,900]); \n",
    "    ax.set_xticklabels([0,200,400,600,800]); \n",
    "    #ax.set_ylim([-30, 10]) \n",
    "    ax.set_title(f'{condition_label}_{electrode}')\n",
    "\n",
    "# Remove unused subplots when cols are not filled\n",
    "for i in range(len(electrode_name), len(axs)):\n",
    "    fig.delaxes(axs[i])\n",
    "\n",
    "# Adjust the space between the subplots\n",
    "plt.subplots_adjust(wspace=0.3, hspace=0.3)\n",
    "\n",
    "#title\n",
    "fig.suptitle('Comparison of ERPs for Correct and Incorrect Sources', fontsize=20)\n",
    "\n",
    "figure_fname = os.path.join(data_folder, subject_code, 'eeg','analysis','Source Memory_Correct vs Incorrect'\n",
    "                            f'{subject_code}_{condition_label}_All_Electrodes.pdf')\n",
    "# save the file \n",
    "plt.savefig(figure_fname, bbox_inches='tight')"
   ]
  },
  {
   "cell_type": "markdown",
   "id": "86c7b064",
   "metadata": {},
   "source": [
    "### Create EEG epochs for source mem and BOUNDARY TRUE"
   ]
  },
  {
   "cell_type": "code",
   "execution_count": 122,
   "id": "0e423c34",
   "metadata": {},
   "outputs": [
    {
     "name": "stdout",
     "output_type": "stream",
     "text": [
      "(31, 63, 1101)\n",
      "(14, 63, 1101)\n"
     ]
    }
   ],
   "source": [
    "idx = merged_file['correct_source']==1 #creates a boolean Series where each value is True \n",
    "#print(idx)\n",
    "idx_2 = merged_file['TrueBoundary.x']=='B'\n",
    "#print(idx_2)\n",
    "idx.compare(idx_2, align_axis=1, keep_shape=True, keep_equal=True, result_names=('self', 'other'))\n",
    "\n",
    "boundary_correct_index = (idx == True) & (idx_2 == True)\n",
    "boundary_correct_epochs = epoch_data[boundary_correct_index,:,:]\n",
    "boundary_correct_ERP = np.nanmean(boundary_correct_epochs,axis=0)\n",
    "print(boundary_correct_epochs.shape)\n",
    "\n",
    "boundary_incorrect_index = (idx == False) & (idx_2 == True)\n",
    "boundary_incorrect_epochs = epoch_data[boundary_incorrect_index,:,:]\n",
    "boundary_incorrect_ERP = np.nanmean(boundary_incorrect_epochs,axis=0)\n",
    "print(boundary_incorrect_epochs.shape)"
   ]
  },
  {
   "cell_type": "markdown",
   "id": "fcd78d5a",
   "metadata": {},
   "source": [
    "##### Federico's original code\n",
    "for electrode in electrode_name:\n",
    "    electrode_idx = np.array(data_channels)==electrode\n",
    "\n",
    "    plt.plot(boundary_correct_ERP[electrode_idx,:].T) # b_ERP[electrode_idx,:].squeeze()\n",
    "    plt.plot(boundary_incorrect_ERP[electrode_idx,:].T)\n",
    "    plt.legend(['B correct','B incorrect'])\n",
    "    plt.xlabel('Time Rel. Stimulus Onset (ms)'); plt.ylabel('Voltage $\\mu$V');\n",
    "    plt.xticks([100,300,500,700,900],[0,200,400,600,800]); \n",
    "    plt.title(f'{condition_label}_{electrode}')\n",
    "\n",
    "    figure_fname = os.path.join(data_folder, subject_code, 'eeg','analysis',\n",
    "                               f'{subject_code}_boundary_source_{electrode}.pdf')\n",
    "    # save the file \n",
    "    plt.savefig(figure_fname)\n",
    "    plt.clf()"
   ]
  },
  {
   "cell_type": "code",
   "execution_count": 123,
   "id": "698a8c5a",
   "metadata": {},
   "outputs": [],
   "source": [
    "fig, axs = plt.subplots(nrows=2, ncols=4, figsize=(20, 10)) \n",
    "\n",
    "# Flatten the axs array for easy iteration\n",
    "axs = axs.flatten()\n",
    "\n",
    "for ax, electrode in zip(axs, electrode_name):\n",
    "    electrode_idx = np.array(data_channels) == electrode\n",
    "\n",
    "    ax.plot(boundary_correct_ERP[electrode_idx,:].T)\n",
    "    ax.plot(boundary_incorrect_ERP[electrode_idx,:].T)\n",
    "    ax.legend(['B correct', 'B incorrect'])\n",
    "    ax.set_xlabel('Time Rel. Stimulus Onset (ms)'); ax.set_ylabel('Voltage $\\mu$V');\n",
    "    ax.set_xticks([100,300,500,700,900]); ax.set_xticklabels([0,200,400,600,800]);\n",
    "    ax.set_title(f'{condition_label}_{electrode}')\n",
    "    \n",
    "# Remove unused subplots when cols are not filled\n",
    "for i in range(len(electrode_name), len(axs)):\n",
    "    fig.delaxes(axs[i])\n",
    "\n",
    "fig.suptitle('Comparison of ERPs for Correct and Incorrect Sources at Boundary Condition', fontsize=20)\n",
    "\n",
    "figure_fname = os.path.join(data_folder, subject_code, 'eeg','analysis',\n",
    "                            f'{subject_code}_boundary_source_All_Electrodes.pdf')\n",
    "# save the file \n",
    "plt.savefig(figure_fname)\n"
   ]
  },
  {
   "cell_type": "markdown",
   "id": "5409d300",
   "metadata": {},
   "source": [
    "## Graphing CORRECT AND INCORRRECT TRIALS"
   ]
  },
  {
   "cell_type": "code",
   "execution_count": 30,
   "id": "646eedf3",
   "metadata": {},
   "outputs": [],
   "source": [
    "#individual_ERP.squeeze().shape\n"
   ]
  },
  {
   "cell_type": "code",
   "execution_count": null,
   "id": "7ff2616c",
   "metadata": {},
   "outputs": [],
   "source": []
  }
 ],
 "metadata": {
  "kernelspec": {
   "display_name": "Python 3 (ipykernel)",
   "language": "python",
   "name": "python3"
  },
  "language_info": {
   "codemirror_mode": {
    "name": "ipython",
    "version": 3
   },
   "file_extension": ".py",
   "mimetype": "text/x-python",
   "name": "python",
   "nbconvert_exporter": "python",
   "pygments_lexer": "ipython3",
   "version": "3.10.9"
  },
  "widgets": {
   "application/vnd.jupyter.widget-state+json": {
    "state": {},
    "version_major": 2,
    "version_minor": 0
   }
  }
 },
 "nbformat": 4,
 "nbformat_minor": 5
}
