{
 "cells": [
  {
   "cell_type": "markdown",
   "id": "c64809ad-5e8b-457a-aa6a-8540027481ae",
   "metadata": {},
   "source": [
    "## NEvent Data Prep-Processing"
   ]
  },
  {
   "cell_type": "markdown",
   "id": "03fde62a-73aa-4d7e-a7ea-3ac9c41d8aae",
   "metadata": {},
   "source": [
    "NEvent Data Post-Processing: \n",
    "\n",
    "1. Introduction and overview of the dataset and objectives.\n",
    "2. Apply minimal filtering: Steps for initial data cleaning and filtering.\n",
    "3. Manually annotate bad data spans: Instructions and tools for marking poor-quality data.\n",
    "4. Save the filtered+annotated+cropped data to a new file: Finalizing the preprocessing phase by saving the cleaned data."
   ]
  },
  {
   "cell_type": "code",
   "execution_count": null,
   "id": "cfa70428-8b17-4d33-8eef-20e828c2f6c4",
   "metadata": {},
   "outputs": [],
   "source": [
    "# First, load the necessary packages\n",
    "import os\n",
    "import numpy as np\n",
    "import glob as glob\n",
    "import mne\n",
    "import matplotlib\n",
    "matplotlib.use('Qt5Agg')\n",
    "import matplotlib.pyplot as plt\n",
    "import scipy as sp\n",
    "import scipy.stats as spst\n",
    "import pandas as pd\n",
    "import sys\n",
    "import time\n",
    "import joblib\n",
    "\n",
    "# Determine which computer you're running on, setting the /mindstore/ezzyatlab \n",
    "# server location accordingly\n",
    "import socket\n",
    "if socket.gethostname() == 'Youssefs-iMac.local': # home office\n",
    "    server_folder = '/Volumes/ezzyatlab/'\n",
    "elif socket.gethostname() == 'Youssefs-MacBook-Air.local': # laptop\n",
    "    server_folder = '/Volumes/ezzyatlab/'\n",
    "elif socket.gethostname() == 'yezzyat-21': # lab office\n",
    "    server_folder = '/Volumes/ezzyatlab/'\n",
    "else:\n",
    "    server_folder = '/Volumes/ezzyatlab/'\n",
    "\n",
    "# Using the server location, load a library of lab code to be used\n",
    "# for post-processing\n",
    "\n",
    "sys.path.append(server_folder + 'labutils/') \n",
    "sys.path.append(server_folder + 'labutils/scalpeeg/') \n",
    "\n",
    "#exp_folder = server_folder + 'experiments/NEvent/'\n",
    "\n",
    "#participants = pd.read_csv(exp_folder + 'participants.tsv',\n",
    "#                           delimiter='\\t')\n",
    "\n",
    "#print(f'\\nMNE-Python Version: {mne.__version__}\\n')\n",
    "\n",
    "# Set the subject code/number for the to-be-processed dataset\n",
    "subject_code = 'sub-066'\n",
    "\n",
    "# Set the path to the data folder\n",
    "data_folder = server_folder + 'experiments/NEvent/exp_eeg_v1/' \n",
    "data_raw_file = os.path.join(data_folder,subject_code,\n",
    "                             'eeg','raw',f'{subject_code}_NEvent-task.vhdr')"
   ]
  },
  {
   "cell_type": "code",
   "execution_count": null,
   "id": "5f069858-63cc-42a6-a980-427d23379985",
   "metadata": {},
   "outputs": [],
   "source": [
    "\n",
    "\n",
    "# Low and high frequency filters for raw data\n",
    "raw_l_freq = 0.5\n",
    "raw_h_freq = 200\n",
    "linenoise_min = 60\n",
    "linenoise_max = 181\n",
    "\n",
    "# ICA parameters\n",
    "ica_sfreq = 250             # Resampling frequency\n",
    "ica_l_freq = 1.             # Filter cutoff: low\n",
    "ica_h_freq = None           # Filter cutoff: high\n",
    "ica_flat = dict(eeg=5e-6)   # Minimum channel amplitude for inclusion\n",
    "\n",
    "# Set the channel locations montage\n",
    "# montage = mne.channels.make_standard_montage('GSN-HydroCel-65_1.0')\n",
    "# montage.ch_names[-1] = 'E65'\n",
    "\n",
    "# # Rename the channels to 10-10 convention\n",
    "# tenten_file = os.path.join(server_folder,'labdocs','scalp','10-10_vs_EGI.csv')\n",
    "# #tenten = pd.read_excel(tenten_file)\n",
    "# tenten = pd.read_csv(tenten_file)\n",
    "\n",
    "# # Define old -> new mapping\n",
    "# chan_name_map = dict(zip(tenten.Labels_EGI64,tenten.Labels_1010)) \n",
    "\n",
    "# Scale factors, for use in raw.plot()\n",
    "scalings = dict(mag=1e-12, grad=4e-11, eeg=75e-6, eog=150e-6, ecg=5e-4,\n",
    "     emg=1e-3, ref_meg=1e-12, misc=1e-3, stim=1,\n",
    "     resp=1, chpi=1e-4, whitened=1e2)"
   ]
  },
  {
   "cell_type": "code",
   "execution_count": null,
   "id": "9eaee000-baf9-46dd-a628-42b839423dd7",
   "metadata": {},
   "outputs": [],
   "source": [
    "# Load the raw data object and apply the 10-10 channel names\n",
    "raw = mne.io.read_raw_brainvision(data_raw_file, preload=True)\n",
    "\n",
    "# Apply new channels names to raw object\n",
    "# raw.set_montage(montage)\n",
    "# mne.rename_channels(raw.info,chan_name_map)\n",
    "\n",
    "# # Change channel type for Cz\n",
    "# raw.set_channel_types({'Cz': 'misc'})\n",
    "    \n",
    "# # Create a list of the data channels (excluding Cz, EOG, STIM, etc)\n",
    "#data_channels = raw.ch_names[0:60]\n",
    "data_channels = raw.ch_names\n",
    "\n",
    "# Display the data, just make sure it looks like raw data\n",
    "# and that the channel names imported\n",
    "#fig = raw.plot(start=0, duration=60, n_channels=30, scalings=scalings)\n",
    "\n",
    "#print(f'{raw.n_times/(1000)} seconds')"
   ]
  },
  {
   "cell_type": "markdown",
   "id": "d41fa749-e47d-4000-9588-63c7ac84ba78",
   "metadata": {},
   "source": [
    "## Apply minimal filtering\n",
    "Filter the raw data to remove low-frequency drifts and high-frequency noise. Also apply a notch filter to remove the effects of 60 Hz line noise."
   ]
  },
  {
   "cell_type": "code",
   "execution_count": null,
   "id": "97c433dc-f270-44d6-a9d3-c7e1d14e02aa",
   "metadata": {},
   "outputs": [],
   "source": [
    "raw.load_data().filter(l_freq=raw_l_freq, h_freq=raw_h_freq)\n",
    "raw.notch_filter(np.arange(linenoise_min,linenoise_max,60))"
   ]
  },
  {
   "cell_type": "markdown",
   "id": "7412216a-a171-4d98-b3f7-03b72eb13ebd",
   "metadata": {},
   "source": [
    "## Manually annotate bad data spans"
   ]
  },
  {
   "cell_type": "code",
   "execution_count": null,
   "id": "0b38c6f1-3494-4569-8c7d-4f9adfc2e039",
   "metadata": {},
   "outputs": [],
   "source": [
    "fig = raw.plot(start=0, duration=60, n_channels=30, scalings=scalings)"
   ]
  },
  {
   "cell_type": "code",
   "execution_count": null,
   "id": "3e5be12a-d360-4cb5-8b71-aefa2a658d7c",
   "metadata": {},
   "outputs": [],
   "source": [
    "# Save your annotations to a csv file\n",
    "raw.annotations.save(data_raw_file.\n",
    "                     replace('.vhdr','-annotations.csv').replace('/raw/','/postproc/'),overwrite=True)"
   ]
  },
  {
   "cell_type": "code",
   "execution_count": null,
   "id": "7cdfebcc-cc34-4913-b62f-a77f74a25202",
   "metadata": {},
   "outputs": [],
   "source": [
    "#Identify the timepoint corresponding to end of the session\n",
    "# and set tmax to that value. This will crop the raw file and\n",
    "# remove any post-experiment portion of the recording.\n",
    "raw.info\n",
    "#raw.crop(tmax=5830)\n",
    "#raw.crop(tmin=170)"
   ]
  },
  {
   "cell_type": "code",
   "execution_count": null,
   "id": "1f61d4a2-b05e-42fa-babf-f45e4b7fc385",
   "metadata": {},
   "outputs": [],
   "source": [
    "# Identify bad electrodes(s)\n",
    "if raw.info['bads']:\n",
    "    print(\"Bad channels:\", raw.info['bads'])\n",
    "\n",
    "    # Find the index(es) of the bad channel(s)\n",
    "    bad_channel_idxs = mne.pick_channels(raw.info['ch_names'], include=raw.info['bads'])\n",
    "\n",
    "    # Set the bad channel(s) data to NaN\n",
    "    for idx in bad_channel_idxs:\n",
    "        raw._data[idx, :] = np.nan  \n",
    "else:\n",
    "    print(\"No bad channels identified.\")"
   ]
  },
  {
   "cell_type": "markdown",
   "id": "af31111a-026d-4c36-b87f-ea0aefcfda9a",
   "metadata": {},
   "source": [
    "## Save the filtered+annotated+cropped data to a new file "
   ]
  },
  {
   "cell_type": "code",
   "execution_count": null,
   "id": "b795d41d-6558-4c94-a1ed-c2af7f4c2434",
   "metadata": {},
   "outputs": [],
   "source": [
    "fname = os.path.join(data_folder,subject_code,'eeg','postproc',\n",
    "             f'{subject_code}_filtered_annot_crop.fif')\n",
    "\n",
    "raw.load_data().save(fname,overwrite=True)"
   ]
  }
 ],
 "metadata": {
  "kernelspec": {
   "display_name": "Python 3 (ipykernel)",
   "language": "python",
   "name": "python3"
  },
  "language_info": {
   "codemirror_mode": {
    "name": "ipython",
    "version": 3
   },
   "file_extension": ".py",
   "mimetype": "text/x-python",
   "name": "python",
   "nbconvert_exporter": "python",
   "pygments_lexer": "ipython3",
   "version": "3.10.8"
  }
 },
 "nbformat": 4,
 "nbformat_minor": 5
}
