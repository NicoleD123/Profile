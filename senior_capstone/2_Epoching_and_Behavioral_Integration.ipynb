{
 "cells": [
  {
   "cell_type": "markdown",
   "id": "4c51db09-a8aa-4a6e-b9f1-1617127efa17",
   "metadata": {},
   "source": [
    "# Data Epoching, Behavioral Data Integration, Graphing Individual ERP Notebook"
   ]
  },
  {
   "cell_type": "markdown",
   "id": "b4604630-aa9f-4346-9873-76861987859a",
   "metadata": {},
   "source": [
    "Create EEG epochs from event markers: Segmenting the continuous EEG data based on event markers.\n",
    "Load the behavioral data into a dataframe: Importing and preprocessing behavioral data to align with the EEG data."
   ]
  },
  {
   "cell_type": "code",
   "execution_count": 4,
   "id": "9f6275e1-b027-40c7-91d1-ff08da4e7163",
   "metadata": {},
   "outputs": [],
   "source": [
    "# First, load the necessary packages\n",
    "import os\n",
    "import numpy as np\n",
    "import glob as glob\n",
    "import mne\n",
    "import matplotlib\n",
    "matplotlib.use('Qt5Agg')\n",
    "import matplotlib.pyplot as plt\n",
    "import scipy as sp\n",
    "import scipy.stats as spst\n",
    "import pandas as pd\n",
    "import sys\n",
    "import time\n",
    "import joblib\n",
    "\n",
    "# Determine which computer you're running on, setting the /mindstore/ezzyatlab \n",
    "# server location accordingly\n",
    "import socket\n",
    "if socket.gethostname() == 'Youssefs-iMac.local': # home office\n",
    "    server_folder = '/Volumes/ezzyatlab/'\n",
    "elif socket.gethostname() == 'Youssefs-MacBook-Air.local': # laptop\n",
    "    server_folder = '/Volumes/ezzyatlab/'\n",
    "elif socket.gethostname() == 'yezzyat-21': # lab office\n",
    "    server_folder = '/Volumes/ezzyatlab/'\n",
    "else:\n",
    "    server_folder = '/Volumes/ezzyatlab/'\n",
    "\n",
    "# Using the server location, load a library of lab code to be used\n",
    "# for post-processing\n",
    "\n",
    "sys.path.append(server_folder + 'labutils/') \n",
    "sys.path.append(server_folder + 'labutils/scalpeeg/') \n",
    "\n",
    "#exp_folder = server_folder + 'experiments/NEvent/'\n",
    "\n",
    "#participants = pd.read_csv(exp_folder + 'participants.tsv',\n",
    "#                           delimiter='\\t')\n",
    "\n",
    "#print(f'\\nMNE-Python Version: {mne.__version__}\\n')\n",
    "\n",
    "# Set the subject code/number for the to-be-processed dataset\n",
    "subject_code = 'sub-066'\n",
    "\n",
    "# Set the path to the data folder\n",
    "data_folder = server_folder + 'experiments/NEvent/exp_eeg_v1/' \n",
    "data_raw_file = os.path.join(data_folder,subject_code,\n",
    "                             'eeg','raw',f'{subject_code}_NEvent-task.vhdr')"
   ]
  },
  {
   "cell_type": "markdown",
   "id": "c477c6f4-9f18-426d-a049-e3ce165d3b52",
   "metadata": {},
   "source": [
    "## Create EEG epochs from event markers "
   ]
  },
  {
   "cell_type": "code",
   "execution_count": 5,
   "id": "e2d9ac38-2857-40d9-8788-3a34c45e7b8f",
   "metadata": {},
   "outputs": [],
   "source": [
    "def load_and_process_eeg_data(data_folder, subject_code):\n",
    "    # Construct the file path\n",
    "    fname = os.path.join(data_folder, subject_code, 'eeg', 'postproc', \n",
    "                         f'{subject_code}_filtered_annot_crop.fif')\n",
    "\n",
    "    # Read the EEG data from the file\n",
    "    raw = mne.io.read_raw_fif(fname)\n",
    "\n",
    "    # fig = raw.plot(start=0, duration=60, n_channels=30, scalings=scalings)\n",
    "\n",
    "    # Get the data channels\n",
    "    data_channels = raw.ch_names\n",
    "\n",
    "    # Return the raw data and the channel names\n",
    "    return raw, data_channels\n",
    "\n",
    "#call function\n",
    "#raw, data_channels = load_and_process_eeg_data(data_folder, subject_code)"
   ]
  },
  {
   "cell_type": "code",
   "execution_count": 6,
   "id": "7300d014-eaf2-411b-8e2f-133016441844",
   "metadata": {},
   "outputs": [],
   "source": [
    "def read_event_markers (raw):\n",
    "    # Read the event markers and display them. Confirm the \n",
    "    # codes correspond to the dictionary in the next cell\n",
    "    events, tmp = mne.events_from_annotations(raw)\n",
    "\n",
    "    # Count up the number of each event\n",
    "    values, counts = np.unique(events[:,2], return_counts=True)\n",
    "    print('\\nEvent counts:',counts)\n",
    "    #standard should be 480 480\n",
    "    possible_events = {'Bit0/B  1': 'Tone',\n",
    "                   'Bit1/B  1': 'Image',\n",
    "                   'Bit2/B  1': 'Arrow',\n",
    "                   'Bit3/B  1': 'Distance',\n",
    "                   'Bit4/B  1': 'Order',\n",
    "                   'Bit5/B  1': 'Source',\n",
    "                   'Bit6/B  1': 'Start',\n",
    "                   'New Segment/':'New Segment/'}\n",
    "\n",
    "    event_id = {}\n",
    "    for ikey in tmp.keys():\n",
    "        event_id[possible_events[ikey]] = tmp[ikey]\n",
    "\n",
    "    del tmp\n",
    "    return events, counts, event_id\n",
    "\n",
    "#call function\n",
    "#events, event_counts, event_id = read_event_markers(raw)"
   ]
  },
  {
   "cell_type": "code",
   "execution_count": 7,
   "id": "084d704f-1fc2-4adc-b054-dfab8e290113",
   "metadata": {},
   "outputs": [],
   "source": [
    "def create_epochs(raw,events, event_id):\n",
    "    \n",
    "    tmin, tmax = -0.1, 1\n",
    "\n",
    "    condition_label = 'Tone'\n",
    "    # Create epochs\n",
    "    epochs = mne.Epochs(raw, events, event_id=event_id[condition_label], \n",
    "                    tmin=tmin, tmax=tmax, baseline=(None,0))\n",
    "\n",
    "    # Load the epoch data into an array\n",
    "    #epoch_data = epochs.get_data(picks='Pz')\n",
    "    epoch_data = epochs.get_data(picks=data_channels)\n",
    "\n",
    "    # Convert the data into units of microvolts!\n",
    "    epoch_data = epoch_data * 1e6\n",
    "    return epoch_data, condition_label, epochs\n",
    "\n",
    "#epoch_data, condition_label, epochs = create_epochs(raw,events, event_id)"
   ]
  },
  {
   "cell_type": "markdown",
   "id": "78972410-4418-4bfc-82c4-0b5cd2c92615",
   "metadata": {},
   "source": [
    "## Load the behavioral data into a dataframe"
   ]
  },
  {
   "cell_type": "code",
   "execution_count": 8,
   "id": "a1f9635c-8c44-4754-8e09-8cbaa832e09b",
   "metadata": {},
   "outputs": [],
   "source": [
    "def load_beh(server_folder, subject_code):\n",
    "    beh_path = server_folder + 'experiments/NEvent/exp_eeg_v1/eeg_beh_results/mergefile/mergefile_' + str(subject_code) + '.csv'\n",
    "    print(beh_path)\n",
    "    merged_file = pd.read_csv(beh_path)\n",
    "    merged_file.head()\n",
    "    print(merged_file.shape) #(480, 53) with practice trials ; (448,53) if without pratice trials \n",
    "    \n",
    "    return merged_file,beh_path\n",
    "\n",
    "#merged_file, beh_path= load_beh(server_folder, subject_code)\n",
    "#print(beh_path)\n",
    "# 484 rows in the dataframe --> B/NB tones"
   ]
  },
  {
   "cell_type": "markdown",
   "id": "01b2b7a2-2e75-414f-b98b-a45720423d3d",
   "metadata": {},
   "source": [
    "### CREATE EEG epochs for nb and b"
   ]
  },
  {
   "cell_type": "code",
   "execution_count": 12,
   "id": "05d62009-4ca9-4328-b138-5e37799c34b0",
   "metadata": {},
   "outputs": [
    {
     "name": "stdout",
     "output_type": "stream",
     "text": [
      "The shape of nb_epochs is (332, 63, 1101)\n",
      "The shape of b_epochs is (42, 63, 1101)\n",
      "(63, 1101)\n",
      "(63, 1101)\n"
     ]
    },
    {
     "name": "stderr",
     "output_type": "stream",
     "text": [
      "/var/folders/np/qpdx19z16vj6zqjjk4pnx35r0000gn/T/ipykernel_53282/1856373255.py:25: RuntimeWarning: Mean of empty slice\n",
      "  b_ERP = np.nanmean(b_epochs, axis=0)\n",
      "/var/folders/np/qpdx19z16vj6zqjjk4pnx35r0000gn/T/ipykernel_53282/1856373255.py:26: RuntimeWarning: Mean of empty slice\n",
      "  nb_ERP = np.nanmean(nb_epochs, axis=0)\n"
     ]
    }
   ],
   "source": [
    "def create_indiv_epochs(epochs, events, event_id, merged_file, epoch_data, condition_label):\n",
    "\n",
    "    # Convert condition label to event ID and find corresponding epochs\n",
    "    event_value = event_id[condition_label]\n",
    "    condition_events = events[:, 2] == event_value\n",
    "\n",
    "    # Identify which epochs were retained (not dropped due to annotation)\n",
    "    retained_epochs = epochs.selection\n",
    "    undropped_condition_events = np.isin(np.where(condition_events)[0], retained_epochs)\n",
    "\n",
    "    # Filter the behavioral data to match the undropped, condition-specific epochs, AND pratice round\n",
    "    b_epochs_indices = (merged_file['TrueBoundary.x'][undropped_condition_events] == 'B') & (merged_file['list_num'][undropped_condition_events] != 0)\n",
    "    nb_epochs_indices = (merged_file['TrueBoundary.x'][undropped_condition_events] == 'NB') & (merged_file['list_num'][undropped_condition_events] != 0)\n",
    "\n",
    "\n",
    "    # Select epochs based on behavioral indices\n",
    "    b_epochs = epoch_data[b_epochs_indices, :, :]\n",
    "    nb_epochs = epoch_data[nb_epochs_indices, :, :]\n",
    "\n",
    "    # Print shapes of the epochs for boundary and non-boundary conditions\n",
    "    #print(f\"The shape of nb_epochs is {nb_epochs.shape}\")\n",
    "    #print(f\"The shape of b_epochs is {b_epochs.shape}\")\n",
    "\n",
    "    # Averaging all B, NB, NB controlled trials\n",
    "    b_ERP = np.nanmean(b_epochs, axis=0)\n",
    "    nb_ERP = np.nanmean(nb_epochs, axis=0)\n",
    "\n",
    "    # Print ERP shapes\n",
    "    #print(nb_ERP.shape)\n",
    "    #print(b_ERP.shape)\n",
    "\n",
    "    return b_ERP, nb_ERP, b_epochs, nb_epochs\n",
    "\n",
    "#call function\n",
    "b_ERP, nb_ERP, b_epochs, nb_epochs= create_indiv_epochs(epochs, events, event_id, merged_file, epoch_data, condition_label)\n"
   ]
  },
  {
   "cell_type": "markdown",
   "id": "4d0f544c-9a06-4b71-9e2d-4203751db9ee",
   "metadata": {},
   "source": [
    "### CREATE EEG epochs for Correct and Incorrect source (For Boundary trial only)"
   ]
  },
  {
   "cell_type": "markdown",
   "id": "1dad2d3b-882f-4655-a99e-84c9e0c9807f",
   "metadata": {},
   "source": [
    "## Plotting for individual ERPs"
   ]
  },
  {
   "cell_type": "code",
   "execution_count": 10,
   "id": "3d15d626-795c-4990-af73-37a30928393c",
   "metadata": {},
   "outputs": [],
   "source": [
    "#electrodes of interests (for graphing)\n",
    "electrode_names = ['Cz', 'Pz', 'Fz', 'P3', 'P4', 'C4', 'C3', 'FC3']\n",
    "\n",
    "def plot_indiv_erps(electrode_names, data_channels, b_ERP, nb_ERP, condition_label, data_folder, subject_code):\n",
    "    # Create subplots\n",
    "    fig, axs = plt.subplots(nrows=2, ncols=4, figsize=(20, 10)) \n",
    "\n",
    "    # Flatten the axs array for easy iteration\n",
    "    axs = axs.flatten()\n",
    "\n",
    "    for ax, electrode in zip(axs, electrode_names):\n",
    "        electrode_idx = np.array(data_channels) == electrode\n",
    "\n",
    "        # Plot ERP for Boundary and NonBoundary conditions\n",
    "        ax.plot(b_ERP[electrode_idx,:].T) \n",
    "        ax.plot(nb_ERP[electrode_idx,:].T)\n",
    "        ax.legend(['Boundary','NonBoundary'])\n",
    "        ax.set_xlabel('Time Rel. Stimulus Onset (ms)'); \n",
    "        ax.set_ylabel('Voltage $\\mu$V');\n",
    "        ax.set_xticks([0,100,200,400,600,800,1000]); # Time point of the vector\n",
    "        ax.set_xticklabels([-100,0,100,300,500,700,900]); # Actual time point\n",
    "        ax.set_title(f'{condition_label}_{electrode}')\n",
    "\n",
    "    # Remove unused subplots if the number of electrodes is less than the number of subplots\n",
    "    for i in range(len(electrode_names), len(axs)):\n",
    "        fig.delaxes(axs[i])\n",
    "\n",
    "    # Adjust the space between the subplots\n",
    "    plt.subplots_adjust(wspace=0.3, hspace=0.3)\n",
    "\n",
    "    # Define the filename for the saved figure\n",
    "    figure_fname = os.path.join(data_folder, subject_code, 'eeg', 'analysis', f'Without_practice_{subject_code}_{condition_label}_All_Electrodes.pdf')\n",
    "    \n",
    "    # Save the figure\n",
    "    plt.savefig(figure_fname, bbox_inches='tight')\n",
    "    plt.close(fig)  # Close the figure to free memory\n",
    "    print(f'The figure for {subject_code} is saved')\n",
    "\n",
    "    return figure_fname\n",
    "\n",
    "#function call\n",
    "#plot_indiv_erps(electrode_names, data_channels, b_ERP, nb_ERP, condition_label, data_folder, subject_code)\n"
   ]
  },
  {
   "cell_type": "code",
   "execution_count": 14,
   "id": "bced3c3d-1a85-4ea5-860c-91a4c5429012",
   "metadata": {},
   "outputs": [
    {
     "data": {
      "text/plain": [
       "'\\nisubj= subject_code\\nraw, data_channels = load_and_process_eeg_data(data_folder, isubj)\\nevents, event_counts, event_id = read_event_markers(raw)\\nepoch_data, condition_label, epochs = create_epochs(raw,events, event_id)\\nmerged_file, beh_path= load_beh(server_folder, isubj)\\nb_ERP, nb_ERP, b_epochs, nb_epochs = create_indiv_epochs(epochs, events, event_id, merged_file, epoch_data, condition_label)\\nplot_indiv_erps(electrode_names, data_channels, b_ERP, nb_ERP, condition_label, data_folder, isubj)\\n'"
      ]
     },
     "execution_count": 14,
     "metadata": {},
     "output_type": "execute_result"
    }
   ],
   "source": [
    "\n",
    "# isubj= subject_code\n",
    "# raw, data_channels = load_and_process_eeg_data(data_folder, isubj)\n",
    "# events, event_counts, event_id = read_event_markers(raw)\n",
    "# epoch_data, condition_label, epochs = create_epochs(raw,events, event_id)\n",
    "# merged_file, beh_path= load_beh(server_folder, isubj)\n",
    "# b_ERP, nb_ERP, b_epochs, nb_epochs = create_indiv_epochs(epochs, events, event_id, merged_file, epoch_data, condition_label)\n",
    "# plot_indiv_erps(electrode_names, data_channels, b_ERP, nb_ERP, condition_label, data_folder, isubj)\n"
   ]
  }
 ],
 "metadata": {
  "kernelspec": {
   "display_name": "Python 3 (ipykernel)",
   "language": "python",
   "name": "python3"
  },
  "language_info": {
   "codemirror_mode": {
    "name": "ipython",
    "version": 3
   },
   "file_extension": ".py",
   "mimetype": "text/x-python",
   "name": "python",
   "nbconvert_exporter": "python",
   "pygments_lexer": "ipython3",
   "version": "3.10.8"
  }
 },
 "nbformat": 4,
 "nbformat_minor": 5
}
